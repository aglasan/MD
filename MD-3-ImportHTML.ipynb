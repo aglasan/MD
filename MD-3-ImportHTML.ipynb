{
 "cells": [
  {
   "cell_type": "markdown",
   "metadata": {},
   "source": [
    "Using Pandas and Numpy with Data\n",
    "--"
   ]
  },
  {
   "cell_type": "markdown",
   "metadata": {},
   "source": [
    "First, we'll need to import the libraries."
   ]
  },
  {
   "cell_type": "code",
   "execution_count": 1,
   "metadata": {
    "collapsed": true
   },
   "outputs": [],
   "source": [
    "import pandas as pd\n",
    "import numpy as np"
   ]
  },
  {
   "cell_type": "markdown",
   "metadata": {},
   "source": [
    "This is an example of how to read a table from Wikipedia, harvest some data, and change it around so that it reads well for NumPy and Pandas.\n",
    "\n",
    "This first entry describes the `.read_html()` function from the Pandas library."
   ]
  },
  {
   "cell_type": "code",
   "execution_count": 4,
   "metadata": {
    "collapsed": false
   },
   "outputs": [
    {
     "data": {
      "text/plain": [
       "[         Parks and Recreation (season 2)  \\\n",
       " 0                          DVD cover art   \n",
       " 1                               Starring   \n",
       " 2                      Country of origin   \n",
       " 3                        No. of episodes   \n",
       " 4                                Release   \n",
       " 5                       Original network   \n",
       " 6                       Original release   \n",
       " 7                      Season chronology   \n",
       " 8    ← Previous Season 1 Next → Season 3   \n",
       " 9  List of Parks and Recreation episodes   \n",
       " \n",
       "                                           Unnamed: 1  \n",
       " 0                                                NaN  \n",
       " 1  Amy Poehler Rashida Jones Paul Schneider Aziz ...  \n",
       " 2                                      United States  \n",
       " 3                                                 24  \n",
       " 4                                                NaN  \n",
       " 5                                                NBC  \n",
       " 6  September 17, 2009 (2009-09-17) – May 20, 2010...  \n",
       " 7                                                NaN  \n",
       " 8                                                NaN  \n",
       " 9                                                NaN  ,\n",
       "                                           No. overall  No. in season  \\\n",
       " 0                                                   7            1.0   \n",
       " 1   In order to promote the Pawnee Zoo, Leslie (Am...            NaN   \n",
       " 2                                                   8            2.0   \n",
       " 3   While taking care of the new community garden,...            NaN   \n",
       " 4                                                   9            3.0   \n",
       " 5   Leslie will be judging the annual Miss Pawnee ...            NaN   \n",
       " 6                                                  10            4.0   \n",
       " 7   Her first date with Dave is approaching fast, ...            NaN   \n",
       " 8                                                  11            5.0   \n",
       " 9   Leslie plays host to the visiting party from t...            NaN   \n",
       " 10                                                 12            6.0   \n",
       " 11  Leslie and the rest of the committee help a lo...            NaN   \n",
       " 12                                                 13            7.0   \n",
       " 13  Leslie enlists the help of Dave (guest star Lo...            NaN   \n",
       " 14                                                 14            8.0   \n",
       " 15  Leslie is upset when she learns the library de...            NaN   \n",
       " 16                                                 15            9.0   \n",
       " 17  One of the city hall murals is defaced, which ...            NaN   \n",
       " 18                                                 16           10.0   \n",
       " 19  Trying to prove that she is capable of just ha...            NaN   \n",
       " 20                                                 17           11.0   \n",
       " 21  When Ron sends Leslie up to the BMV, she accid...            NaN   \n",
       " 22                                                 18           12.0   \n",
       " 23  While designing the Pawnee Winter Wonderland F...            NaN   \n",
       " 24                                                 19           13.0   \n",
       " 25  With Dave out of the picture, Ann decides to s...            NaN   \n",
       " 26                                                 20           14.0   \n",
       " 27  After Leslie and Justin have a series of great...            NaN   \n",
       " 28                                                 21           15.0   \n",
       " 29  The Parks Department makes a deal with a local...            NaN   \n",
       " 30                                                 22           16.0   \n",
       " 31  When Leslie hears the story of an old flame of...            NaN   \n",
       " 32                                                 23           17.0   \n",
       " 33  Leslie becomes enraged when Ron wins a woman o...            NaN   \n",
       " 34                                                 24           18.0   \n",
       " 35  A local possum bites the mayor's dog on a golf...            NaN   \n",
       " 36                                                 25           19.0   \n",
       " 37  Jerry (Jim O'Heir) gets mugged by a group of k...            NaN   \n",
       " 38                                                 26           20.0   \n",
       " 39  Tasked with preparing the Summer Events Catalo...            NaN   \n",
       " 40                                                 27           21.0   \n",
       " 41  When April accidentally scheduled all of Ron's...            NaN   \n",
       " 42                                                 28           22.0   \n",
       " 43  Leslie volunteers to co-host the Pawnee Cares ...            NaN   \n",
       " 44                                                 29           23.0   \n",
       " 45  Leslie's new park plans are put on hold by a v...            NaN   \n",
       " 46                                                 30           24.0   \n",
       " 47  Ben and Chris have effectively shut down the g...            NaN   \n",
       " \n",
       "                   Title        Directed by      Written by  \\\n",
       " 0          \"Pawnee Zoo\"          Paul Feig    Norm Hiscock   \n",
       " 1                   NaN                NaN             NaN   \n",
       " 2        \"The Stakeout\"        Seth Gordon    Rachel Axler   \n",
       " 3                   NaN                NaN             NaN   \n",
       " 4      \"Beauty Pageant\"      Jason Woliner   Katie Dippold   \n",
       " 5                   NaN                NaN             NaN   \n",
       " 6       \"Practice Date\"    Alex Hardcastle  Harris Wittels   \n",
       " 7                   NaN                NaN             NaN   \n",
       " 8         \"Sister City\"      Michael Schur       Alan Yang   \n",
       " 9                   NaN                NaN             NaN   \n",
       " 10             \"Kaboom\"  Charles McDougall  Aisha Muharrar   \n",
       " 11                  NaN                NaN             NaN   \n",
       " 12       \"Greg Pikitis\"       Dean Holland   Michael Schur   \n",
       " 13                  NaN                NaN             NaN   \n",
       " 14      \"Ron and Tammy\"        Troy Miller     Mike Scully   \n",
       " 15                  NaN                NaN             NaN   \n",
       " 16          \"The Camel\"  Millicent Shelton    Rachel Axler   \n",
       " 17                  NaN                NaN             NaN   \n",
       " 18       \"Hunting Trip\"       Greg Daniels  Daniel J. Goor   \n",
       " 19                  NaN                NaN             NaN   \n",
       " 20      \"Tom's Divorce\"        Troy Miller  Harris Wittels   \n",
       " 21                  NaN                NaN             NaN   \n",
       " 22  \"Christmas Scandal\"    Randall Einhorn   Michael Schur   \n",
       " 23                  NaN                NaN             NaN   \n",
       " 24        \"The Set Up\"†        Troy Miller   Katie Dippold   \n",
       " 25                  NaN                NaN             NaN   \n",
       " 26     \"Leslie's House\"    Alex Hardcastle  Daniel J. Goor   \n",
       " 27                  NaN                NaN             NaN   \n",
       " 28           \"Sweetums\"       Dean Holland       Alan Yang   \n",
       " 29                  NaN                NaN             NaN   \n",
       " 30    \"Galentine's Day\"         Ken Kwapis   Michael Schur   \n",
       " 31                  NaN                NaN             NaN   \n",
       " 32  \"Woman of the Year\"      Jason Woliner    Norm Hiscock   \n",
       " 33                  NaN                NaN             NaN   \n",
       " 34         \"The Possum\"  Tristram Shapeero     Mike Scully   \n",
       " 35                  NaN                NaN             NaN   \n",
       " 36        \"Park Safety\"       Michael Trim  Aisha Muharrar   \n",
       " 37                  NaN                NaN             NaN   \n",
       " 38     \"Summer Catalog\"    Ken Whittingham   Katie Dippold   \n",
       " 39                  NaN                NaN             NaN   \n",
       " 40        \"94 Meetings\"  Tristram Shapeero  Harris Wittels   \n",
       " 41                  NaN                NaN             NaN   \n",
       " 42           \"Telethon\"        Troy Miller     Amy Poehler   \n",
       " 43                  NaN                NaN             NaN   \n",
       " 44   \"The Master Plan\"†       Dean Holland   Michael Schur   \n",
       " 45                  NaN                NaN             NaN   \n",
       " 46  \"Freddy Spaghetti\"†      Jason Woliner  Daniel J. Goor   \n",
       " 47                  NaN                NaN             NaN   \n",
       " \n",
       "      Original air date U.S. viewers (millions)  \n",
       " 0   September 17, 2009                 5.00[1]  \n",
       " 1                  NaN                     NaN  \n",
       " 2   September 24, 2009                 4.22[2]  \n",
       " 3                  NaN                     NaN  \n",
       " 4      October 1, 2009                 4.63[3]  \n",
       " 5                  NaN                     NaN  \n",
       " 6      October 8, 2009                 4.97[4]  \n",
       " 7                  NaN                     NaN  \n",
       " 8     October 15, 2009                 4.69[5]  \n",
       " 9                  NaN                     NaN  \n",
       " 10    October 22, 2009                 4.98[6]  \n",
       " 11                 NaN                     NaN  \n",
       " 12    October 29, 2009                 4.96[7]  \n",
       " 13                 NaN                     NaN  \n",
       " 14    November 5, 2009                 4.94[8]  \n",
       " 15                 NaN                     NaN  \n",
       " 16   November 12, 2009                 4.67[9]  \n",
       " 17                 NaN                     NaN  \n",
       " 18   November 19, 2009                4.61[10]  \n",
       " 19                 NaN                     NaN  \n",
       " 20    December 3, 2009                4.83[11]  \n",
       " 21                 NaN                     NaN  \n",
       " 22   December 10, 2009                4.90[12]  \n",
       " 23                 NaN                     NaN  \n",
       " 24    January 14, 2010                4.59[13]  \n",
       " 25                 NaN                     NaN  \n",
       " 26    January 21, 2010                4.35[14]  \n",
       " 27                 NaN                     NaN  \n",
       " 28    February 4, 2010                4.87[15]  \n",
       " 29                 NaN                     NaN  \n",
       " 30   February 11, 2010                4.98[16]  \n",
       " 31                 NaN                     NaN  \n",
       " 32       March 4, 2010                4.64[17]  \n",
       " 33                 NaN                     NaN  \n",
       " 34      March 11, 2010                4.61[18]  \n",
       " 35                 NaN                     NaN  \n",
       " 36      March 18, 2010                4.70[19]  \n",
       " 37                 NaN                     NaN  \n",
       " 38      March 25, 2010                4.49[20]  \n",
       " 39                 NaN                     NaN  \n",
       " 40      April 29, 2010                4.03[21]  \n",
       " 41                 NaN                     NaN  \n",
       " 42         May 6, 2010                4.03[22]  \n",
       " 43                 NaN                     NaN  \n",
       " 44        May 13, 2010                4.28[23]  \n",
       " 45                 NaN                     NaN  \n",
       " 46        May 20, 2010                4.55[24]  \n",
       " 47                 NaN                     NaN  ,\n",
       " Empty DataFrame\n",
       " Columns: [Unnamed: 0, Wikinews has related news: Paul Schneider leaving NBC's Parks and Recreation; Rob Lowe, Adam Scott to appear in series]\n",
       " Index: [],\n",
       "    v t e Parks and Recreation  \\\n",
       " 0                         NaN   \n",
       " 1                    Episodes   \n",
       " 2                    Season 1   \n",
       " 3                         NaN   \n",
       " 4                    Season 2   \n",
       " 5                         NaN   \n",
       " 6                    Season 3   \n",
       " 7                         NaN   \n",
       " 8                    Season 4   \n",
       " 9                         NaN   \n",
       " 10                   Season 5   \n",
       " 11                        NaN   \n",
       " 12                   Season 6   \n",
       " 13                        NaN   \n",
       " 14                   Season 7   \n",
       " 15                        NaN   \n",
       " 16                 Characters   \n",
       " 17                        NaN   \n",
       " 18                    Related   \n",
       " \n",
       "                                            Unnamed: 1 Unnamed: 2  \\\n",
       " 0                                                 NaN        NaN   \n",
       " 1   Season 1 \"Pilot\" \"Canvassing\" \"The Reporter\" \"...   Season 1   \n",
       " 2   \"Pilot\" \"Canvassing\" \"The Reporter\" \"Boys' Clu...        NaN   \n",
       " 3                                                 NaN        NaN   \n",
       " 4   \"Pawnee Zoo\" \"The Stakeout\" \"Beauty Pageant\" \"...        NaN   \n",
       " 5                                                 NaN        NaN   \n",
       " 6   \"Go Big or Go Home\" \"Flu Season\" \"Time Capsule...        NaN   \n",
       " 7                                                 NaN        NaN   \n",
       " 8   \"I'm Leslie Knope\" \"Born & Raised\" \"Bowling fo...        NaN   \n",
       " 9                                                 NaN        NaN   \n",
       " 10  \"Ms. Knope Goes to Washington\" \"Soda Tax\" \"How...        NaN   \n",
       " 11                                                NaN        NaN   \n",
       " 12                                                NaN        NaN   \n",
       " 13                                                NaN        NaN   \n",
       " 14                   \"Leslie and Ron\" \"One Last Ride\"        NaN   \n",
       " 15                                                NaN        NaN   \n",
       " 16  Leslie Knope Ron Swanson Tom Haverford Ann Per...        NaN   \n",
       " 17                                                NaN        NaN   \n",
       " 18                                             Pawnee        NaN   \n",
       " \n",
       "                                            Unnamed: 3  Unnamed: 4 Unnamed: 5  \\\n",
       " 0                                                 NaN         NaN        NaN   \n",
       " 1   \"Pilot\" \"Canvassing\" \"The Reporter\" \"Boys' Clu...         NaN   Season 2   \n",
       " 2                                                 NaN         NaN        NaN   \n",
       " 3                                                 NaN         NaN        NaN   \n",
       " 4                                                 NaN         NaN        NaN   \n",
       " 5                                                 NaN         NaN        NaN   \n",
       " 6                                                 NaN         NaN        NaN   \n",
       " 7                                                 NaN         NaN        NaN   \n",
       " 8                                                 NaN         NaN        NaN   \n",
       " 9                                                 NaN         NaN        NaN   \n",
       " 10                                                NaN         NaN        NaN   \n",
       " 11                                                NaN         NaN        NaN   \n",
       " 12                                                NaN         NaN        NaN   \n",
       " 13                                                NaN         NaN        NaN   \n",
       " 14                                                NaN         NaN        NaN   \n",
       " 15                                                NaN         NaN        NaN   \n",
       " 16                                                NaN         NaN        NaN   \n",
       " 17                                                NaN         NaN        NaN   \n",
       " 18                                                NaN         NaN        NaN   \n",
       " \n",
       "                                            Unnamed: 6  Unnamed: 7 Unnamed: 8  \\\n",
       " 0                                                 NaN         NaN        NaN   \n",
       " 1   \"Pawnee Zoo\" \"The Stakeout\" \"Beauty Pageant\" \"...         NaN   Season 3   \n",
       " 2                                                 NaN         NaN        NaN   \n",
       " 3                                                 NaN         NaN        NaN   \n",
       " 4                                                 NaN         NaN        NaN   \n",
       " 5                                                 NaN         NaN        NaN   \n",
       " 6                                                 NaN         NaN        NaN   \n",
       " 7                                                 NaN         NaN        NaN   \n",
       " 8                                                 NaN         NaN        NaN   \n",
       " 9                                                 NaN         NaN        NaN   \n",
       " 10                                                NaN         NaN        NaN   \n",
       " 11                                                NaN         NaN        NaN   \n",
       " 12                                                NaN         NaN        NaN   \n",
       " 13                                                NaN         NaN        NaN   \n",
       " 14                                                NaN         NaN        NaN   \n",
       " 15                                                NaN         NaN        NaN   \n",
       " 16                                                NaN         NaN        NaN   \n",
       " 17                                                NaN         NaN        NaN   \n",
       " 18                                                NaN         NaN        NaN   \n",
       " \n",
       "                                            Unnamed: 9  \\\n",
       " 0                                                 NaN   \n",
       " 1   \"Go Big or Go Home\" \"Flu Season\" \"Time Capsule...   \n",
       " 2                                                 NaN   \n",
       " 3                                                 NaN   \n",
       " 4                                                 NaN   \n",
       " 5                                                 NaN   \n",
       " 6                                                 NaN   \n",
       " 7                                                 NaN   \n",
       " 8                                                 NaN   \n",
       " 9                                                 NaN   \n",
       " 10                                                NaN   \n",
       " 11                                                NaN   \n",
       " 12                                                NaN   \n",
       " 13                                                NaN   \n",
       " 14                                                NaN   \n",
       " 15                                                NaN   \n",
       " 16                                                NaN   \n",
       " 17                                                NaN   \n",
       " 18                                                NaN   \n",
       " \n",
       "                   ...                 \\\n",
       " 0                 ...                  \n",
       " 1                 ...                  \n",
       " 2                 ...                  \n",
       " 3                 ...                  \n",
       " 4                 ...                  \n",
       " 5                 ...                  \n",
       " 6                 ...                  \n",
       " 7                 ...                  \n",
       " 8                 ...                  \n",
       " 9                 ...                  \n",
       " 10                ...                  \n",
       " 11                ...                  \n",
       " 12                ...                  \n",
       " 13                ...                  \n",
       " 14                ...                  \n",
       " 15                ...                  \n",
       " 16                ...                  \n",
       " 17                ...                  \n",
       " 18                ...                  \n",
       " \n",
       "                                           Unnamed: 12 Unnamed: 13 Unnamed: 14  \\\n",
       " 0                                                 NaN         NaN         NaN   \n",
       " 1   \"I'm Leslie Knope\" \"Born & Raised\" \"Bowling fo...         NaN    Season 5   \n",
       " 2                                                 NaN         NaN         NaN   \n",
       " 3                                                 NaN         NaN         NaN   \n",
       " 4                                                 NaN         NaN         NaN   \n",
       " 5                                                 NaN         NaN         NaN   \n",
       " 6                                                 NaN         NaN         NaN   \n",
       " 7                                                 NaN         NaN         NaN   \n",
       " 8                                                 NaN         NaN         NaN   \n",
       " 9                                                 NaN         NaN         NaN   \n",
       " 10                                                NaN         NaN         NaN   \n",
       " 11                                                NaN         NaN         NaN   \n",
       " 12                                                NaN         NaN         NaN   \n",
       " 13                                                NaN         NaN         NaN   \n",
       " 14                                                NaN         NaN         NaN   \n",
       " 15                                                NaN         NaN         NaN   \n",
       " 16                                                NaN         NaN         NaN   \n",
       " 17                                                NaN         NaN         NaN   \n",
       " 18                                                NaN         NaN         NaN   \n",
       " \n",
       "                                           Unnamed: 15 Unnamed: 16 Unnamed: 17  \\\n",
       " 0                                                 NaN         NaN         NaN   \n",
       " 1   \"Ms. Knope Goes to Washington\" \"Soda Tax\" \"How...         NaN    Season 6   \n",
       " 2                                                 NaN         NaN         NaN   \n",
       " 3                                                 NaN         NaN         NaN   \n",
       " 4                                                 NaN         NaN         NaN   \n",
       " 5                                                 NaN         NaN         NaN   \n",
       " 6                                                 NaN         NaN         NaN   \n",
       " 7                                                 NaN         NaN         NaN   \n",
       " 8                                                 NaN         NaN         NaN   \n",
       " 9                                                 NaN         NaN         NaN   \n",
       " 10                                                NaN         NaN         NaN   \n",
       " 11                                                NaN         NaN         NaN   \n",
       " 12                                                NaN         NaN         NaN   \n",
       " 13                                                NaN         NaN         NaN   \n",
       " 14                                                NaN         NaN         NaN   \n",
       " 15                                                NaN         NaN         NaN   \n",
       " 16                                                NaN         NaN         NaN   \n",
       " 17                                                NaN         NaN         NaN   \n",
       " 18                                                NaN         NaN         NaN   \n",
       " \n",
       "     Unnamed: 18 Unnamed: 19  Unnamed: 20                       Unnamed: 21  \n",
       " 0           NaN         NaN          NaN                               NaN  \n",
       " 1           NaN         NaN     Season 7  \"Leslie and Ron\" \"One Last Ride\"  \n",
       " 2           NaN         NaN          NaN                               NaN  \n",
       " 3           NaN         NaN          NaN                               NaN  \n",
       " 4           NaN         NaN          NaN                               NaN  \n",
       " 5           NaN         NaN          NaN                               NaN  \n",
       " 6           NaN         NaN          NaN                               NaN  \n",
       " 7           NaN         NaN          NaN                               NaN  \n",
       " 8           NaN         NaN          NaN                               NaN  \n",
       " 9           NaN         NaN          NaN                               NaN  \n",
       " 10          NaN         NaN          NaN                               NaN  \n",
       " 11          NaN         NaN          NaN                               NaN  \n",
       " 12          NaN         NaN          NaN                               NaN  \n",
       " 13          NaN         NaN          NaN                               NaN  \n",
       " 14          NaN         NaN          NaN                               NaN  \n",
       " 15          NaN         NaN          NaN                               NaN  \n",
       " 16          NaN         NaN          NaN                               NaN  \n",
       " 17          NaN         NaN          NaN                               NaN  \n",
       " 18          NaN         NaN          NaN                               NaN  \n",
       " \n",
       " [19 rows x 22 columns],\n",
       "     Season 1  \\\n",
       " 0        NaN   \n",
       " 1   Season 2   \n",
       " 2        NaN   \n",
       " 3   Season 3   \n",
       " 4        NaN   \n",
       " 5   Season 4   \n",
       " 6        NaN   \n",
       " 7   Season 5   \n",
       " 8        NaN   \n",
       " 9   Season 6   \n",
       " 10       NaN   \n",
       " 11  Season 7   \n",
       " \n",
       "    \"Pilot\" \"Canvassing\" \"The Reporter\" \"Boys' Club\" \"The Banquet\" \"Rock Show\"  \n",
       " 0                                                 NaN                          \n",
       " 1   \"Pawnee Zoo\" \"The Stakeout\" \"Beauty Pageant\" \"...                          \n",
       " 2                                                 NaN                          \n",
       " 3   \"Go Big or Go Home\" \"Flu Season\" \"Time Capsule...                          \n",
       " 4                                                 NaN                          \n",
       " 5   \"I'm Leslie Knope\" \"Born & Raised\" \"Bowling fo...                          \n",
       " 6                                                 NaN                          \n",
       " 7   \"Ms. Knope Goes to Washington\" \"Soda Tax\" \"How...                          \n",
       " 8                                                 NaN                          \n",
       " 9                                                 NaN                          \n",
       " 10                                                NaN                          \n",
       " 11                   \"Leslie and Ron\" \"One Last Ride\"                          ]"
      ]
     },
     "execution_count": 4,
     "metadata": {},
     "output_type": "execute_result"
    }
   ],
   "source": [
    "pd.read_html?\n",
    "episodes = pd.read_html(r'https://en.wikipedia.org/wiki/Parks_and_Recreation_%28season_2%29',header=0)\n",
    "episodes\n",
    "# also, uhoh..."
   ]
  },
  {
   "cell_type": "markdown",
   "metadata": {},
   "source": [
    "Above, we've passed two arguments to the pd.read_html() method. First, we're passing the URL. Pandas will use other installed libraries to connect to this URL and begin extracting the tables as a list. Notice the '[' at the beginning, and the ']' all the way at the end? That should be an indication that it is a list.  Of course you could always:"
   ]
  },
  {
   "cell_type": "code",
   "execution_count": 5,
   "metadata": {
    "collapsed": false
   },
   "outputs": [
    {
     "data": {
      "text/plain": [
       "list"
      ]
     },
     "execution_count": 5,
     "metadata": {},
     "output_type": "execute_result"
    }
   ],
   "source": [
    "type(episodes)"
   ]
  },
  {
   "cell_type": "markdown",
   "metadata": {},
   "source": [
    "Since it is a list, it can be sliced. We just need to figure out which slice we want. Is it the first one? (remember, Python is zero-indexed.)"
   ]
  },
  {
   "cell_type": "code",
   "execution_count": 6,
   "metadata": {
    "collapsed": false
   },
   "outputs": [
    {
     "data": {
      "text/html": [
       "<div>\n",
       "<table border=\"1\" class=\"dataframe\">\n",
       "  <thead>\n",
       "    <tr style=\"text-align: right;\">\n",
       "      <th></th>\n",
       "      <th>Parks and Recreation (season 2)</th>\n",
       "      <th>Unnamed: 1</th>\n",
       "    </tr>\n",
       "  </thead>\n",
       "  <tbody>\n",
       "    <tr>\n",
       "      <th>0</th>\n",
       "      <td>DVD cover art</td>\n",
       "      <td>NaN</td>\n",
       "    </tr>\n",
       "    <tr>\n",
       "      <th>1</th>\n",
       "      <td>Starring</td>\n",
       "      <td>Amy Poehler Rashida Jones Paul Schneider Aziz ...</td>\n",
       "    </tr>\n",
       "    <tr>\n",
       "      <th>2</th>\n",
       "      <td>Country of origin</td>\n",
       "      <td>United States</td>\n",
       "    </tr>\n",
       "    <tr>\n",
       "      <th>3</th>\n",
       "      <td>No. of episodes</td>\n",
       "      <td>24</td>\n",
       "    </tr>\n",
       "    <tr>\n",
       "      <th>4</th>\n",
       "      <td>Release</td>\n",
       "      <td>NaN</td>\n",
       "    </tr>\n",
       "    <tr>\n",
       "      <th>5</th>\n",
       "      <td>Original network</td>\n",
       "      <td>NBC</td>\n",
       "    </tr>\n",
       "    <tr>\n",
       "      <th>6</th>\n",
       "      <td>Original release</td>\n",
       "      <td>September 17, 2009 (2009-09-17) – May 20, 2010...</td>\n",
       "    </tr>\n",
       "    <tr>\n",
       "      <th>7</th>\n",
       "      <td>Season chronology</td>\n",
       "      <td>NaN</td>\n",
       "    </tr>\n",
       "    <tr>\n",
       "      <th>8</th>\n",
       "      <td>← Previous Season 1 Next → Season 3</td>\n",
       "      <td>NaN</td>\n",
       "    </tr>\n",
       "    <tr>\n",
       "      <th>9</th>\n",
       "      <td>List of Parks and Recreation episodes</td>\n",
       "      <td>NaN</td>\n",
       "    </tr>\n",
       "  </tbody>\n",
       "</table>\n",
       "</div>"
      ],
      "text/plain": [
       "         Parks and Recreation (season 2)  \\\n",
       "0                          DVD cover art   \n",
       "1                               Starring   \n",
       "2                      Country of origin   \n",
       "3                        No. of episodes   \n",
       "4                                Release   \n",
       "5                       Original network   \n",
       "6                       Original release   \n",
       "7                      Season chronology   \n",
       "8    ← Previous Season 1 Next → Season 3   \n",
       "9  List of Parks and Recreation episodes   \n",
       "\n",
       "                                          Unnamed: 1  \n",
       "0                                                NaN  \n",
       "1  Amy Poehler Rashida Jones Paul Schneider Aziz ...  \n",
       "2                                      United States  \n",
       "3                                                 24  \n",
       "4                                                NaN  \n",
       "5                                                NBC  \n",
       "6  September 17, 2009 (2009-09-17) – May 20, 2010...  \n",
       "7                                                NaN  \n",
       "8                                                NaN  \n",
       "9                                                NaN  "
      ]
     },
     "execution_count": 6,
     "metadata": {},
     "output_type": "execute_result"
    }
   ],
   "source": [
    "episodes[0]"
   ]
  },
  {
   "cell_type": "markdown",
   "metadata": {},
   "source": [
    "While we could do some things with this, this table isn't the full data we're looking to process. For this page, we're looking at the second table, or `episodes[1]`. We'll go ahead and assign that to a variable we're calling 'season'."
   ]
  },
  {
   "cell_type": "code",
   "execution_count": 7,
   "metadata": {
    "collapsed": false,
    "scrolled": false
   },
   "outputs": [
    {
     "data": {
      "text/html": [
       "<div>\n",
       "<table border=\"1\" class=\"dataframe\">\n",
       "  <thead>\n",
       "    <tr style=\"text-align: right;\">\n",
       "      <th></th>\n",
       "      <th>No. overall</th>\n",
       "      <th>No. in season</th>\n",
       "      <th>Title</th>\n",
       "      <th>Directed by</th>\n",
       "      <th>Written by</th>\n",
       "      <th>Original air date</th>\n",
       "      <th>U.S. viewers (millions)</th>\n",
       "    </tr>\n",
       "  </thead>\n",
       "  <tbody>\n",
       "    <tr>\n",
       "      <th>0</th>\n",
       "      <td>7</td>\n",
       "      <td>1.0</td>\n",
       "      <td>\"Pawnee Zoo\"</td>\n",
       "      <td>Paul Feig</td>\n",
       "      <td>Norm Hiscock</td>\n",
       "      <td>September 17, 2009</td>\n",
       "      <td>5.00[1]</td>\n",
       "    </tr>\n",
       "    <tr>\n",
       "      <th>1</th>\n",
       "      <td>In order to promote the Pawnee Zoo, Leslie (Am...</td>\n",
       "      <td>NaN</td>\n",
       "      <td>NaN</td>\n",
       "      <td>NaN</td>\n",
       "      <td>NaN</td>\n",
       "      <td>NaN</td>\n",
       "      <td>NaN</td>\n",
       "    </tr>\n",
       "    <tr>\n",
       "      <th>2</th>\n",
       "      <td>8</td>\n",
       "      <td>2.0</td>\n",
       "      <td>\"The Stakeout\"</td>\n",
       "      <td>Seth Gordon</td>\n",
       "      <td>Rachel Axler</td>\n",
       "      <td>September 24, 2009</td>\n",
       "      <td>4.22[2]</td>\n",
       "    </tr>\n",
       "    <tr>\n",
       "      <th>3</th>\n",
       "      <td>While taking care of the new community garden,...</td>\n",
       "      <td>NaN</td>\n",
       "      <td>NaN</td>\n",
       "      <td>NaN</td>\n",
       "      <td>NaN</td>\n",
       "      <td>NaN</td>\n",
       "      <td>NaN</td>\n",
       "    </tr>\n",
       "    <tr>\n",
       "      <th>4</th>\n",
       "      <td>9</td>\n",
       "      <td>3.0</td>\n",
       "      <td>\"Beauty Pageant\"</td>\n",
       "      <td>Jason Woliner</td>\n",
       "      <td>Katie Dippold</td>\n",
       "      <td>October 1, 2009</td>\n",
       "      <td>4.63[3]</td>\n",
       "    </tr>\n",
       "    <tr>\n",
       "      <th>5</th>\n",
       "      <td>Leslie will be judging the annual Miss Pawnee ...</td>\n",
       "      <td>NaN</td>\n",
       "      <td>NaN</td>\n",
       "      <td>NaN</td>\n",
       "      <td>NaN</td>\n",
       "      <td>NaN</td>\n",
       "      <td>NaN</td>\n",
       "    </tr>\n",
       "    <tr>\n",
       "      <th>6</th>\n",
       "      <td>10</td>\n",
       "      <td>4.0</td>\n",
       "      <td>\"Practice Date\"</td>\n",
       "      <td>Alex Hardcastle</td>\n",
       "      <td>Harris Wittels</td>\n",
       "      <td>October 8, 2009</td>\n",
       "      <td>4.97[4]</td>\n",
       "    </tr>\n",
       "    <tr>\n",
       "      <th>7</th>\n",
       "      <td>Her first date with Dave is approaching fast, ...</td>\n",
       "      <td>NaN</td>\n",
       "      <td>NaN</td>\n",
       "      <td>NaN</td>\n",
       "      <td>NaN</td>\n",
       "      <td>NaN</td>\n",
       "      <td>NaN</td>\n",
       "    </tr>\n",
       "    <tr>\n",
       "      <th>8</th>\n",
       "      <td>11</td>\n",
       "      <td>5.0</td>\n",
       "      <td>\"Sister City\"</td>\n",
       "      <td>Michael Schur</td>\n",
       "      <td>Alan Yang</td>\n",
       "      <td>October 15, 2009</td>\n",
       "      <td>4.69[5]</td>\n",
       "    </tr>\n",
       "    <tr>\n",
       "      <th>9</th>\n",
       "      <td>Leslie plays host to the visiting party from t...</td>\n",
       "      <td>NaN</td>\n",
       "      <td>NaN</td>\n",
       "      <td>NaN</td>\n",
       "      <td>NaN</td>\n",
       "      <td>NaN</td>\n",
       "      <td>NaN</td>\n",
       "    </tr>\n",
       "    <tr>\n",
       "      <th>10</th>\n",
       "      <td>12</td>\n",
       "      <td>6.0</td>\n",
       "      <td>\"Kaboom\"</td>\n",
       "      <td>Charles McDougall</td>\n",
       "      <td>Aisha Muharrar</td>\n",
       "      <td>October 22, 2009</td>\n",
       "      <td>4.98[6]</td>\n",
       "    </tr>\n",
       "    <tr>\n",
       "      <th>11</th>\n",
       "      <td>Leslie and the rest of the committee help a lo...</td>\n",
       "      <td>NaN</td>\n",
       "      <td>NaN</td>\n",
       "      <td>NaN</td>\n",
       "      <td>NaN</td>\n",
       "      <td>NaN</td>\n",
       "      <td>NaN</td>\n",
       "    </tr>\n",
       "    <tr>\n",
       "      <th>12</th>\n",
       "      <td>13</td>\n",
       "      <td>7.0</td>\n",
       "      <td>\"Greg Pikitis\"</td>\n",
       "      <td>Dean Holland</td>\n",
       "      <td>Michael Schur</td>\n",
       "      <td>October 29, 2009</td>\n",
       "      <td>4.96[7]</td>\n",
       "    </tr>\n",
       "    <tr>\n",
       "      <th>13</th>\n",
       "      <td>Leslie enlists the help of Dave (guest star Lo...</td>\n",
       "      <td>NaN</td>\n",
       "      <td>NaN</td>\n",
       "      <td>NaN</td>\n",
       "      <td>NaN</td>\n",
       "      <td>NaN</td>\n",
       "      <td>NaN</td>\n",
       "    </tr>\n",
       "    <tr>\n",
       "      <th>14</th>\n",
       "      <td>14</td>\n",
       "      <td>8.0</td>\n",
       "      <td>\"Ron and Tammy\"</td>\n",
       "      <td>Troy Miller</td>\n",
       "      <td>Mike Scully</td>\n",
       "      <td>November 5, 2009</td>\n",
       "      <td>4.94[8]</td>\n",
       "    </tr>\n",
       "    <tr>\n",
       "      <th>15</th>\n",
       "      <td>Leslie is upset when she learns the library de...</td>\n",
       "      <td>NaN</td>\n",
       "      <td>NaN</td>\n",
       "      <td>NaN</td>\n",
       "      <td>NaN</td>\n",
       "      <td>NaN</td>\n",
       "      <td>NaN</td>\n",
       "    </tr>\n",
       "    <tr>\n",
       "      <th>16</th>\n",
       "      <td>15</td>\n",
       "      <td>9.0</td>\n",
       "      <td>\"The Camel\"</td>\n",
       "      <td>Millicent Shelton</td>\n",
       "      <td>Rachel Axler</td>\n",
       "      <td>November 12, 2009</td>\n",
       "      <td>4.67[9]</td>\n",
       "    </tr>\n",
       "    <tr>\n",
       "      <th>17</th>\n",
       "      <td>One of the city hall murals is defaced, which ...</td>\n",
       "      <td>NaN</td>\n",
       "      <td>NaN</td>\n",
       "      <td>NaN</td>\n",
       "      <td>NaN</td>\n",
       "      <td>NaN</td>\n",
       "      <td>NaN</td>\n",
       "    </tr>\n",
       "    <tr>\n",
       "      <th>18</th>\n",
       "      <td>16</td>\n",
       "      <td>10.0</td>\n",
       "      <td>\"Hunting Trip\"</td>\n",
       "      <td>Greg Daniels</td>\n",
       "      <td>Daniel J. Goor</td>\n",
       "      <td>November 19, 2009</td>\n",
       "      <td>4.61[10]</td>\n",
       "    </tr>\n",
       "    <tr>\n",
       "      <th>19</th>\n",
       "      <td>Trying to prove that she is capable of just ha...</td>\n",
       "      <td>NaN</td>\n",
       "      <td>NaN</td>\n",
       "      <td>NaN</td>\n",
       "      <td>NaN</td>\n",
       "      <td>NaN</td>\n",
       "      <td>NaN</td>\n",
       "    </tr>\n",
       "    <tr>\n",
       "      <th>20</th>\n",
       "      <td>17</td>\n",
       "      <td>11.0</td>\n",
       "      <td>\"Tom's Divorce\"</td>\n",
       "      <td>Troy Miller</td>\n",
       "      <td>Harris Wittels</td>\n",
       "      <td>December 3, 2009</td>\n",
       "      <td>4.83[11]</td>\n",
       "    </tr>\n",
       "    <tr>\n",
       "      <th>21</th>\n",
       "      <td>When Ron sends Leslie up to the BMV, she accid...</td>\n",
       "      <td>NaN</td>\n",
       "      <td>NaN</td>\n",
       "      <td>NaN</td>\n",
       "      <td>NaN</td>\n",
       "      <td>NaN</td>\n",
       "      <td>NaN</td>\n",
       "    </tr>\n",
       "    <tr>\n",
       "      <th>22</th>\n",
       "      <td>18</td>\n",
       "      <td>12.0</td>\n",
       "      <td>\"Christmas Scandal\"</td>\n",
       "      <td>Randall Einhorn</td>\n",
       "      <td>Michael Schur</td>\n",
       "      <td>December 10, 2009</td>\n",
       "      <td>4.90[12]</td>\n",
       "    </tr>\n",
       "    <tr>\n",
       "      <th>23</th>\n",
       "      <td>While designing the Pawnee Winter Wonderland F...</td>\n",
       "      <td>NaN</td>\n",
       "      <td>NaN</td>\n",
       "      <td>NaN</td>\n",
       "      <td>NaN</td>\n",
       "      <td>NaN</td>\n",
       "      <td>NaN</td>\n",
       "    </tr>\n",
       "    <tr>\n",
       "      <th>24</th>\n",
       "      <td>19</td>\n",
       "      <td>13.0</td>\n",
       "      <td>\"The Set Up\"†</td>\n",
       "      <td>Troy Miller</td>\n",
       "      <td>Katie Dippold</td>\n",
       "      <td>January 14, 2010</td>\n",
       "      <td>4.59[13]</td>\n",
       "    </tr>\n",
       "    <tr>\n",
       "      <th>25</th>\n",
       "      <td>With Dave out of the picture, Ann decides to s...</td>\n",
       "      <td>NaN</td>\n",
       "      <td>NaN</td>\n",
       "      <td>NaN</td>\n",
       "      <td>NaN</td>\n",
       "      <td>NaN</td>\n",
       "      <td>NaN</td>\n",
       "    </tr>\n",
       "    <tr>\n",
       "      <th>26</th>\n",
       "      <td>20</td>\n",
       "      <td>14.0</td>\n",
       "      <td>\"Leslie's House\"</td>\n",
       "      <td>Alex Hardcastle</td>\n",
       "      <td>Daniel J. Goor</td>\n",
       "      <td>January 21, 2010</td>\n",
       "      <td>4.35[14]</td>\n",
       "    </tr>\n",
       "    <tr>\n",
       "      <th>27</th>\n",
       "      <td>After Leslie and Justin have a series of great...</td>\n",
       "      <td>NaN</td>\n",
       "      <td>NaN</td>\n",
       "      <td>NaN</td>\n",
       "      <td>NaN</td>\n",
       "      <td>NaN</td>\n",
       "      <td>NaN</td>\n",
       "    </tr>\n",
       "    <tr>\n",
       "      <th>28</th>\n",
       "      <td>21</td>\n",
       "      <td>15.0</td>\n",
       "      <td>\"Sweetums\"</td>\n",
       "      <td>Dean Holland</td>\n",
       "      <td>Alan Yang</td>\n",
       "      <td>February 4, 2010</td>\n",
       "      <td>4.87[15]</td>\n",
       "    </tr>\n",
       "    <tr>\n",
       "      <th>29</th>\n",
       "      <td>The Parks Department makes a deal with a local...</td>\n",
       "      <td>NaN</td>\n",
       "      <td>NaN</td>\n",
       "      <td>NaN</td>\n",
       "      <td>NaN</td>\n",
       "      <td>NaN</td>\n",
       "      <td>NaN</td>\n",
       "    </tr>\n",
       "    <tr>\n",
       "      <th>30</th>\n",
       "      <td>22</td>\n",
       "      <td>16.0</td>\n",
       "      <td>\"Galentine's Day\"</td>\n",
       "      <td>Ken Kwapis</td>\n",
       "      <td>Michael Schur</td>\n",
       "      <td>February 11, 2010</td>\n",
       "      <td>4.98[16]</td>\n",
       "    </tr>\n",
       "    <tr>\n",
       "      <th>31</th>\n",
       "      <td>When Leslie hears the story of an old flame of...</td>\n",
       "      <td>NaN</td>\n",
       "      <td>NaN</td>\n",
       "      <td>NaN</td>\n",
       "      <td>NaN</td>\n",
       "      <td>NaN</td>\n",
       "      <td>NaN</td>\n",
       "    </tr>\n",
       "    <tr>\n",
       "      <th>32</th>\n",
       "      <td>23</td>\n",
       "      <td>17.0</td>\n",
       "      <td>\"Woman of the Year\"</td>\n",
       "      <td>Jason Woliner</td>\n",
       "      <td>Norm Hiscock</td>\n",
       "      <td>March 4, 2010</td>\n",
       "      <td>4.64[17]</td>\n",
       "    </tr>\n",
       "    <tr>\n",
       "      <th>33</th>\n",
       "      <td>Leslie becomes enraged when Ron wins a woman o...</td>\n",
       "      <td>NaN</td>\n",
       "      <td>NaN</td>\n",
       "      <td>NaN</td>\n",
       "      <td>NaN</td>\n",
       "      <td>NaN</td>\n",
       "      <td>NaN</td>\n",
       "    </tr>\n",
       "    <tr>\n",
       "      <th>34</th>\n",
       "      <td>24</td>\n",
       "      <td>18.0</td>\n",
       "      <td>\"The Possum\"</td>\n",
       "      <td>Tristram Shapeero</td>\n",
       "      <td>Mike Scully</td>\n",
       "      <td>March 11, 2010</td>\n",
       "      <td>4.61[18]</td>\n",
       "    </tr>\n",
       "    <tr>\n",
       "      <th>35</th>\n",
       "      <td>A local possum bites the mayor's dog on a golf...</td>\n",
       "      <td>NaN</td>\n",
       "      <td>NaN</td>\n",
       "      <td>NaN</td>\n",
       "      <td>NaN</td>\n",
       "      <td>NaN</td>\n",
       "      <td>NaN</td>\n",
       "    </tr>\n",
       "    <tr>\n",
       "      <th>36</th>\n",
       "      <td>25</td>\n",
       "      <td>19.0</td>\n",
       "      <td>\"Park Safety\"</td>\n",
       "      <td>Michael Trim</td>\n",
       "      <td>Aisha Muharrar</td>\n",
       "      <td>March 18, 2010</td>\n",
       "      <td>4.70[19]</td>\n",
       "    </tr>\n",
       "    <tr>\n",
       "      <th>37</th>\n",
       "      <td>Jerry (Jim O'Heir) gets mugged by a group of k...</td>\n",
       "      <td>NaN</td>\n",
       "      <td>NaN</td>\n",
       "      <td>NaN</td>\n",
       "      <td>NaN</td>\n",
       "      <td>NaN</td>\n",
       "      <td>NaN</td>\n",
       "    </tr>\n",
       "    <tr>\n",
       "      <th>38</th>\n",
       "      <td>26</td>\n",
       "      <td>20.0</td>\n",
       "      <td>\"Summer Catalog\"</td>\n",
       "      <td>Ken Whittingham</td>\n",
       "      <td>Katie Dippold</td>\n",
       "      <td>March 25, 2010</td>\n",
       "      <td>4.49[20]</td>\n",
       "    </tr>\n",
       "    <tr>\n",
       "      <th>39</th>\n",
       "      <td>Tasked with preparing the Summer Events Catalo...</td>\n",
       "      <td>NaN</td>\n",
       "      <td>NaN</td>\n",
       "      <td>NaN</td>\n",
       "      <td>NaN</td>\n",
       "      <td>NaN</td>\n",
       "      <td>NaN</td>\n",
       "    </tr>\n",
       "    <tr>\n",
       "      <th>40</th>\n",
       "      <td>27</td>\n",
       "      <td>21.0</td>\n",
       "      <td>\"94 Meetings\"</td>\n",
       "      <td>Tristram Shapeero</td>\n",
       "      <td>Harris Wittels</td>\n",
       "      <td>April 29, 2010</td>\n",
       "      <td>4.03[21]</td>\n",
       "    </tr>\n",
       "    <tr>\n",
       "      <th>41</th>\n",
       "      <td>When April accidentally scheduled all of Ron's...</td>\n",
       "      <td>NaN</td>\n",
       "      <td>NaN</td>\n",
       "      <td>NaN</td>\n",
       "      <td>NaN</td>\n",
       "      <td>NaN</td>\n",
       "      <td>NaN</td>\n",
       "    </tr>\n",
       "    <tr>\n",
       "      <th>42</th>\n",
       "      <td>28</td>\n",
       "      <td>22.0</td>\n",
       "      <td>\"Telethon\"</td>\n",
       "      <td>Troy Miller</td>\n",
       "      <td>Amy Poehler</td>\n",
       "      <td>May 6, 2010</td>\n",
       "      <td>4.03[22]</td>\n",
       "    </tr>\n",
       "    <tr>\n",
       "      <th>43</th>\n",
       "      <td>Leslie volunteers to co-host the Pawnee Cares ...</td>\n",
       "      <td>NaN</td>\n",
       "      <td>NaN</td>\n",
       "      <td>NaN</td>\n",
       "      <td>NaN</td>\n",
       "      <td>NaN</td>\n",
       "      <td>NaN</td>\n",
       "    </tr>\n",
       "    <tr>\n",
       "      <th>44</th>\n",
       "      <td>29</td>\n",
       "      <td>23.0</td>\n",
       "      <td>\"The Master Plan\"†</td>\n",
       "      <td>Dean Holland</td>\n",
       "      <td>Michael Schur</td>\n",
       "      <td>May 13, 2010</td>\n",
       "      <td>4.28[23]</td>\n",
       "    </tr>\n",
       "    <tr>\n",
       "      <th>45</th>\n",
       "      <td>Leslie's new park plans are put on hold by a v...</td>\n",
       "      <td>NaN</td>\n",
       "      <td>NaN</td>\n",
       "      <td>NaN</td>\n",
       "      <td>NaN</td>\n",
       "      <td>NaN</td>\n",
       "      <td>NaN</td>\n",
       "    </tr>\n",
       "    <tr>\n",
       "      <th>46</th>\n",
       "      <td>30</td>\n",
       "      <td>24.0</td>\n",
       "      <td>\"Freddy Spaghetti\"†</td>\n",
       "      <td>Jason Woliner</td>\n",
       "      <td>Daniel J. Goor</td>\n",
       "      <td>May 20, 2010</td>\n",
       "      <td>4.55[24]</td>\n",
       "    </tr>\n",
       "    <tr>\n",
       "      <th>47</th>\n",
       "      <td>Ben and Chris have effectively shut down the g...</td>\n",
       "      <td>NaN</td>\n",
       "      <td>NaN</td>\n",
       "      <td>NaN</td>\n",
       "      <td>NaN</td>\n",
       "      <td>NaN</td>\n",
       "      <td>NaN</td>\n",
       "    </tr>\n",
       "  </tbody>\n",
       "</table>\n",
       "</div>"
      ],
      "text/plain": [
       "                                          No. overall  No. in season  \\\n",
       "0                                                   7            1.0   \n",
       "1   In order to promote the Pawnee Zoo, Leslie (Am...            NaN   \n",
       "2                                                   8            2.0   \n",
       "3   While taking care of the new community garden,...            NaN   \n",
       "4                                                   9            3.0   \n",
       "5   Leslie will be judging the annual Miss Pawnee ...            NaN   \n",
       "6                                                  10            4.0   \n",
       "7   Her first date with Dave is approaching fast, ...            NaN   \n",
       "8                                                  11            5.0   \n",
       "9   Leslie plays host to the visiting party from t...            NaN   \n",
       "10                                                 12            6.0   \n",
       "11  Leslie and the rest of the committee help a lo...            NaN   \n",
       "12                                                 13            7.0   \n",
       "13  Leslie enlists the help of Dave (guest star Lo...            NaN   \n",
       "14                                                 14            8.0   \n",
       "15  Leslie is upset when she learns the library de...            NaN   \n",
       "16                                                 15            9.0   \n",
       "17  One of the city hall murals is defaced, which ...            NaN   \n",
       "18                                                 16           10.0   \n",
       "19  Trying to prove that she is capable of just ha...            NaN   \n",
       "20                                                 17           11.0   \n",
       "21  When Ron sends Leslie up to the BMV, she accid...            NaN   \n",
       "22                                                 18           12.0   \n",
       "23  While designing the Pawnee Winter Wonderland F...            NaN   \n",
       "24                                                 19           13.0   \n",
       "25  With Dave out of the picture, Ann decides to s...            NaN   \n",
       "26                                                 20           14.0   \n",
       "27  After Leslie and Justin have a series of great...            NaN   \n",
       "28                                                 21           15.0   \n",
       "29  The Parks Department makes a deal with a local...            NaN   \n",
       "30                                                 22           16.0   \n",
       "31  When Leslie hears the story of an old flame of...            NaN   \n",
       "32                                                 23           17.0   \n",
       "33  Leslie becomes enraged when Ron wins a woman o...            NaN   \n",
       "34                                                 24           18.0   \n",
       "35  A local possum bites the mayor's dog on a golf...            NaN   \n",
       "36                                                 25           19.0   \n",
       "37  Jerry (Jim O'Heir) gets mugged by a group of k...            NaN   \n",
       "38                                                 26           20.0   \n",
       "39  Tasked with preparing the Summer Events Catalo...            NaN   \n",
       "40                                                 27           21.0   \n",
       "41  When April accidentally scheduled all of Ron's...            NaN   \n",
       "42                                                 28           22.0   \n",
       "43  Leslie volunteers to co-host the Pawnee Cares ...            NaN   \n",
       "44                                                 29           23.0   \n",
       "45  Leslie's new park plans are put on hold by a v...            NaN   \n",
       "46                                                 30           24.0   \n",
       "47  Ben and Chris have effectively shut down the g...            NaN   \n",
       "\n",
       "                  Title        Directed by      Written by  \\\n",
       "0          \"Pawnee Zoo\"          Paul Feig    Norm Hiscock   \n",
       "1                   NaN                NaN             NaN   \n",
       "2        \"The Stakeout\"        Seth Gordon    Rachel Axler   \n",
       "3                   NaN                NaN             NaN   \n",
       "4      \"Beauty Pageant\"      Jason Woliner   Katie Dippold   \n",
       "5                   NaN                NaN             NaN   \n",
       "6       \"Practice Date\"    Alex Hardcastle  Harris Wittels   \n",
       "7                   NaN                NaN             NaN   \n",
       "8         \"Sister City\"      Michael Schur       Alan Yang   \n",
       "9                   NaN                NaN             NaN   \n",
       "10             \"Kaboom\"  Charles McDougall  Aisha Muharrar   \n",
       "11                  NaN                NaN             NaN   \n",
       "12       \"Greg Pikitis\"       Dean Holland   Michael Schur   \n",
       "13                  NaN                NaN             NaN   \n",
       "14      \"Ron and Tammy\"        Troy Miller     Mike Scully   \n",
       "15                  NaN                NaN             NaN   \n",
       "16          \"The Camel\"  Millicent Shelton    Rachel Axler   \n",
       "17                  NaN                NaN             NaN   \n",
       "18       \"Hunting Trip\"       Greg Daniels  Daniel J. Goor   \n",
       "19                  NaN                NaN             NaN   \n",
       "20      \"Tom's Divorce\"        Troy Miller  Harris Wittels   \n",
       "21                  NaN                NaN             NaN   \n",
       "22  \"Christmas Scandal\"    Randall Einhorn   Michael Schur   \n",
       "23                  NaN                NaN             NaN   \n",
       "24        \"The Set Up\"†        Troy Miller   Katie Dippold   \n",
       "25                  NaN                NaN             NaN   \n",
       "26     \"Leslie's House\"    Alex Hardcastle  Daniel J. Goor   \n",
       "27                  NaN                NaN             NaN   \n",
       "28           \"Sweetums\"       Dean Holland       Alan Yang   \n",
       "29                  NaN                NaN             NaN   \n",
       "30    \"Galentine's Day\"         Ken Kwapis   Michael Schur   \n",
       "31                  NaN                NaN             NaN   \n",
       "32  \"Woman of the Year\"      Jason Woliner    Norm Hiscock   \n",
       "33                  NaN                NaN             NaN   \n",
       "34         \"The Possum\"  Tristram Shapeero     Mike Scully   \n",
       "35                  NaN                NaN             NaN   \n",
       "36        \"Park Safety\"       Michael Trim  Aisha Muharrar   \n",
       "37                  NaN                NaN             NaN   \n",
       "38     \"Summer Catalog\"    Ken Whittingham   Katie Dippold   \n",
       "39                  NaN                NaN             NaN   \n",
       "40        \"94 Meetings\"  Tristram Shapeero  Harris Wittels   \n",
       "41                  NaN                NaN             NaN   \n",
       "42           \"Telethon\"        Troy Miller     Amy Poehler   \n",
       "43                  NaN                NaN             NaN   \n",
       "44   \"The Master Plan\"†       Dean Holland   Michael Schur   \n",
       "45                  NaN                NaN             NaN   \n",
       "46  \"Freddy Spaghetti\"†      Jason Woliner  Daniel J. Goor   \n",
       "47                  NaN                NaN             NaN   \n",
       "\n",
       "     Original air date U.S. viewers (millions)  \n",
       "0   September 17, 2009                 5.00[1]  \n",
       "1                  NaN                     NaN  \n",
       "2   September 24, 2009                 4.22[2]  \n",
       "3                  NaN                     NaN  \n",
       "4      October 1, 2009                 4.63[3]  \n",
       "5                  NaN                     NaN  \n",
       "6      October 8, 2009                 4.97[4]  \n",
       "7                  NaN                     NaN  \n",
       "8     October 15, 2009                 4.69[5]  \n",
       "9                  NaN                     NaN  \n",
       "10    October 22, 2009                 4.98[6]  \n",
       "11                 NaN                     NaN  \n",
       "12    October 29, 2009                 4.96[7]  \n",
       "13                 NaN                     NaN  \n",
       "14    November 5, 2009                 4.94[8]  \n",
       "15                 NaN                     NaN  \n",
       "16   November 12, 2009                 4.67[9]  \n",
       "17                 NaN                     NaN  \n",
       "18   November 19, 2009                4.61[10]  \n",
       "19                 NaN                     NaN  \n",
       "20    December 3, 2009                4.83[11]  \n",
       "21                 NaN                     NaN  \n",
       "22   December 10, 2009                4.90[12]  \n",
       "23                 NaN                     NaN  \n",
       "24    January 14, 2010                4.59[13]  \n",
       "25                 NaN                     NaN  \n",
       "26    January 21, 2010                4.35[14]  \n",
       "27                 NaN                     NaN  \n",
       "28    February 4, 2010                4.87[15]  \n",
       "29                 NaN                     NaN  \n",
       "30   February 11, 2010                4.98[16]  \n",
       "31                 NaN                     NaN  \n",
       "32       March 4, 2010                4.64[17]  \n",
       "33                 NaN                     NaN  \n",
       "34      March 11, 2010                4.61[18]  \n",
       "35                 NaN                     NaN  \n",
       "36      March 18, 2010                4.70[19]  \n",
       "37                 NaN                     NaN  \n",
       "38      March 25, 2010                4.49[20]  \n",
       "39                 NaN                     NaN  \n",
       "40      April 29, 2010                4.03[21]  \n",
       "41                 NaN                     NaN  \n",
       "42         May 6, 2010                4.03[22]  \n",
       "43                 NaN                     NaN  \n",
       "44        May 13, 2010                4.28[23]  \n",
       "45                 NaN                     NaN  \n",
       "46        May 20, 2010                4.55[24]  \n",
       "47                 NaN                     NaN  "
      ]
     },
     "execution_count": 7,
     "metadata": {},
     "output_type": "execute_result"
    }
   ],
   "source": [
    "season = episodes[1]\n",
    "season"
   ]
  },
  {
   "cell_type": "markdown",
   "metadata": {},
   "source": [
    "Notice here that there are a bunch of cells with 'NaN' in them. We talked about 'Not a Number' before, and again NumPy issaying that it couldn't find or interpret data here. We could use some Pandas functions to deal with these cells."
   ]
  },
  {
   "cell_type": "code",
   "execution_count": null,
   "metadata": {
    "collapsed": false,
    "scrolled": true
   },
   "outputs": [],
   "source": [
    "season.dropna()"
   ]
  },
  {
   "cell_type": "markdown",
   "metadata": {},
   "source": [
    "The .dropna() method effectively drops any rows where there are one or more NaN entries. Unfortunately, while the rows were mostly NaN, there were some cells with data in them. By default, .dropna() has the argument **how='any'**. Meaning, if a row contains one or more NaN, then .dropna() will drop it. Instead, we can use .dropna(how='all'). This will only drop rows where all cells are NaN."
   ]
  },
  {
   "cell_type": "code",
   "execution_count": null,
   "metadata": {
    "collapsed": false,
    "scrolled": false
   },
   "outputs": [],
   "source": [
    "season.dropna(how='all')"
   ]
  },
  {
   "cell_type": "markdown",
   "metadata": {},
   "source": [
    "This doesn't show anything here, as we don't have any rows that are completely filled with NaN. But, we can use .fillna() to automatically change that value to something else that may be relevant to your data collection methods."
   ]
  },
  {
   "cell_type": "code",
   "execution_count": null,
   "metadata": {
    "collapsed": false
   },
   "outputs": [],
   "source": [
    "season.fillna(-999)"
   ]
  },
  {
   "cell_type": "markdown",
   "metadata": {},
   "source": [
    ".fillna() has multiple methods, like forward fill, backward fill, interpolation."
   ]
  },
  {
   "cell_type": "code",
   "execution_count": null,
   "metadata": {
    "collapsed": true
   },
   "outputs": [],
   "source": [
    "#season.fillna?"
   ]
  },
  {
   "cell_type": "code",
   "execution_count": null,
   "metadata": {
    "collapsed": false
   },
   "outputs": [],
   "source": [
    "season.fillna(method='ffill')"
   ]
  },
  {
   "cell_type": "markdown",
   "metadata": {},
   "source": [
    "while .fillna() is useful, the information contained in surrounding cells isn't that useful to us. It appears that in the case of this table, the first row (row 0) and each alternating row has information about the episode, and the second row (row 1) and each alternating row has the episode description of the previous episode. How do we deal with that? Slices, of course!"
   ]
  },
  {
   "cell_type": "code",
   "execution_count": null,
   "metadata": {
    "collapsed": false
   },
   "outputs": [],
   "source": [
    "season[1::2]"
   ]
  },
  {
   "cell_type": "markdown",
   "metadata": {},
   "source": [
    "These slices will get us the descriptions alone, but we have a bunch of extra cells that are NaN, and irrelevant. Let's drop those using the indexers."
   ]
  },
  {
   "cell_type": "code",
   "execution_count": null,
   "metadata": {
    "collapsed": false
   },
   "outputs": [],
   "source": [
    "season[1::2].ix[:,0]"
   ]
  },
  {
   "cell_type": "markdown",
   "metadata": {},
   "source": [
    "Pandas really wants to maintain the indices, which is usually really helpful - it helps prevent data mismatches down the road. But, what if we really want to ignore the index? We can reset it."
   ]
  },
  {
   "cell_type": "code",
   "execution_count": null,
   "metadata": {
    "collapsed": false
   },
   "outputs": [],
   "source": [
    "season[1::2].ix[:,0].reset_index()"
   ]
  },
  {
   "cell_type": "markdown",
   "metadata": {},
   "source": [
    "Here we have created a new index, but Pandas (trying to save us from ourselves) has kept the index values from before, but in a separate Series within the new DataFrame. All we have to do now is drop it. While we're at it, let's go ahead and create an episode description variable and set it equal to this new series."
   ]
  },
  {
   "cell_type": "code",
   "execution_count": null,
   "metadata": {
    "collapsed": false
   },
   "outputs": [],
   "source": [
    "episode_desc = season[1::2].ix[:,0].reset_index().drop('index',axis=1)\n",
    "episode_desc"
   ]
  },
  {
   "cell_type": "markdown",
   "metadata": {},
   "source": [
    "The column name (No. Overall) doesn't make any sense, so we'll use the `.rename()` method to rename the columns using a dictionary with a single key-value pair."
   ]
  },
  {
   "cell_type": "code",
   "execution_count": null,
   "metadata": {
    "collapsed": false
   },
   "outputs": [],
   "source": [
    "episode_desc = episode_desc.rename(columns = {'No. overall':'Description'})\n",
    "episode_desc"
   ]
  },
  {
   "cell_type": "markdown",
   "metadata": {},
   "source": [
    "For the other cells in the season dataframe, we want to start at the first row (row 0) and alternate getting all of the ones with the data. Since the procedure will be almost exactly the same as before, we'll skip ahead to the final part."
   ]
  },
  {
   "cell_type": "code",
   "execution_count": null,
   "metadata": {
    "collapsed": false,
    "scrolled": true
   },
   "outputs": [],
   "source": [
    "episode_data = season[0::2].reset_index().drop('index',axis=1)\n",
    "episode_data"
   ]
  },
  {
   "cell_type": "markdown",
   "metadata": {},
   "source": [
    "Now we have a list of data and a list of descriptions. By wonderful coincidence (not really), they both have the same number of cells. Let's check to be certain."
   ]
  },
  {
   "cell_type": "code",
   "execution_count": null,
   "metadata": {
    "collapsed": false
   },
   "outputs": [],
   "source": [
    "len(episode_data) == len(episode_desc)"
   ]
  },
  {
   "cell_type": "markdown",
   "metadata": {},
   "source": [
    "Now, let's concatenate the data DataFrame, and the description Series. Remember to specify axis."
   ]
  },
  {
   "cell_type": "code",
   "execution_count": null,
   "metadata": {
    "collapsed": false
   },
   "outputs": [],
   "source": [
    "episode_list = pd.concat([episode_data,episode_desc],axis=1)"
   ]
  },
  {
   "cell_type": "markdown",
   "metadata": {},
   "source": [
    "Checking the column heads just to be certain."
   ]
  },
  {
   "cell_type": "code",
   "execution_count": null,
   "metadata": {
    "collapsed": false
   },
   "outputs": [],
   "source": [
    "episode_list.columns"
   ]
  },
  {
   "cell_type": "markdown",
   "metadata": {},
   "source": [
    "Setting the index to one of the unique Series in the DataFrame. 'No. Overall' makes sense."
   ]
  },
  {
   "cell_type": "code",
   "execution_count": null,
   "metadata": {
    "collapsed": false,
    "scrolled": true
   },
   "outputs": [],
   "source": [
    "episode_list = episode_list.set_index('No. overall')"
   ]
  },
  {
   "cell_type": "markdown",
   "metadata": {},
   "source": [
    "For the sake of space, the preview here doesn't show all the information, but you can definitely check the contents by using the `.values` property."
   ]
  },
  {
   "cell_type": "code",
   "execution_count": null,
   "metadata": {
    "collapsed": false,
    "scrolled": true
   },
   "outputs": [],
   "source": [
    "episode_list['Description'].values"
   ]
  },
  {
   "cell_type": "markdown",
   "metadata": {},
   "source": [
    "Now, let's talk about indexers. We mentioned before that there were three different ways to index into a Series or Dataframe.\n",
    "- `.ix[]`\n",
    "- `.iloc[]`\n",
    "- `.loc[]`\n",
    "\n",
    "Let's look at the three and first discuss how they are similar.\n",
    "\n",
    "All three behave as though they are taking slices. Let's test some stuff out."
   ]
  },
  {
   "cell_type": "code",
   "execution_count": null,
   "metadata": {
    "collapsed": false,
    "scrolled": true
   },
   "outputs": [],
   "source": [
    "episode_list.ix[0:10]"
   ]
  },
  {
   "cell_type": "markdown",
   "metadata": {},
   "source": [
    "Also, like before, the stride applies as well:"
   ]
  },
  {
   "cell_type": "code",
   "execution_count": null,
   "metadata": {
    "collapsed": false,
    "scrolled": true
   },
   "outputs": [],
   "source": [
    "episode_list.ix[2:20:2]"
   ]
  },
  {
   "cell_type": "markdown",
   "metadata": {},
   "source": [
    "Notice above where we put:\n",
    "\n",
    "`season[1::2].ix[:,0]`\n",
    "\n",
    "It's possible to combine both of those slices into one indexer. Like this:\n",
    "\n",
    "`season.ix[1::2,0]`\n",
    "\n",
    "In the indexer, everything before the comma is a slicer for the rows, and everything after the comma is a slicer for the columns."
   ]
  },
  {
   "cell_type": "code",
   "execution_count": null,
   "metadata": {
    "collapsed": false
   },
   "outputs": [],
   "source": [
    "print np.all(season[1::2].ix[:,0] == season.ix[1::2,0])\n",
    "print len(season[1::2].ix[:,0])\n",
    "print len(season.ix[1::2,0])"
   ]
  },
  {
   "cell_type": "code",
   "execution_count": null,
   "metadata": {
    "collapsed": false
   },
   "outputs": [],
   "source": [
    "episode_list.ix[2:20,1:4]"
   ]
  },
  {
   "cell_type": "markdown",
   "metadata": {},
   "source": [
    "In fact, all of these are functionally equivalent:"
   ]
  },
  {
   "cell_type": "code",
   "execution_count": null,
   "metadata": {
    "collapsed": false,
    "scrolled": false
   },
   "outputs": [],
   "source": [
    "# .loc uses strings to locate cells\n",
    "episode_list.loc[:,'Title']\n",
    "\n",
    "# .iloc uses integers to locate cells\n",
    "episode_list.iloc[:,1] \n",
    "\n",
    "# .ix uses strings first, but can use integers if none are available\n",
    "episode_list.ix[:,'Title']\n",
    "\n",
    "episode_list.ix[:,1]\n",
    "\n",
    "# alternatively, you can refer to the specific column head\n",
    "episode_list['Title']\n",
    "\n",
    "# or use dot notation (if there are no spaces in the column head).\n",
    "episode_list.Title"
   ]
  },
  {
   "cell_type": "code",
   "execution_count": null,
   "metadata": {
    "collapsed": false
   },
   "outputs": [],
   "source": [
    "episode_list"
   ]
  },
  {
   "cell_type": "markdown",
   "metadata": {},
   "source": [
    "###### REGEX TIME! \n",
    "We'll come back to here after some discussion about regular expressions."
   ]
  },
  {
   "cell_type": "markdown",
   "metadata": {},
   "source": [
    "Now, we're going to use the .apply() method to apply a function to a column. We're going to convert the 'Original air date' column to a DateTime object. Pandas will try to see if there are ways to interpret the information in these cells as dates."
   ]
  },
  {
   "cell_type": "code",
   "execution_count": null,
   "metadata": {
    "collapsed": true
   },
   "outputs": [],
   "source": [
    "# pd.to_datetime?"
   ]
  },
  {
   "cell_type": "code",
   "execution_count": null,
   "metadata": {
    "collapsed": false
   },
   "outputs": [],
   "source": [
    "episode_list['Original air date'] = episode_list['Original air date'].apply(pd.to_datetime)\n",
    "# ignore this next line, for now.\n",
    "# episode_list['Original air date'] = episode_list['Original air date'].str.split(\"\\D+\").str[-4:-1].str.join('-')"
   ]
  },
  {
   "cell_type": "markdown",
   "metadata": {},
   "source": [
    "looking at the bottom, you can see that the datatype is now a datetime64 object."
   ]
  },
  {
   "cell_type": "code",
   "execution_count": null,
   "metadata": {
    "collapsed": false,
    "scrolled": true
   },
   "outputs": [],
   "source": [
    "episode_list['Original air date']"
   ]
  },
  {
   "cell_type": "markdown",
   "metadata": {},
   "source": [
    "Looking at the viewer numbers, they are formatted like this:\n",
    "\n",
    "`4.70[19]`\n",
    "\n",
    "Unfortunately, Pandas doesn't know what to do with this; the format isn't anything it recognizes. So, we're going to temporarily convert it to a string, and use some string methods on it. Specifically, we'll use the `.split()` method again. This time, however, there isn't a space to _split_ on. As we mentioned before, the `.split()` method allows you to split on a specified character - we'll use the open bracket, as it separates the number from the footnote."
   ]
  },
  {
   "cell_type": "code",
   "execution_count": null,
   "metadata": {
    "collapsed": false
   },
   "outputs": [],
   "source": [
    "episode_list.ix[:,5].str.split('[')"
   ]
  },
  {
   "cell_type": "markdown",
   "metadata": {},
   "source": [
    "The cells are each split into two values. The numbers before the '[', and everything else. We only care about the stuff in the front, so we'll grab it with (you guessed it) a slice. While we're at it, we're going to go ahead and convert everything to a float, so we can have a number with a decimal."
   ]
  },
  {
   "cell_type": "code",
   "execution_count": null,
   "metadata": {
    "collapsed": false
   },
   "outputs": [],
   "source": [
    "episode_list.ix[:,5] = episode_list.ix[:,5].str.split('[').str[0].astype('Float32')"
   ]
  },
  {
   "cell_type": "code",
   "execution_count": null,
   "metadata": {
    "collapsed": false
   },
   "outputs": [],
   "source": [
    "episode_list.ix[:,5]"
   ]
  },
  {
   "cell_type": "markdown",
   "metadata": {},
   "source": [
    "Now, let's do some graphing!\n",
    "\n",
    "First, we'll tell jupyter that we want to do the graphs inline, and then we'll import another library."
   ]
  },
  {
   "cell_type": "code",
   "execution_count": null,
   "metadata": {
    "collapsed": true
   },
   "outputs": [],
   "source": [
    "%matplotlib inline\n",
    "import matplotlib.pyplot as plt"
   ]
  },
  {
   "cell_type": "markdown",
   "metadata": {},
   "source": [
    "Graphing can be as simple as using the `.plot()` method."
   ]
  },
  {
   "cell_type": "code",
   "execution_count": null,
   "metadata": {
    "collapsed": false,
    "scrolled": true
   },
   "outputs": [],
   "source": [
    "episode_list.ix[:,5:7].plot();"
   ]
  },
  {
   "cell_type": "markdown",
   "metadata": {},
   "source": [
    "But what if we want to get really fancy? PyPlot has some really excellent features. We can append this stuff to the default figure 1."
   ]
  },
  {
   "cell_type": "code",
   "execution_count": null,
   "metadata": {
    "collapsed": false
   },
   "outputs": [],
   "source": [
    "# plt.plot?"
   ]
  },
  {
   "cell_type": "code",
   "execution_count": null,
   "metadata": {
    "collapsed": false
   },
   "outputs": [],
   "source": [
    "episode_titles = episode_list.ix[:,1].values\n",
    "episode_viewers = episode_list.ix[:,5].values\n",
    "\n",
    "index = np.arange(len(episode_list))\n",
    "\n",
    "plt.figure(num=None, figsize=(16, 8), facecolor='w', edgecolor='k')\n",
    "plt.plot(index, episode_viewers, color = 'b')\n",
    "plt.plot(pd.rolling_mean(episode_viewers,3),'r')\n",
    "#plt.plot(pd.Series(episode_viewers).rolling(window=3).mean(), 'r')\n",
    "plt.ylabel('Viewers (in millions)')\n",
    "plt.grid()\n",
    "plt.xlabel('Episode Titles')\n",
    "plt.title('Parks & Recreation Viewer Stats')\n",
    "plt.xticks(index,episode_titles,rotation=90);\n"
   ]
  }
 ],
 "metadata": {
  "anaconda-cloud": {},
  "kernelspec": {
   "display_name": "Python [Root]",
   "language": "python",
   "name": "Python [Root]"
  },
  "language_info": {
   "codemirror_mode": {
    "name": "ipython",
    "version": 2
   },
   "file_extension": ".py",
   "mimetype": "text/x-python",
   "name": "python",
   "nbconvert_exporter": "python",
   "pygments_lexer": "ipython2",
   "version": "2.7.12"
  }
 },
 "nbformat": 4,
 "nbformat_minor": 0
}
