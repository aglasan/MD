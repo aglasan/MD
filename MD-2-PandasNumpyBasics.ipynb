{
 "cells": [
  {
   "cell_type": "markdown",
   "metadata": {},
   "source": [
    "First deal with the imports. Import Pandas and NumPy. We primarily use the shortcut/alias names to make typing them easier. That, and these aliases are fairly universal - most documentation you read is likely to have them written this way."
   ]
  },
  {
   "cell_type": "code",
   "execution_count": 2,
   "metadata": {
    "collapsed": true
   },
   "outputs": [],
   "source": [
    "import pandas as pd\n",
    "import numpy as np"
   ]
  },
  {
   "cell_type": "markdown",
   "metadata": {},
   "source": [
    "Below, we are importing a list of integers. In this case, it might be grades for a test. Here we use the Pandas library (pd) to create a Pandas object called a _Series_."
   ]
  },
  {
   "cell_type": "code",
   "execution_count": 3,
   "metadata": {
    "collapsed": false
   },
   "outputs": [],
   "source": [
    "series_a = pd.Series([90,85,88,86,91,79,82,65,88,87,96])"
   ]
  },
  {
   "cell_type": "markdown",
   "metadata": {},
   "source": [
    "If you are familiar with tabular data (CSV, Excel, Google Sheets, etc.) a series is similar to a single column. Similar in that it has a single column of values, but automatically assigns an index to the values as well. This is SUPER important - Pandas LOVES a good index."
   ]
  },
  {
   "cell_type": "code",
   "execution_count": 4,
   "metadata": {
    "collapsed": false
   },
   "outputs": [
    {
     "data": {
      "text/plain": [
       "0     90\n",
       "1     85\n",
       "2     88\n",
       "3     86\n",
       "4     91\n",
       "5     79\n",
       "6     82\n",
       "7     65\n",
       "8     88\n",
       "9     87\n",
       "10    96\n",
       "dtype: int64"
      ]
     },
     "execution_count": 4,
     "metadata": {},
     "output_type": "execute_result"
    }
   ],
   "source": [
    "series_a"
   ]
  },
  {
   "cell_type": "code",
   "execution_count": null,
   "metadata": {
    "collapsed": true
   },
   "outputs": [],
   "source": [
    "series_a.a"
   ]
  },
  {
   "cell_type": "markdown",
   "metadata": {},
   "source": [
    "Pandas provides some methods to series. Here we can easily calculate the mean and median."
   ]
  },
  {
   "cell_type": "code",
   "execution_count": 5,
   "metadata": {
    "collapsed": false
   },
   "outputs": [
    {
     "name": "stdout",
     "output_type": "stream",
     "text": [
      "85.1818181818\n",
      "87.0\n"
     ]
    }
   ],
   "source": [
    "print series_a.mean()\n",
    "print series_a.median()"
   ]
  },
  {
   "cell_type": "markdown",
   "metadata": {},
   "source": [
    "You can even drop duplicate values. If you are curious about what is available to you within a certain context, press `tab` after the series name and you can see the methods. You can even select from the dropdown list with the arrow keys and `enter` to confirm. Below is the `.drop_duplicates()` method. It will drop any entries whose values have already been represented above it in the Series. Notice that the second 88 (position 8) is dropped?"
   ]
  },
  {
   "cell_type": "code",
   "execution_count": 11,
   "metadata": {
    "collapsed": false
   },
   "outputs": [
    {
     "data": {
      "text/plain": [
       "0     90\n",
       "1     85\n",
       "3     86\n",
       "4     91\n",
       "5     79\n",
       "6     82\n",
       "7     65\n",
       "8     88\n",
       "9     87\n",
       "10    96\n",
       "dtype: int64"
      ]
     },
     "execution_count": 11,
     "metadata": {},
     "output_type": "execute_result"
    }
   ],
   "source": [
    "series_a.drop_duplicates(keep='last')"
   ]
  },
  {
   "cell_type": "markdown",
   "metadata": {},
   "source": [
    "For the most part, unless you say specifically, the functions are not destructive. Even though we dropped the duplicates, they're still in there when we call the Series."
   ]
  },
  {
   "cell_type": "code",
   "execution_count": 12,
   "metadata": {
    "collapsed": false
   },
   "outputs": [
    {
     "data": {
      "text/plain": [
       "0     90\n",
       "1     85\n",
       "2     88\n",
       "3     86\n",
       "4     91\n",
       "5     79\n",
       "6     82\n",
       "7     65\n",
       "8     88\n",
       "9     87\n",
       "10    96\n",
       "dtype: int64"
      ]
     },
     "execution_count": 12,
     "metadata": {},
     "output_type": "execute_result"
    }
   ],
   "source": [
    "series_a"
   ]
  },
  {
   "cell_type": "markdown",
   "metadata": {},
   "source": [
    "Let's assign some usernames. First establish a list. Then, like before, we pass that list to Pandas and create a Series:"
   ]
  },
  {
   "cell_type": "code",
   "execution_count": 13,
   "metadata": {
    "collapsed": true
   },
   "outputs": [],
   "source": [
    "student_names = pd.Series(['WHARTNE','PTROUGH','JPERTWE','TBAKER','PDAVISO','CBAKER',\n",
    "                 'SMCCOY','PMCGANN','CECCLES','DTENNAN','MSMITH','PCAPALD'])"
   ]
  },
  {
   "cell_type": "markdown",
   "metadata": {},
   "source": [
    "Also, like before, Pandas has assigned an index to our list."
   ]
  },
  {
   "cell_type": "code",
   "execution_count": 14,
   "metadata": {
    "collapsed": false
   },
   "outputs": [
    {
     "data": {
      "text/plain": [
       "0     WHARTNE\n",
       "1     PTROUGH\n",
       "2     JPERTWE\n",
       "3      TBAKER\n",
       "4     PDAVISO\n",
       "5      CBAKER\n",
       "6      SMCCOY\n",
       "7     PMCGANN\n",
       "8     CECCLES\n",
       "9     DTENNAN\n",
       "10     MSMITH\n",
       "11    PCAPALD\n",
       "dtype: object"
      ]
     },
     "execution_count": 14,
     "metadata": {},
     "output_type": "execute_result"
    }
   ],
   "source": [
    "student_names"
   ]
  },
  {
   "cell_type": "markdown",
   "metadata": {},
   "source": [
    "By using dictionaries (another python object) we can concatenate two series together on a specific axis, and name the columns at the same time. Below, we are creating an object called a DataFrame from two Series. Simply put, a DataFrame is a Series of one or more Series. In this case, we are aligning them as columns next to each other, so we are saying `axis=1`."
   ]
  },
  {
   "cell_type": "code",
   "execution_count": 21,
   "metadata": {
    "collapsed": false
   },
   "outputs": [
    {
     "data": {
      "text/html": [
       "<div>\n",
       "<table border=\"1\" class=\"dataframe\">\n",
       "  <thead>\n",
       "    <tr style=\"text-align: right;\">\n",
       "      <th></th>\n",
       "      <th>0</th>\n",
       "      <th>1</th>\n",
       "      <th>2</th>\n",
       "      <th>3</th>\n",
       "      <th>4</th>\n",
       "      <th>5</th>\n",
       "      <th>6</th>\n",
       "      <th>7</th>\n",
       "      <th>8</th>\n",
       "      <th>9</th>\n",
       "      <th>10</th>\n",
       "      <th>11</th>\n",
       "    </tr>\n",
       "  </thead>\n",
       "  <tbody>\n",
       "    <tr>\n",
       "      <th>Midterm</th>\n",
       "      <td>90</td>\n",
       "      <td>85</td>\n",
       "      <td>88</td>\n",
       "      <td>86</td>\n",
       "      <td>91</td>\n",
       "      <td>79</td>\n",
       "      <td>82</td>\n",
       "      <td>65</td>\n",
       "      <td>88</td>\n",
       "      <td>87</td>\n",
       "      <td>96</td>\n",
       "      <td>NaN</td>\n",
       "    </tr>\n",
       "    <tr>\n",
       "      <th>Names</th>\n",
       "      <td>WHARTNE</td>\n",
       "      <td>PTROUGH</td>\n",
       "      <td>JPERTWE</td>\n",
       "      <td>TBAKER</td>\n",
       "      <td>PDAVISO</td>\n",
       "      <td>CBAKER</td>\n",
       "      <td>SMCCOY</td>\n",
       "      <td>PMCGANN</td>\n",
       "      <td>CECCLES</td>\n",
       "      <td>DTENNAN</td>\n",
       "      <td>MSMITH</td>\n",
       "      <td>PCAPALD</td>\n",
       "    </tr>\n",
       "  </tbody>\n",
       "</table>\n",
       "</div>"
      ],
      "text/plain": [
       "              0        1        2       3        4       5       6        7   \\\n",
       "Midterm       90       85       88      86       91      79      82       65   \n",
       "Names    WHARTNE  PTROUGH  JPERTWE  TBAKER  PDAVISO  CBAKER  SMCCOY  PMCGANN   \n",
       "\n",
       "              8        9       10       11  \n",
       "Midterm       88       87      96      NaN  \n",
       "Names    CECCLES  DTENNAN  MSMITH  PCAPALD  "
      ]
     },
     "execution_count": 21,
     "metadata": {},
     "output_type": "execute_result"
    }
   ],
   "source": [
    "grades = pd.concat({'Names':student_names,'Midterm':series_a},axis=1)\n",
    "type(grades)\n",
    "# grades.transpose().sort_index(ascending=False)"
   ]
  },
  {
   "cell_type": "markdown",
   "metadata": {},
   "source": [
    "If you are confused about **axis=0** vs. **axis=1**, watch what happens when we `.concat()` on **axis=0**:"
   ]
  },
  {
   "cell_type": "code",
   "execution_count": 19,
   "metadata": {
    "collapsed": false
   },
   "outputs": [
    {
     "data": {
      "text/plain": [
       "0          90\n",
       "1          85\n",
       "2          88\n",
       "3          86\n",
       "4          91\n",
       "5          79\n",
       "6          82\n",
       "7          65\n",
       "8          88\n",
       "9          87\n",
       "10         96\n",
       "0     WHARTNE\n",
       "1     PTROUGH\n",
       "2     JPERTWE\n",
       "3      TBAKER\n",
       "4     PDAVISO\n",
       "5      CBAKER\n",
       "6      SMCCOY\n",
       "7     PMCGANN\n",
       "8     CECCLES\n",
       "9     DTENNAN\n",
       "10     MSMITH\n",
       "11    PCAPALD\n",
       "dtype: object"
      ]
     },
     "execution_count": 19,
     "metadata": {},
     "output_type": "execute_result"
    }
   ],
   "source": [
    "axisTest = pd.concat([series_a,student_names],axis=0)\n",
    "axisTest"
   ]
  },
  {
   "cell_type": "markdown",
   "metadata": {},
   "source": [
    "I like to think of `axis=0` as being vertical - you are adding rows to a Series or Dataframe at the bottom of the current object. By contrast, `axis=1` is horizontal. You are adding columns to the right of the current object. *I hope that didn't confuse matters further.*"
   ]
  },
  {
   "cell_type": "markdown",
   "metadata": {},
   "source": [
    "When concatenating Series into a DataFrame, Pandas will do its best to align them by the index. In this case, however, we have more names than grades. Pandas and NumPy know this, and added a `NaN` where data was missing. `NaN` is NumPy's way of saying there is **N**ot **a** **N**umber here, and should be recognized as being invalid.\n",
    "\n",
    "To correct this cell, it should be a simple matter of providing the coordinates of the cell, and assigning the value.\n",
    "\n",
    "..._well, it should be easy..._"
   ]
  },
  {
   "cell_type": "code",
   "execution_count": 22,
   "metadata": {
    "collapsed": false
   },
   "outputs": [
    {
     "data": {
      "text/html": [
       "<div>\n",
       "<table border=\"1\" class=\"dataframe\">\n",
       "  <thead>\n",
       "    <tr style=\"text-align: right;\">\n",
       "      <th></th>\n",
       "      <th>Midterm</th>\n",
       "      <th>Names</th>\n",
       "      <th>(1, 11)</th>\n",
       "    </tr>\n",
       "  </thead>\n",
       "  <tbody>\n",
       "    <tr>\n",
       "      <th>0</th>\n",
       "      <td>90.0</td>\n",
       "      <td>WHARTNE</td>\n",
       "      <td>85</td>\n",
       "    </tr>\n",
       "    <tr>\n",
       "      <th>1</th>\n",
       "      <td>85.0</td>\n",
       "      <td>PTROUGH</td>\n",
       "      <td>85</td>\n",
       "    </tr>\n",
       "    <tr>\n",
       "      <th>2</th>\n",
       "      <td>88.0</td>\n",
       "      <td>JPERTWE</td>\n",
       "      <td>85</td>\n",
       "    </tr>\n",
       "    <tr>\n",
       "      <th>3</th>\n",
       "      <td>86.0</td>\n",
       "      <td>TBAKER</td>\n",
       "      <td>85</td>\n",
       "    </tr>\n",
       "    <tr>\n",
       "      <th>4</th>\n",
       "      <td>91.0</td>\n",
       "      <td>PDAVISO</td>\n",
       "      <td>85</td>\n",
       "    </tr>\n",
       "    <tr>\n",
       "      <th>5</th>\n",
       "      <td>79.0</td>\n",
       "      <td>CBAKER</td>\n",
       "      <td>85</td>\n",
       "    </tr>\n",
       "    <tr>\n",
       "      <th>6</th>\n",
       "      <td>82.0</td>\n",
       "      <td>SMCCOY</td>\n",
       "      <td>85</td>\n",
       "    </tr>\n",
       "    <tr>\n",
       "      <th>7</th>\n",
       "      <td>65.0</td>\n",
       "      <td>PMCGANN</td>\n",
       "      <td>85</td>\n",
       "    </tr>\n",
       "    <tr>\n",
       "      <th>8</th>\n",
       "      <td>88.0</td>\n",
       "      <td>CECCLES</td>\n",
       "      <td>85</td>\n",
       "    </tr>\n",
       "    <tr>\n",
       "      <th>9</th>\n",
       "      <td>87.0</td>\n",
       "      <td>DTENNAN</td>\n",
       "      <td>85</td>\n",
       "    </tr>\n",
       "    <tr>\n",
       "      <th>10</th>\n",
       "      <td>96.0</td>\n",
       "      <td>MSMITH</td>\n",
       "      <td>85</td>\n",
       "    </tr>\n",
       "    <tr>\n",
       "      <th>11</th>\n",
       "      <td>NaN</td>\n",
       "      <td>PCAPALD</td>\n",
       "      <td>85</td>\n",
       "    </tr>\n",
       "  </tbody>\n",
       "</table>\n",
       "</div>"
      ],
      "text/plain": [
       "    Midterm    Names  (1, 11)\n",
       "0      90.0  WHARTNE       85\n",
       "1      85.0  PTROUGH       85\n",
       "2      88.0  JPERTWE       85\n",
       "3      86.0   TBAKER       85\n",
       "4      91.0  PDAVISO       85\n",
       "5      79.0   CBAKER       85\n",
       "6      82.0   SMCCOY       85\n",
       "7      65.0  PMCGANN       85\n",
       "8      88.0  CECCLES       85\n",
       "9      87.0  DTENNAN       85\n",
       "10     96.0   MSMITH       85\n",
       "11      NaN  PCAPALD       85"
      ]
     },
     "execution_count": 22,
     "metadata": {},
     "output_type": "execute_result"
    }
   ],
   "source": [
    "grades[1,11] = 85\n",
    "grades"
   ]
  },
  {
   "cell_type": "markdown",
   "metadata": {},
   "source": [
    "Since we did not format the cell coordinates correctly, Pandas assumed that we were creating a new column and setting its values to the grade specified. That obviously didn't work, so let's delete it using the `.drop()` method. Be sure to specify the axis, in case you have a row named the same as one of your columns (hey, it's possible). Also, let's reassign the edited DataFrame back to itself. Otherwise, the `.drop()` function just returns a **view** of the grades DataFrame with the column dropped, without actually dropping it."
   ]
  },
  {
   "cell_type": "code",
   "execution_count": 25,
   "metadata": {
    "collapsed": false
   },
   "outputs": [],
   "source": [
    "grades = grades.drop((1,11),axis=1)"
   ]
  },
  {
   "cell_type": "code",
   "execution_count": 26,
   "metadata": {
    "collapsed": false
   },
   "outputs": [
    {
     "data": {
      "text/html": [
       "<div>\n",
       "<table border=\"1\" class=\"dataframe\">\n",
       "  <thead>\n",
       "    <tr style=\"text-align: right;\">\n",
       "      <th></th>\n",
       "      <th>Midterm</th>\n",
       "      <th>Names</th>\n",
       "    </tr>\n",
       "  </thead>\n",
       "  <tbody>\n",
       "    <tr>\n",
       "      <th>0</th>\n",
       "      <td>90.0</td>\n",
       "      <td>WHARTNE</td>\n",
       "    </tr>\n",
       "    <tr>\n",
       "      <th>1</th>\n",
       "      <td>85.0</td>\n",
       "      <td>PTROUGH</td>\n",
       "    </tr>\n",
       "    <tr>\n",
       "      <th>2</th>\n",
       "      <td>88.0</td>\n",
       "      <td>JPERTWE</td>\n",
       "    </tr>\n",
       "    <tr>\n",
       "      <th>3</th>\n",
       "      <td>86.0</td>\n",
       "      <td>TBAKER</td>\n",
       "    </tr>\n",
       "    <tr>\n",
       "      <th>4</th>\n",
       "      <td>91.0</td>\n",
       "      <td>PDAVISO</td>\n",
       "    </tr>\n",
       "    <tr>\n",
       "      <th>5</th>\n",
       "      <td>79.0</td>\n",
       "      <td>CBAKER</td>\n",
       "    </tr>\n",
       "    <tr>\n",
       "      <th>6</th>\n",
       "      <td>82.0</td>\n",
       "      <td>SMCCOY</td>\n",
       "    </tr>\n",
       "    <tr>\n",
       "      <th>7</th>\n",
       "      <td>65.0</td>\n",
       "      <td>PMCGANN</td>\n",
       "    </tr>\n",
       "    <tr>\n",
       "      <th>8</th>\n",
       "      <td>88.0</td>\n",
       "      <td>CECCLES</td>\n",
       "    </tr>\n",
       "    <tr>\n",
       "      <th>9</th>\n",
       "      <td>87.0</td>\n",
       "      <td>DTENNAN</td>\n",
       "    </tr>\n",
       "    <tr>\n",
       "      <th>10</th>\n",
       "      <td>96.0</td>\n",
       "      <td>MSMITH</td>\n",
       "    </tr>\n",
       "    <tr>\n",
       "      <th>11</th>\n",
       "      <td>NaN</td>\n",
       "      <td>PCAPALD</td>\n",
       "    </tr>\n",
       "  </tbody>\n",
       "</table>\n",
       "</div>"
      ],
      "text/plain": [
       "    Midterm    Names\n",
       "0      90.0  WHARTNE\n",
       "1      85.0  PTROUGH\n",
       "2      88.0  JPERTWE\n",
       "3      86.0   TBAKER\n",
       "4      91.0  PDAVISO\n",
       "5      79.0   CBAKER\n",
       "6      82.0   SMCCOY\n",
       "7      65.0  PMCGANN\n",
       "8      88.0  CECCLES\n",
       "9      87.0  DTENNAN\n",
       "10     96.0   MSMITH\n",
       "11      NaN  PCAPALD"
      ]
     },
     "execution_count": 26,
     "metadata": {},
     "output_type": "execute_result"
    }
   ],
   "source": [
    "grades"
   ]
  },
  {
   "cell_type": "markdown",
   "metadata": {},
   "source": [
    "Now, let's look at ways to index into a Series and DataFrame. There are three indexing methods:\n",
    "- `.ix[]`\n",
    "- `.loc[]`\n",
    "- `.iloc[]`\n",
    "\n",
    "The first, `.ix[]` is the most friendly. It will first attempt to look up what you provide as a string, and if it can't find the string, look up based upon integer. "
   ]
  },
  {
   "cell_type": "code",
   "execution_count": 27,
   "metadata": {
    "collapsed": false,
    "scrolled": true
   },
   "outputs": [
    {
     "data": {
      "text/plain": [
       "65.0"
      ]
     },
     "execution_count": 27,
     "metadata": {},
     "output_type": "execute_result"
    }
   ],
   "source": [
    "grades.ix[7,'Midterm']"
   ]
  },
  {
   "cell_type": "markdown",
   "metadata": {},
   "source": [
    "We have used the .ix[] and supplied the row with the index 7, and the column 'Midterm'. For now, something like this is as simple as we need to be. We will DEFINITELY be coming back to this...\n",
    "\n",
    "In the meantime, let's fill that space with a grade using '=', the assignment operator."
   ]
  },
  {
   "cell_type": "code",
   "execution_count": 28,
   "metadata": {
    "collapsed": false
   },
   "outputs": [],
   "source": [
    "grades.ix[11,'Midterm'] = 85"
   ]
  },
  {
   "cell_type": "markdown",
   "metadata": {},
   "source": [
    "Checking the DataFrame, we can see that the grade is in the right place."
   ]
  },
  {
   "cell_type": "code",
   "execution_count": 29,
   "metadata": {
    "collapsed": false
   },
   "outputs": [
    {
     "data": {
      "text/html": [
       "<div>\n",
       "<table border=\"1\" class=\"dataframe\">\n",
       "  <thead>\n",
       "    <tr style=\"text-align: right;\">\n",
       "      <th></th>\n",
       "      <th>Midterm</th>\n",
       "      <th>Names</th>\n",
       "    </tr>\n",
       "  </thead>\n",
       "  <tbody>\n",
       "    <tr>\n",
       "      <th>0</th>\n",
       "      <td>90.0</td>\n",
       "      <td>WHARTNE</td>\n",
       "    </tr>\n",
       "    <tr>\n",
       "      <th>1</th>\n",
       "      <td>85.0</td>\n",
       "      <td>PTROUGH</td>\n",
       "    </tr>\n",
       "    <tr>\n",
       "      <th>2</th>\n",
       "      <td>88.0</td>\n",
       "      <td>JPERTWE</td>\n",
       "    </tr>\n",
       "    <tr>\n",
       "      <th>3</th>\n",
       "      <td>86.0</td>\n",
       "      <td>TBAKER</td>\n",
       "    </tr>\n",
       "    <tr>\n",
       "      <th>4</th>\n",
       "      <td>91.0</td>\n",
       "      <td>PDAVISO</td>\n",
       "    </tr>\n",
       "    <tr>\n",
       "      <th>5</th>\n",
       "      <td>79.0</td>\n",
       "      <td>CBAKER</td>\n",
       "    </tr>\n",
       "    <tr>\n",
       "      <th>6</th>\n",
       "      <td>82.0</td>\n",
       "      <td>SMCCOY</td>\n",
       "    </tr>\n",
       "    <tr>\n",
       "      <th>7</th>\n",
       "      <td>65.0</td>\n",
       "      <td>PMCGANN</td>\n",
       "    </tr>\n",
       "    <tr>\n",
       "      <th>8</th>\n",
       "      <td>88.0</td>\n",
       "      <td>CECCLES</td>\n",
       "    </tr>\n",
       "    <tr>\n",
       "      <th>9</th>\n",
       "      <td>87.0</td>\n",
       "      <td>DTENNAN</td>\n",
       "    </tr>\n",
       "    <tr>\n",
       "      <th>10</th>\n",
       "      <td>96.0</td>\n",
       "      <td>MSMITH</td>\n",
       "    </tr>\n",
       "    <tr>\n",
       "      <th>11</th>\n",
       "      <td>85.0</td>\n",
       "      <td>PCAPALD</td>\n",
       "    </tr>\n",
       "  </tbody>\n",
       "</table>\n",
       "</div>"
      ],
      "text/plain": [
       "    Midterm    Names\n",
       "0      90.0  WHARTNE\n",
       "1      85.0  PTROUGH\n",
       "2      88.0  JPERTWE\n",
       "3      86.0   TBAKER\n",
       "4      91.0  PDAVISO\n",
       "5      79.0   CBAKER\n",
       "6      82.0   SMCCOY\n",
       "7      65.0  PMCGANN\n",
       "8      88.0  CECCLES\n",
       "9      87.0  DTENNAN\n",
       "10     96.0   MSMITH\n",
       "11     85.0  PCAPALD"
      ]
     },
     "execution_count": 29,
     "metadata": {},
     "output_type": "execute_result"
    }
   ],
   "source": [
    "grades"
   ]
  },
  {
   "cell_type": "markdown",
   "metadata": {},
   "source": [
    "We can also check the datatypes of the variables thus far:"
   ]
  },
  {
   "cell_type": "code",
   "execution_count": 30,
   "metadata": {
    "collapsed": false
   },
   "outputs": [
    {
     "data": {
      "text/plain": [
       "pandas.core.series.Series"
      ]
     },
     "execution_count": 30,
     "metadata": {},
     "output_type": "execute_result"
    }
   ],
   "source": [
    "type(series_a)"
   ]
  },
  {
   "cell_type": "code",
   "execution_count": 31,
   "metadata": {
    "collapsed": false
   },
   "outputs": [
    {
     "data": {
      "text/plain": [
       "pandas.core.frame.DataFrame"
      ]
     },
     "execution_count": 31,
     "metadata": {},
     "output_type": "execute_result"
    }
   ],
   "source": [
    "type(grades)"
   ]
  },
  {
   "cell_type": "markdown",
   "metadata": {},
   "source": [
    "The `.info()` method provides a little more detail about the object. In this case, we'll look at the grades DataFrame."
   ]
  },
  {
   "cell_type": "code",
   "execution_count": 32,
   "metadata": {
    "collapsed": false
   },
   "outputs": [
    {
     "name": "stdout",
     "output_type": "stream",
     "text": [
      "<class 'pandas.core.frame.DataFrame'>\n",
      "RangeIndex: 12 entries, 0 to 11\n",
      "Data columns (total 2 columns):\n",
      "Midterm    12 non-null float64\n",
      "Names      12 non-null object\n",
      "dtypes: float64(1), object(1)\n",
      "memory usage: 264.0+ bytes\n"
     ]
    }
   ],
   "source": [
    "grades.info()"
   ]
  },
  {
   "cell_type": "markdown",
   "metadata": {},
   "source": [
    "We can see information about the column heads."
   ]
  },
  {
   "cell_type": "code",
   "execution_count": 33,
   "metadata": {
    "collapsed": false
   },
   "outputs": [
    {
     "data": {
      "text/plain": [
       "Index([u'Midterm', u'Names'], dtype='object')"
      ]
     },
     "execution_count": 33,
     "metadata": {},
     "output_type": "execute_result"
    }
   ],
   "source": [
    "grades.columns"
   ]
  },
  {
   "cell_type": "markdown",
   "metadata": {},
   "source": [
    "Here is some statistical information about the numerical column(s)."
   ]
  },
  {
   "cell_type": "code",
   "execution_count": 37,
   "metadata": {
    "collapsed": false
   },
   "outputs": [
    {
     "data": {
      "text/html": [
       "<div>\n",
       "<table border=\"1\" class=\"dataframe\">\n",
       "  <thead>\n",
       "    <tr style=\"text-align: right;\">\n",
       "      <th></th>\n",
       "      <th>Midterm</th>\n",
       "    </tr>\n",
       "  </thead>\n",
       "  <tbody>\n",
       "    <tr>\n",
       "      <th>count</th>\n",
       "      <td>12.000000</td>\n",
       "    </tr>\n",
       "    <tr>\n",
       "      <th>mean</th>\n",
       "      <td>85.166667</td>\n",
       "    </tr>\n",
       "    <tr>\n",
       "      <th>std</th>\n",
       "      <td>7.685090</td>\n",
       "    </tr>\n",
       "    <tr>\n",
       "      <th>min</th>\n",
       "      <td>65.000000</td>\n",
       "    </tr>\n",
       "    <tr>\n",
       "      <th>20%</th>\n",
       "      <td>82.600000</td>\n",
       "    </tr>\n",
       "    <tr>\n",
       "      <th>30%</th>\n",
       "      <td>85.000000</td>\n",
       "    </tr>\n",
       "    <tr>\n",
       "      <th>40%</th>\n",
       "      <td>85.400000</td>\n",
       "    </tr>\n",
       "    <tr>\n",
       "      <th>50%</th>\n",
       "      <td>86.500000</td>\n",
       "    </tr>\n",
       "    <tr>\n",
       "      <th>max</th>\n",
       "      <td>96.000000</td>\n",
       "    </tr>\n",
       "  </tbody>\n",
       "</table>\n",
       "</div>"
      ],
      "text/plain": [
       "         Midterm\n",
       "count  12.000000\n",
       "mean   85.166667\n",
       "std     7.685090\n",
       "min    65.000000\n",
       "20%    82.600000\n",
       "30%    85.000000\n",
       "40%    85.400000\n",
       "50%    86.500000\n",
       "max    96.000000"
      ]
     },
     "execution_count": 37,
     "metadata": {},
     "output_type": "execute_result"
    }
   ],
   "source": [
    "grades.describe(percentiles=[.2,.3,.4,.5])"
   ]
  },
  {
   "cell_type": "markdown",
   "metadata": {},
   "source": [
    "Masking\n",
    "--\n",
    "Masking is a way of hiding (or showing) cells based upon a Series/DataFrame of boolean (True/False) values. It is a very powerful way to do queries, provided you are willing to do a little work on the front end."
   ]
  },
  {
   "cell_type": "markdown",
   "metadata": {},
   "source": [
    "Perhaps, we want to see every row where the 'Midterm' is greater than 85."
   ]
  },
  {
   "cell_type": "code",
   "execution_count": 38,
   "metadata": {
    "collapsed": false
   },
   "outputs": [
    {
     "data": {
      "text/plain": [
       "0      True\n",
       "1     False\n",
       "2      True\n",
       "3      True\n",
       "4      True\n",
       "5     False\n",
       "6     False\n",
       "7     False\n",
       "8      True\n",
       "9      True\n",
       "10     True\n",
       "11    False\n",
       "Name: Midterm, dtype: bool"
      ]
     },
     "execution_count": 38,
     "metadata": {},
     "output_type": "execute_result"
    }
   ],
   "source": [
    "grade_threshold = 85\n",
    "grades['Midterm'] > grade_threshold"
   ]
  },
  {
   "cell_type": "markdown",
   "metadata": {},
   "source": [
    "We can also assign this list of boolean values to a variable, and use it as a mask."
   ]
  },
  {
   "cell_type": "code",
   "execution_count": 39,
   "metadata": {
    "collapsed": false,
    "scrolled": true
   },
   "outputs": [
    {
     "data": {
      "text/html": [
       "<div>\n",
       "<table border=\"1\" class=\"dataframe\">\n",
       "  <thead>\n",
       "    <tr style=\"text-align: right;\">\n",
       "      <th></th>\n",
       "      <th>Midterm</th>\n",
       "      <th>Names</th>\n",
       "    </tr>\n",
       "  </thead>\n",
       "  <tbody>\n",
       "    <tr>\n",
       "      <th>0</th>\n",
       "      <td>90.0</td>\n",
       "      <td>WHARTNE</td>\n",
       "    </tr>\n",
       "    <tr>\n",
       "      <th>2</th>\n",
       "      <td>88.0</td>\n",
       "      <td>JPERTWE</td>\n",
       "    </tr>\n",
       "    <tr>\n",
       "      <th>3</th>\n",
       "      <td>86.0</td>\n",
       "      <td>TBAKER</td>\n",
       "    </tr>\n",
       "    <tr>\n",
       "      <th>4</th>\n",
       "      <td>91.0</td>\n",
       "      <td>PDAVISO</td>\n",
       "    </tr>\n",
       "    <tr>\n",
       "      <th>8</th>\n",
       "      <td>88.0</td>\n",
       "      <td>CECCLES</td>\n",
       "    </tr>\n",
       "    <tr>\n",
       "      <th>9</th>\n",
       "      <td>87.0</td>\n",
       "      <td>DTENNAN</td>\n",
       "    </tr>\n",
       "    <tr>\n",
       "      <th>10</th>\n",
       "      <td>96.0</td>\n",
       "      <td>MSMITH</td>\n",
       "    </tr>\n",
       "  </tbody>\n",
       "</table>\n",
       "</div>"
      ],
      "text/plain": [
       "    Midterm    Names\n",
       "0      90.0  WHARTNE\n",
       "2      88.0  JPERTWE\n",
       "3      86.0   TBAKER\n",
       "4      91.0  PDAVISO\n",
       "8      88.0  CECCLES\n",
       "9      87.0  DTENNAN\n",
       "10     96.0   MSMITH"
      ]
     },
     "execution_count": 39,
     "metadata": {},
     "output_type": "execute_result"
    }
   ],
   "source": [
    "b_threshold = grades['Midterm'] > grade_threshold\n",
    "grades[b_threshold]"
   ]
  },
  {
   "cell_type": "markdown",
   "metadata": {},
   "source": [
    "Let's add some more grades into this class. We'll use the NumPy random integer method..."
   ]
  },
  {
   "cell_type": "code",
   "execution_count": 40,
   "metadata": {
    "collapsed": false
   },
   "outputs": [
    {
     "data": {
      "text/plain": [
       "array([95, 81, 80, 78, 86, 96, 84, 97, 78, 89, 81, 95])"
      ]
     },
     "execution_count": 40,
     "metadata": {},
     "output_type": "execute_result"
    }
   ],
   "source": [
    "np.random.randint(69,high=100,size=12)"
   ]
  },
  {
   "cell_type": "markdown",
   "metadata": {},
   "source": [
    "...and assign it to the final variable. Don't worry if your numbers look different. Each time this page is re-run, the random number generator will create a new list. In fact, this second execution is different from the first. See?"
   ]
  },
  {
   "cell_type": "code",
   "execution_count": 41,
   "metadata": {
    "collapsed": false
   },
   "outputs": [],
   "source": [
    "final = pd.Series(np.random.randint(69,high=100,size=12))"
   ]
  },
  {
   "cell_type": "code",
   "execution_count": 42,
   "metadata": {
    "collapsed": false,
    "scrolled": true
   },
   "outputs": [
    {
     "data": {
      "text/plain": [
       "0     84\n",
       "1     92\n",
       "2     89\n",
       "3     85\n",
       "4     69\n",
       "5     89\n",
       "6     96\n",
       "7     79\n",
       "8     89\n",
       "9     93\n",
       "10    76\n",
       "11    88\n",
       "dtype: int32"
      ]
     },
     "execution_count": 42,
     "metadata": {},
     "output_type": "execute_result"
    }
   ],
   "source": [
    "final"
   ]
  },
  {
   "cell_type": "markdown",
   "metadata": {},
   "source": [
    "Now, let's use the `.concat()` method to concatenate the grades DataFrame with the final Series on axis 1. We'll go ahead and explicitly name the columns as well."
   ]
  },
  {
   "cell_type": "code",
   "execution_count": 43,
   "metadata": {
    "collapsed": false
   },
   "outputs": [],
   "source": [
    "grades_final = pd.concat([grades,final],axis=1)\n",
    "grades_final.columns = ['Midterm','Names','Final']"
   ]
  },
  {
   "cell_type": "code",
   "execution_count": 44,
   "metadata": {
    "collapsed": false
   },
   "outputs": [
    {
     "data": {
      "text/html": [
       "<div>\n",
       "<table border=\"1\" class=\"dataframe\">\n",
       "  <thead>\n",
       "    <tr style=\"text-align: right;\">\n",
       "      <th></th>\n",
       "      <th>Midterm</th>\n",
       "      <th>Names</th>\n",
       "      <th>Final</th>\n",
       "    </tr>\n",
       "  </thead>\n",
       "  <tbody>\n",
       "    <tr>\n",
       "      <th>0</th>\n",
       "      <td>90.0</td>\n",
       "      <td>WHARTNE</td>\n",
       "      <td>84</td>\n",
       "    </tr>\n",
       "    <tr>\n",
       "      <th>1</th>\n",
       "      <td>85.0</td>\n",
       "      <td>PTROUGH</td>\n",
       "      <td>92</td>\n",
       "    </tr>\n",
       "    <tr>\n",
       "      <th>2</th>\n",
       "      <td>88.0</td>\n",
       "      <td>JPERTWE</td>\n",
       "      <td>89</td>\n",
       "    </tr>\n",
       "    <tr>\n",
       "      <th>3</th>\n",
       "      <td>86.0</td>\n",
       "      <td>TBAKER</td>\n",
       "      <td>85</td>\n",
       "    </tr>\n",
       "    <tr>\n",
       "      <th>4</th>\n",
       "      <td>91.0</td>\n",
       "      <td>PDAVISO</td>\n",
       "      <td>69</td>\n",
       "    </tr>\n",
       "    <tr>\n",
       "      <th>5</th>\n",
       "      <td>79.0</td>\n",
       "      <td>CBAKER</td>\n",
       "      <td>89</td>\n",
       "    </tr>\n",
       "    <tr>\n",
       "      <th>6</th>\n",
       "      <td>82.0</td>\n",
       "      <td>SMCCOY</td>\n",
       "      <td>96</td>\n",
       "    </tr>\n",
       "    <tr>\n",
       "      <th>7</th>\n",
       "      <td>65.0</td>\n",
       "      <td>PMCGANN</td>\n",
       "      <td>79</td>\n",
       "    </tr>\n",
       "    <tr>\n",
       "      <th>8</th>\n",
       "      <td>88.0</td>\n",
       "      <td>CECCLES</td>\n",
       "      <td>89</td>\n",
       "    </tr>\n",
       "    <tr>\n",
       "      <th>9</th>\n",
       "      <td>87.0</td>\n",
       "      <td>DTENNAN</td>\n",
       "      <td>93</td>\n",
       "    </tr>\n",
       "    <tr>\n",
       "      <th>10</th>\n",
       "      <td>96.0</td>\n",
       "      <td>MSMITH</td>\n",
       "      <td>76</td>\n",
       "    </tr>\n",
       "    <tr>\n",
       "      <th>11</th>\n",
       "      <td>85.0</td>\n",
       "      <td>PCAPALD</td>\n",
       "      <td>88</td>\n",
       "    </tr>\n",
       "  </tbody>\n",
       "</table>\n",
       "</div>"
      ],
      "text/plain": [
       "    Midterm    Names  Final\n",
       "0      90.0  WHARTNE     84\n",
       "1      85.0  PTROUGH     92\n",
       "2      88.0  JPERTWE     89\n",
       "3      86.0   TBAKER     85\n",
       "4      91.0  PDAVISO     69\n",
       "5      79.0   CBAKER     89\n",
       "6      82.0   SMCCOY     96\n",
       "7      65.0  PMCGANN     79\n",
       "8      88.0  CECCLES     89\n",
       "9      87.0  DTENNAN     93\n",
       "10     96.0   MSMITH     76\n",
       "11     85.0  PCAPALD     88"
      ]
     },
     "execution_count": 44,
     "metadata": {},
     "output_type": "execute_result"
    }
   ],
   "source": [
    "grades_final"
   ]
  },
  {
   "cell_type": "markdown",
   "metadata": {},
   "source": [
    "The index on the left doesn't make much sense in the context of the grades, so let's make the index equal to the names, and reassign to the `grades_final` DataFrame."
   ]
  },
  {
   "cell_type": "code",
   "execution_count": 45,
   "metadata": {
    "collapsed": false
   },
   "outputs": [],
   "source": [
    "grades_final = grades_final.set_index('Names')"
   ]
  },
  {
   "cell_type": "code",
   "execution_count": 46,
   "metadata": {
    "collapsed": false,
    "scrolled": true
   },
   "outputs": [
    {
     "data": {
      "text/html": [
       "<div>\n",
       "<table border=\"1\" class=\"dataframe\">\n",
       "  <thead>\n",
       "    <tr style=\"text-align: right;\">\n",
       "      <th></th>\n",
       "      <th>Midterm</th>\n",
       "      <th>Final</th>\n",
       "    </tr>\n",
       "    <tr>\n",
       "      <th>Names</th>\n",
       "      <th></th>\n",
       "      <th></th>\n",
       "    </tr>\n",
       "  </thead>\n",
       "  <tbody>\n",
       "    <tr>\n",
       "      <th>WHARTNE</th>\n",
       "      <td>90.0</td>\n",
       "      <td>84</td>\n",
       "    </tr>\n",
       "    <tr>\n",
       "      <th>PTROUGH</th>\n",
       "      <td>85.0</td>\n",
       "      <td>92</td>\n",
       "    </tr>\n",
       "    <tr>\n",
       "      <th>JPERTWE</th>\n",
       "      <td>88.0</td>\n",
       "      <td>89</td>\n",
       "    </tr>\n",
       "    <tr>\n",
       "      <th>TBAKER</th>\n",
       "      <td>86.0</td>\n",
       "      <td>85</td>\n",
       "    </tr>\n",
       "    <tr>\n",
       "      <th>PDAVISO</th>\n",
       "      <td>91.0</td>\n",
       "      <td>69</td>\n",
       "    </tr>\n",
       "    <tr>\n",
       "      <th>CBAKER</th>\n",
       "      <td>79.0</td>\n",
       "      <td>89</td>\n",
       "    </tr>\n",
       "    <tr>\n",
       "      <th>SMCCOY</th>\n",
       "      <td>82.0</td>\n",
       "      <td>96</td>\n",
       "    </tr>\n",
       "    <tr>\n",
       "      <th>PMCGANN</th>\n",
       "      <td>65.0</td>\n",
       "      <td>79</td>\n",
       "    </tr>\n",
       "    <tr>\n",
       "      <th>CECCLES</th>\n",
       "      <td>88.0</td>\n",
       "      <td>89</td>\n",
       "    </tr>\n",
       "    <tr>\n",
       "      <th>DTENNAN</th>\n",
       "      <td>87.0</td>\n",
       "      <td>93</td>\n",
       "    </tr>\n",
       "    <tr>\n",
       "      <th>MSMITH</th>\n",
       "      <td>96.0</td>\n",
       "      <td>76</td>\n",
       "    </tr>\n",
       "    <tr>\n",
       "      <th>PCAPALD</th>\n",
       "      <td>85.0</td>\n",
       "      <td>88</td>\n",
       "    </tr>\n",
       "  </tbody>\n",
       "</table>\n",
       "</div>"
      ],
      "text/plain": [
       "         Midterm  Final\n",
       "Names                  \n",
       "WHARTNE     90.0     84\n",
       "PTROUGH     85.0     92\n",
       "JPERTWE     88.0     89\n",
       "TBAKER      86.0     85\n",
       "PDAVISO     91.0     69\n",
       "CBAKER      79.0     89\n",
       "SMCCOY      82.0     96\n",
       "PMCGANN     65.0     79\n",
       "CECCLES     88.0     89\n",
       "DTENNAN     87.0     93\n",
       "MSMITH      96.0     76\n",
       "PCAPALD     85.0     88"
      ]
     },
     "execution_count": 46,
     "metadata": {},
     "output_type": "execute_result"
    }
   ],
   "source": [
    "grades_final"
   ]
  },
  {
   "cell_type": "markdown",
   "metadata": {},
   "source": [
    "Now, let's add another column to the DataFrame, averaging the values in each row."
   ]
  },
  {
   "cell_type": "code",
   "execution_count": 47,
   "metadata": {
    "collapsed": false
   },
   "outputs": [
    {
     "data": {
      "text/html": [
       "<div>\n",
       "<table border=\"1\" class=\"dataframe\">\n",
       "  <thead>\n",
       "    <tr style=\"text-align: right;\">\n",
       "      <th></th>\n",
       "      <th>Midterm</th>\n",
       "      <th>Final</th>\n",
       "      <th>Avg.</th>\n",
       "    </tr>\n",
       "    <tr>\n",
       "      <th>Names</th>\n",
       "      <th></th>\n",
       "      <th></th>\n",
       "      <th></th>\n",
       "    </tr>\n",
       "  </thead>\n",
       "  <tbody>\n",
       "    <tr>\n",
       "      <th>WHARTNE</th>\n",
       "      <td>90.0</td>\n",
       "      <td>84</td>\n",
       "      <td>87.0</td>\n",
       "    </tr>\n",
       "    <tr>\n",
       "      <th>PTROUGH</th>\n",
       "      <td>85.0</td>\n",
       "      <td>92</td>\n",
       "      <td>88.5</td>\n",
       "    </tr>\n",
       "    <tr>\n",
       "      <th>JPERTWE</th>\n",
       "      <td>88.0</td>\n",
       "      <td>89</td>\n",
       "      <td>88.5</td>\n",
       "    </tr>\n",
       "    <tr>\n",
       "      <th>TBAKER</th>\n",
       "      <td>86.0</td>\n",
       "      <td>85</td>\n",
       "      <td>85.5</td>\n",
       "    </tr>\n",
       "    <tr>\n",
       "      <th>PDAVISO</th>\n",
       "      <td>91.0</td>\n",
       "      <td>69</td>\n",
       "      <td>80.0</td>\n",
       "    </tr>\n",
       "    <tr>\n",
       "      <th>CBAKER</th>\n",
       "      <td>79.0</td>\n",
       "      <td>89</td>\n",
       "      <td>84.0</td>\n",
       "    </tr>\n",
       "    <tr>\n",
       "      <th>SMCCOY</th>\n",
       "      <td>82.0</td>\n",
       "      <td>96</td>\n",
       "      <td>89.0</td>\n",
       "    </tr>\n",
       "    <tr>\n",
       "      <th>PMCGANN</th>\n",
       "      <td>65.0</td>\n",
       "      <td>79</td>\n",
       "      <td>72.0</td>\n",
       "    </tr>\n",
       "    <tr>\n",
       "      <th>CECCLES</th>\n",
       "      <td>88.0</td>\n",
       "      <td>89</td>\n",
       "      <td>88.5</td>\n",
       "    </tr>\n",
       "    <tr>\n",
       "      <th>DTENNAN</th>\n",
       "      <td>87.0</td>\n",
       "      <td>93</td>\n",
       "      <td>90.0</td>\n",
       "    </tr>\n",
       "    <tr>\n",
       "      <th>MSMITH</th>\n",
       "      <td>96.0</td>\n",
       "      <td>76</td>\n",
       "      <td>86.0</td>\n",
       "    </tr>\n",
       "    <tr>\n",
       "      <th>PCAPALD</th>\n",
       "      <td>85.0</td>\n",
       "      <td>88</td>\n",
       "      <td>86.5</td>\n",
       "    </tr>\n",
       "  </tbody>\n",
       "</table>\n",
       "</div>"
      ],
      "text/plain": [
       "         Midterm  Final  Avg.\n",
       "Names                        \n",
       "WHARTNE     90.0     84  87.0\n",
       "PTROUGH     85.0     92  88.5\n",
       "JPERTWE     88.0     89  88.5\n",
       "TBAKER      86.0     85  85.5\n",
       "PDAVISO     91.0     69  80.0\n",
       "CBAKER      79.0     89  84.0\n",
       "SMCCOY      82.0     96  89.0\n",
       "PMCGANN     65.0     79  72.0\n",
       "CECCLES     88.0     89  88.5\n",
       "DTENNAN     87.0     93  90.0\n",
       "MSMITH      96.0     76  86.0\n",
       "PCAPALD     85.0     88  86.5"
      ]
     },
     "execution_count": 47,
     "metadata": {},
     "output_type": "execute_result"
    }
   ],
   "source": [
    "grades_final['Avg.'] = grades_final.mean(axis=1)\n",
    "grades_final"
   ]
  },
  {
   "cell_type": "markdown",
   "metadata": {},
   "source": [
    "Now, let's make a mask **in place**, getting every average greater than some grade."
   ]
  },
  {
   "cell_type": "code",
   "execution_count": 48,
   "metadata": {
    "collapsed": false
   },
   "outputs": [
    {
     "data": {
      "text/html": [
       "<div>\n",
       "<table border=\"1\" class=\"dataframe\">\n",
       "  <thead>\n",
       "    <tr style=\"text-align: right;\">\n",
       "      <th></th>\n",
       "      <th>Midterm</th>\n",
       "      <th>Final</th>\n",
       "      <th>Avg.</th>\n",
       "    </tr>\n",
       "    <tr>\n",
       "      <th>Names</th>\n",
       "      <th></th>\n",
       "      <th></th>\n",
       "      <th></th>\n",
       "    </tr>\n",
       "  </thead>\n",
       "  <tbody>\n",
       "    <tr>\n",
       "      <th>WHARTNE</th>\n",
       "      <td>90.0</td>\n",
       "      <td>84</td>\n",
       "      <td>87.0</td>\n",
       "    </tr>\n",
       "    <tr>\n",
       "      <th>PTROUGH</th>\n",
       "      <td>85.0</td>\n",
       "      <td>92</td>\n",
       "      <td>88.5</td>\n",
       "    </tr>\n",
       "    <tr>\n",
       "      <th>JPERTWE</th>\n",
       "      <td>88.0</td>\n",
       "      <td>89</td>\n",
       "      <td>88.5</td>\n",
       "    </tr>\n",
       "    <tr>\n",
       "      <th>TBAKER</th>\n",
       "      <td>86.0</td>\n",
       "      <td>85</td>\n",
       "      <td>85.5</td>\n",
       "    </tr>\n",
       "    <tr>\n",
       "      <th>SMCCOY</th>\n",
       "      <td>82.0</td>\n",
       "      <td>96</td>\n",
       "      <td>89.0</td>\n",
       "    </tr>\n",
       "    <tr>\n",
       "      <th>CECCLES</th>\n",
       "      <td>88.0</td>\n",
       "      <td>89</td>\n",
       "      <td>88.5</td>\n",
       "    </tr>\n",
       "    <tr>\n",
       "      <th>DTENNAN</th>\n",
       "      <td>87.0</td>\n",
       "      <td>93</td>\n",
       "      <td>90.0</td>\n",
       "    </tr>\n",
       "    <tr>\n",
       "      <th>MSMITH</th>\n",
       "      <td>96.0</td>\n",
       "      <td>76</td>\n",
       "      <td>86.0</td>\n",
       "    </tr>\n",
       "    <tr>\n",
       "      <th>PCAPALD</th>\n",
       "      <td>85.0</td>\n",
       "      <td>88</td>\n",
       "      <td>86.5</td>\n",
       "    </tr>\n",
       "  </tbody>\n",
       "</table>\n",
       "</div>"
      ],
      "text/plain": [
       "         Midterm  Final  Avg.\n",
       "Names                        \n",
       "WHARTNE     90.0     84  87.0\n",
       "PTROUGH     85.0     92  88.5\n",
       "JPERTWE     88.0     89  88.5\n",
       "TBAKER      86.0     85  85.5\n",
       "SMCCOY      82.0     96  89.0\n",
       "CECCLES     88.0     89  88.5\n",
       "DTENNAN     87.0     93  90.0\n",
       "MSMITH      96.0     76  86.0\n",
       "PCAPALD     85.0     88  86.5"
      ]
     },
     "execution_count": 48,
     "metadata": {},
     "output_type": "execute_result"
    }
   ],
   "source": [
    "grades_final[grades_final['Avg.']>85]"
   ]
  },
  {
   "cell_type": "markdown",
   "metadata": {},
   "source": [
    "We're not limited to built-in functions for extra cells, we can even make a weighted average for the two grades:"
   ]
  },
  {
   "cell_type": "code",
   "execution_count": 49,
   "metadata": {
    "collapsed": false
   },
   "outputs": [
    {
     "data": {
      "text/html": [
       "<div>\n",
       "<table border=\"1\" class=\"dataframe\">\n",
       "  <thead>\n",
       "    <tr style=\"text-align: right;\">\n",
       "      <th></th>\n",
       "      <th>Midterm</th>\n",
       "      <th>Final</th>\n",
       "      <th>Avg.</th>\n",
       "      <th>W.Avg.</th>\n",
       "    </tr>\n",
       "    <tr>\n",
       "      <th>Names</th>\n",
       "      <th></th>\n",
       "      <th></th>\n",
       "      <th></th>\n",
       "      <th></th>\n",
       "    </tr>\n",
       "  </thead>\n",
       "  <tbody>\n",
       "    <tr>\n",
       "      <th>WHARTNE</th>\n",
       "      <td>90.0</td>\n",
       "      <td>84</td>\n",
       "      <td>87.0</td>\n",
       "      <td>86.4</td>\n",
       "    </tr>\n",
       "    <tr>\n",
       "      <th>PTROUGH</th>\n",
       "      <td>85.0</td>\n",
       "      <td>92</td>\n",
       "      <td>88.5</td>\n",
       "      <td>89.2</td>\n",
       "    </tr>\n",
       "    <tr>\n",
       "      <th>JPERTWE</th>\n",
       "      <td>88.0</td>\n",
       "      <td>89</td>\n",
       "      <td>88.5</td>\n",
       "      <td>88.6</td>\n",
       "    </tr>\n",
       "    <tr>\n",
       "      <th>TBAKER</th>\n",
       "      <td>86.0</td>\n",
       "      <td>85</td>\n",
       "      <td>85.5</td>\n",
       "      <td>85.4</td>\n",
       "    </tr>\n",
       "    <tr>\n",
       "      <th>PDAVISO</th>\n",
       "      <td>91.0</td>\n",
       "      <td>69</td>\n",
       "      <td>80.0</td>\n",
       "      <td>77.8</td>\n",
       "    </tr>\n",
       "    <tr>\n",
       "      <th>CBAKER</th>\n",
       "      <td>79.0</td>\n",
       "      <td>89</td>\n",
       "      <td>84.0</td>\n",
       "      <td>85.0</td>\n",
       "    </tr>\n",
       "    <tr>\n",
       "      <th>SMCCOY</th>\n",
       "      <td>82.0</td>\n",
       "      <td>96</td>\n",
       "      <td>89.0</td>\n",
       "      <td>90.4</td>\n",
       "    </tr>\n",
       "    <tr>\n",
       "      <th>PMCGANN</th>\n",
       "      <td>65.0</td>\n",
       "      <td>79</td>\n",
       "      <td>72.0</td>\n",
       "      <td>73.4</td>\n",
       "    </tr>\n",
       "    <tr>\n",
       "      <th>CECCLES</th>\n",
       "      <td>88.0</td>\n",
       "      <td>89</td>\n",
       "      <td>88.5</td>\n",
       "      <td>88.6</td>\n",
       "    </tr>\n",
       "    <tr>\n",
       "      <th>DTENNAN</th>\n",
       "      <td>87.0</td>\n",
       "      <td>93</td>\n",
       "      <td>90.0</td>\n",
       "      <td>90.6</td>\n",
       "    </tr>\n",
       "    <tr>\n",
       "      <th>MSMITH</th>\n",
       "      <td>96.0</td>\n",
       "      <td>76</td>\n",
       "      <td>86.0</td>\n",
       "      <td>84.0</td>\n",
       "    </tr>\n",
       "    <tr>\n",
       "      <th>PCAPALD</th>\n",
       "      <td>85.0</td>\n",
       "      <td>88</td>\n",
       "      <td>86.5</td>\n",
       "      <td>86.8</td>\n",
       "    </tr>\n",
       "  </tbody>\n",
       "</table>\n",
       "</div>"
      ],
      "text/plain": [
       "         Midterm  Final  Avg.  W.Avg.\n",
       "Names                                \n",
       "WHARTNE     90.0     84  87.0    86.4\n",
       "PTROUGH     85.0     92  88.5    89.2\n",
       "JPERTWE     88.0     89  88.5    88.6\n",
       "TBAKER      86.0     85  85.5    85.4\n",
       "PDAVISO     91.0     69  80.0    77.8\n",
       "CBAKER      79.0     89  84.0    85.0\n",
       "SMCCOY      82.0     96  89.0    90.4\n",
       "PMCGANN     65.0     79  72.0    73.4\n",
       "CECCLES     88.0     89  88.5    88.6\n",
       "DTENNAN     87.0     93  90.0    90.6\n",
       "MSMITH      96.0     76  86.0    84.0\n",
       "PCAPALD     85.0     88  86.5    86.8"
      ]
     },
     "execution_count": 49,
     "metadata": {},
     "output_type": "execute_result"
    }
   ],
   "source": [
    "grades_final['W.Avg.'] = (grades_final['Midterm'] *.4 + grades_final['Final'] *.6)\n",
    "grades_final"
   ]
  },
  {
   "cell_type": "markdown",
   "metadata": {},
   "source": [
    "Using a boolean AND `&` or a boolean OR `|` we can combine masks to have compound results."
   ]
  },
  {
   "cell_type": "code",
   "execution_count": 51,
   "metadata": {
    "collapsed": false
   },
   "outputs": [
    {
     "data": {
      "text/html": [
       "<div>\n",
       "<table border=\"1\" class=\"dataframe\">\n",
       "  <thead>\n",
       "    <tr style=\"text-align: right;\">\n",
       "      <th></th>\n",
       "      <th>Midterm</th>\n",
       "      <th>Final</th>\n",
       "      <th>Avg.</th>\n",
       "      <th>W.Avg.</th>\n",
       "    </tr>\n",
       "    <tr>\n",
       "      <th>Names</th>\n",
       "      <th></th>\n",
       "      <th></th>\n",
       "      <th></th>\n",
       "      <th></th>\n",
       "    </tr>\n",
       "  </thead>\n",
       "  <tbody>\n",
       "    <tr>\n",
       "      <th>WHARTNE</th>\n",
       "      <td>90.0</td>\n",
       "      <td>84</td>\n",
       "      <td>87.0</td>\n",
       "      <td>86.4</td>\n",
       "    </tr>\n",
       "    <tr>\n",
       "      <th>PTROUGH</th>\n",
       "      <td>85.0</td>\n",
       "      <td>92</td>\n",
       "      <td>88.5</td>\n",
       "      <td>89.2</td>\n",
       "    </tr>\n",
       "    <tr>\n",
       "      <th>JPERTWE</th>\n",
       "      <td>88.0</td>\n",
       "      <td>89</td>\n",
       "      <td>88.5</td>\n",
       "      <td>88.6</td>\n",
       "    </tr>\n",
       "    <tr>\n",
       "      <th>TBAKER</th>\n",
       "      <td>86.0</td>\n",
       "      <td>85</td>\n",
       "      <td>85.5</td>\n",
       "      <td>85.4</td>\n",
       "    </tr>\n",
       "    <tr>\n",
       "      <th>PDAVISO</th>\n",
       "      <td>91.0</td>\n",
       "      <td>69</td>\n",
       "      <td>80.0</td>\n",
       "      <td>77.8</td>\n",
       "    </tr>\n",
       "    <tr>\n",
       "      <th>SMCCOY</th>\n",
       "      <td>82.0</td>\n",
       "      <td>96</td>\n",
       "      <td>89.0</td>\n",
       "      <td>90.4</td>\n",
       "    </tr>\n",
       "    <tr>\n",
       "      <th>CECCLES</th>\n",
       "      <td>88.0</td>\n",
       "      <td>89</td>\n",
       "      <td>88.5</td>\n",
       "      <td>88.6</td>\n",
       "    </tr>\n",
       "    <tr>\n",
       "      <th>DTENNAN</th>\n",
       "      <td>87.0</td>\n",
       "      <td>93</td>\n",
       "      <td>90.0</td>\n",
       "      <td>90.6</td>\n",
       "    </tr>\n",
       "    <tr>\n",
       "      <th>MSMITH</th>\n",
       "      <td>96.0</td>\n",
       "      <td>76</td>\n",
       "      <td>86.0</td>\n",
       "      <td>84.0</td>\n",
       "    </tr>\n",
       "    <tr>\n",
       "      <th>PCAPALD</th>\n",
       "      <td>85.0</td>\n",
       "      <td>88</td>\n",
       "      <td>86.5</td>\n",
       "      <td>86.8</td>\n",
       "    </tr>\n",
       "  </tbody>\n",
       "</table>\n",
       "</div>"
      ],
      "text/plain": [
       "         Midterm  Final  Avg.  W.Avg.\n",
       "Names                                \n",
       "WHARTNE     90.0     84  87.0    86.4\n",
       "PTROUGH     85.0     92  88.5    89.2\n",
       "JPERTWE     88.0     89  88.5    88.6\n",
       "TBAKER      86.0     85  85.5    85.4\n",
       "PDAVISO     91.0     69  80.0    77.8\n",
       "SMCCOY      82.0     96  89.0    90.4\n",
       "CECCLES     88.0     89  88.5    88.6\n",
       "DTENNAN     87.0     93  90.0    90.6\n",
       "MSMITH      96.0     76  86.0    84.0\n",
       "PCAPALD     85.0     88  86.5    86.8"
      ]
     },
     "execution_count": 51,
     "metadata": {},
     "output_type": "execute_result"
    }
   ],
   "source": [
    "grades_final[(grades_final['Avg.'] > 85) | (grades_final['Midterm'] > 80)]"
   ]
  }
 ],
 "metadata": {
  "anaconda-cloud": {},
  "kernelspec": {
   "display_name": "Python [Root]",
   "language": "python",
   "name": "Python [Root]"
  },
  "language_info": {
   "codemirror_mode": {
    "name": "ipython",
    "version": 2
   },
   "file_extension": ".py",
   "mimetype": "text/x-python",
   "name": "python",
   "nbconvert_exporter": "python",
   "pygments_lexer": "ipython2",
   "version": "2.7.12"
  }
 },
 "nbformat": 4,
 "nbformat_minor": 0
}
