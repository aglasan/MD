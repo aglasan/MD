{
 "cells": [
  {
   "cell_type": "markdown",
   "metadata": {},
   "source": [
    "Quick Data!\n",
    "---"
   ]
  },
  {
   "cell_type": "markdown",
   "metadata": {},
   "source": [
    "Now, as a \"fun\" exercise, we're just going to go quickly through some of the stuff we covered earlier to demonstrate how Python, Pandas, NumPy and MatPlotLib can work together. I don't know how you spend your evenings, but me? I like to check out datasets on data.gov!"
   ]
  },
  {
   "cell_type": "markdown",
   "metadata": {},
   "source": [
    "Standard library imports..."
   ]
  },
  {
   "cell_type": "code",
   "execution_count": null,
   "metadata": {
    "collapsed": false
   },
   "outputs": [],
   "source": [
    "import pandas as pd\n",
    "import numpy as np\n",
    "import matplotlib.pyplot as plt\n",
    "%matplotlib inline"
   ]
  },
  {
   "cell_type": "markdown",
   "metadata": {},
   "source": [
    "Here's a simple CSV file showing some power usage for zip codes over time. I've added the URL in case the file gets corrupted. Please feel free to download your own, though the column and row names (not to mention Series and DataFrame sizes may be different)."
   ]
  },
  {
   "cell_type": "code",
   "execution_count": null,
   "metadata": {
    "collapsed": false
   },
   "outputs": [],
   "source": [
    "# http://catalog.data.gov/dataset/average-monthly-residential-energy-usage-by-zip-code-0487d\n",
    "power_data = pd.read_csv(r'Average_monthly_residential_energy_usage_By_zip_code.csv',header=0)\n",
    "power_data.columns.values"
   ]
  },
  {
   "cell_type": "code",
   "execution_count": null,
   "metadata": {
    "collapsed": false
   },
   "outputs": [],
   "source": [
    "power_data['Location 1']"
   ]
  },
  {
   "cell_type": "code",
   "execution_count": null,
   "metadata": {
    "collapsed": false
   },
   "outputs": [],
   "source": [
    "power_data['Location 1'] = power_data['Location 1'].str[:5]"
   ]
  },
  {
   "cell_type": "code",
   "execution_count": null,
   "metadata": {
    "collapsed": false
   },
   "outputs": [],
   "source": [
    "power_data = power_data.set_index('Location 1')"
   ]
  },
  {
   "cell_type": "code",
   "execution_count": null,
   "metadata": {
    "collapsed": false
   },
   "outputs": [],
   "source": [
    "power_data = power_data.sort_index()"
   ]
  },
  {
   "cell_type": "code",
   "execution_count": null,
   "metadata": {
    "collapsed": false
   },
   "outputs": [],
   "source": [
    "power_data.index.name = 'Zip Code'"
   ]
  },
  {
   "cell_type": "code",
   "execution_count": null,
   "metadata": {
    "collapsed": false
   },
   "outputs": [],
   "source": [
    "columns = pd.date_range(start='01-01-2005',end='01-01-2012',freq='AS-JAN')"
   ]
  },
  {
   "cell_type": "code",
   "execution_count": null,
   "metadata": {
    "collapsed": false
   },
   "outputs": [],
   "source": [
    "columns"
   ]
  },
  {
   "cell_type": "code",
   "execution_count": null,
   "metadata": {
    "collapsed": true
   },
   "outputs": [],
   "source": [
    "power_data.columns = columns"
   ]
  },
  {
   "cell_type": "code",
   "execution_count": null,
   "metadata": {
    "collapsed": false
   },
   "outputs": [],
   "source": [
    "power_data['Avg.'] = power_data.mean(axis=1)"
   ]
  },
  {
   "cell_type": "code",
   "execution_count": null,
   "metadata": {
    "collapsed": false
   },
   "outputs": [],
   "source": [
    "power_data"
   ]
  },
  {
   "cell_type": "code",
   "execution_count": null,
   "metadata": {
    "collapsed": false
   },
   "outputs": [],
   "source": [
    "power_data.ix[:,5].name"
   ]
  },
  {
   "cell_type": "code",
   "execution_count": null,
   "metadata": {
    "collapsed": false
   },
   "outputs": [],
   "source": [
    "power_data.index[0:10].values"
   ]
  },
  {
   "cell_type": "code",
   "execution_count": null,
   "metadata": {
    "collapsed": false,
    "scrolled": false
   },
   "outputs": [],
   "source": [
    "barWidth = .75\n",
    "plt.figure(figsize=(12,8))\n",
    "plt.barh(np.arange(10),power_data['Avg.'][0:10],barWidth)\n",
    "# plt.margins(0.2)\n",
    "# plt.subplots_adjust(bottom=0.15)\n",
    "# plt.bar?\n",
    "plt.yticks(np.arange(10)+ (barWidth / 2),power_data.index[0:10],rotation=90);"
   ]
  },
  {
   "cell_type": "code",
   "execution_count": null,
   "metadata": {
    "collapsed": false
   },
   "outputs": [],
   "source": [
    "startZip = 0\n",
    "samples = 20\n",
    "endZip = startZip + samples\n",
    "index = np.arange(samples)\n",
    "powerZip = power_data.ix[startZip:endZip].index.values\n",
    "barWidth = .4\n",
    "powerAvg = power_data.ix[startZip:endZip,8:9].values\n",
    "powerYear = power_data.ix[startZip:endZip,7:8].values\n",
    "\n",
    "power_chart = plt.figure(figsize=(16,8))\n",
    "power1 = plt.bar(index, powerYear, barWidth, color='k', label='Average')\n",
    "power2 = plt.bar(index + barWidth, powerAvg, barWidth, color='c', label='2012')\n",
    "plt.xticks(index + barWidth, powerZip )\n",
    "plt.legend();"
   ]
  }
 ],
 "metadata": {
  "kernelspec": {
   "display_name": "Python [Root]",
   "language": "python",
   "name": "Python [Root]"
  },
  "language_info": {
   "codemirror_mode": {
    "name": "ipython",
    "version": 2
   },
   "file_extension": ".py",
   "mimetype": "text/x-python",
   "name": "python",
   "nbconvert_exporter": "python",
   "pygments_lexer": "ipython2",
   "version": "2.7.12"
  }
 },
 "nbformat": 4,
 "nbformat_minor": 0
}
