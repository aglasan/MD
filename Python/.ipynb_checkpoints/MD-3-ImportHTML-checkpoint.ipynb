{
 "cells": [
  {
   "cell_type": "markdown",
   "metadata": {},
   "source": [
    "Using Pandas and Numpy with Data\n",
    "--"
   ]
  },
  {
   "cell_type": "markdown",
   "metadata": {},
   "source": [
    "First, we'll need to import the libraries."
   ]
  },
  {
   "cell_type": "code",
   "execution_count": 1,
   "metadata": {
    "collapsed": true
   },
   "outputs": [],
   "source": [
    "import pandas as pd\n",
    "import numpy as np"
   ]
  },
  {
   "cell_type": "markdown",
   "metadata": {},
   "source": [
    "This is an example of how to read a table from Wikipedia, harvest some data, and change it around so that it reads well for NumPy and Pandas.\n",
    "\n",
    "This first entry describes the `.read_html()` function from the Pandas library."
   ]
  },
  {
   "cell_type": "code",
   "execution_count": 2,
   "metadata": {
    "collapsed": true
   },
   "outputs": [],
   "source": [
    "#pd.read_html?"
   ]
  },
  {
   "cell_type": "code",
   "execution_count": 3,
   "metadata": {},
   "outputs": [
    {
     "data": {
      "text/plain": [
       "[         Parks and Recreation (season 1)  \\\n",
       " 0                          DVD cover art   \n",
       " 1                               Starring   \n",
       " 2                      Country of origin   \n",
       " 3                        No. of episodes   \n",
       " 4                                Release   \n",
       " 5                       Original network   \n",
       " 6                       Original release   \n",
       " 7                      Season chronology   \n",
       " 8                        Next → Season 2   \n",
       " 9  List of Parks and Recreation episodes   \n",
       " \n",
       "                                           Unnamed: 1  \n",
       " 0                                                NaN  \n",
       " 1  Amy Poehler Rashida Jones Paul Schneider Aziz ...  \n",
       " 2                                      United States  \n",
       " 3                                                  6  \n",
       " 4                                                NaN  \n",
       " 5                                                NBC  \n",
       " 6   April 9 (2009-04-09) – May 14, 2009 (2009-05-14)  \n",
       " 7                                                NaN  \n",
       " 8                                                NaN  \n",
       " 9                                                NaN  ,\n",
       "                                           No. overall  No. in season  \\\n",
       " 0                                                   1            1.0   \n",
       " 1   Ann Perkins (Rashida Jones) attends a town mee...            NaN   \n",
       " 2                                                   2            2.0   \n",
       " 3   Leslie and the pit subcommittee canvas neighbo...            NaN   \n",
       " 4                                                   3            3.0   \n",
       " 5   Leslie invites a local reporter (Alison Becker...            NaN   \n",
       " 6                                                   4            4.0   \n",
       " 7   As Andy cleans up the house to surprise Ann, L...            NaN   \n",
       " 8                                                   5            5.0   \n",
       " 9   During a banquet honoring her mother's public ...            NaN   \n",
       " 10                                                  6            6.0   \n",
       " 11  Leslie attends what she believes is a business...            NaN   \n",
       " \n",
       "              Title           Directed by                    Written by  \\\n",
       " 0          \"Pilot\"          Greg Daniels  Greg Daniels & Michael Schur   \n",
       " 1              NaN                   NaN                           NaN   \n",
       " 2     \"Canvassing\"           Seth Gordon                  Rachel Axler   \n",
       " 3              NaN                   NaN                           NaN   \n",
       " 4   \"The Reporter\"         Jeffrey Blitz                Daniel J. Goor   \n",
       " 5              NaN                   NaN                           NaN   \n",
       " 6     \"Boys' Club\"     Michael McCullers                     Alan Yang   \n",
       " 7              NaN                   NaN                           NaN   \n",
       " 8    \"The Banquet\"  Beth McCarthy-Miller                 Tucker Cawley   \n",
       " 9              NaN                   NaN                           NaN   \n",
       " 10    \"Rock Show\"†         Michael Schur                  Norm Hiscock   \n",
       " 11             NaN                   NaN                           NaN   \n",
       " \n",
       "               Original air date U.S. viewers (millions)  \n",
       " 0    April 9, 2009 (2009-04-09)                 6.77[1]  \n",
       " 1                           NaN                     NaN  \n",
       " 2   April 16, 2009 (2009-04-16)                 5.92[2]  \n",
       " 3                           NaN                     NaN  \n",
       " 4   April 23, 2009 (2009-04-23)                 5.24[3]  \n",
       " 5                           NaN                     NaN  \n",
       " 6   April 30, 2009 (2009-04-30)                 5.29[4]  \n",
       " 7                           NaN                     NaN  \n",
       " 8      May 7, 2009 (2009-05-07)                 4.64[5]  \n",
       " 9                           NaN                     NaN  \n",
       " 10    May 14, 2009 (2009-05-14)                 4.25[6]  \n",
       " 11                          NaN                     NaN  ,\n",
       "   v t e Parks and Recreation  \\\n",
       " 0                   Episodes   \n",
       " 1                   Season 1   \n",
       " 2                   Season 2   \n",
       " 3                   Season 3   \n",
       " 4                   Season 4   \n",
       " 5                   Season 5   \n",
       " 6                   Season 6   \n",
       " 7                   Season 7   \n",
       " 8                 Characters   \n",
       " 9                    Related   \n",
       " \n",
       "                                           Unnamed: 1 Unnamed: 2  \\\n",
       " 0  Season 1 \"Pilot\" \"Canvassing\" \"The Reporter\" \"...   Season 1   \n",
       " 1  \"Pilot\" \"Canvassing\" \"The Reporter\" \"Boys' Clu...        NaN   \n",
       " 2  \"Pawnee Zoo\" \"The Stakeout\" \"Beauty Pageant\" \"...        NaN   \n",
       " 3  \"Go Big or Go Home\" \"Flu Season\" \"Time Capsule...        NaN   \n",
       " 4  \"I'm Leslie Knope\" \"Ron and Tammys\" \"Born & Ra...        NaN   \n",
       " 5  \"Ms. Knope Goes to Washington\" \"Soda Tax\" \"How...        NaN   \n",
       " 6                                                NaN        NaN   \n",
       " 7                   \"Leslie and Ron\" \"One Last Ride\"        NaN   \n",
       " 8  Leslie Knope Ron Swanson Tom Haverford Ann Per...        NaN   \n",
       " 9                      Pawnee Awards and nominations        NaN   \n",
       " \n",
       "                                           Unnamed: 3 Unnamed: 4  \\\n",
       " 0  \"Pilot\" \"Canvassing\" \"The Reporter\" \"Boys' Clu...   Season 2   \n",
       " 1                                                NaN        NaN   \n",
       " 2                                                NaN        NaN   \n",
       " 3                                                NaN        NaN   \n",
       " 4                                                NaN        NaN   \n",
       " 5                                                NaN        NaN   \n",
       " 6                                                NaN        NaN   \n",
       " 7                                                NaN        NaN   \n",
       " 8                                                NaN        NaN   \n",
       " 9                                                NaN        NaN   \n",
       " \n",
       "                                           Unnamed: 5 Unnamed: 6  \\\n",
       " 0  \"Pawnee Zoo\" \"The Stakeout\" \"Beauty Pageant\" \"...   Season 3   \n",
       " 1                                                NaN        NaN   \n",
       " 2                                                NaN        NaN   \n",
       " 3                                                NaN        NaN   \n",
       " 4                                                NaN        NaN   \n",
       " 5                                                NaN        NaN   \n",
       " 6                                                NaN        NaN   \n",
       " 7                                                NaN        NaN   \n",
       " 8                                                NaN        NaN   \n",
       " 9                                                NaN        NaN   \n",
       " \n",
       "                                           Unnamed: 7 Unnamed: 8  \\\n",
       " 0  \"Go Big or Go Home\" \"Flu Season\" \"Time Capsule...   Season 4   \n",
       " 1                                                NaN        NaN   \n",
       " 2                                                NaN        NaN   \n",
       " 3                                                NaN        NaN   \n",
       " 4                                                NaN        NaN   \n",
       " 5                                                NaN        NaN   \n",
       " 6                                                NaN        NaN   \n",
       " 7                                                NaN        NaN   \n",
       " 8                                                NaN        NaN   \n",
       " 9                                                NaN        NaN   \n",
       " \n",
       "                                           Unnamed: 9 Unnamed: 10  \\\n",
       " 0  \"I'm Leslie Knope\" \"Ron and Tammys\" \"Born & Ra...    Season 5   \n",
       " 1                                                NaN         NaN   \n",
       " 2                                                NaN         NaN   \n",
       " 3                                                NaN         NaN   \n",
       " 4                                                NaN         NaN   \n",
       " 5                                                NaN         NaN   \n",
       " 6                                                NaN         NaN   \n",
       " 7                                                NaN         NaN   \n",
       " 8                                                NaN         NaN   \n",
       " 9                                                NaN         NaN   \n",
       " \n",
       "                                          Unnamed: 11 Unnamed: 12  Unnamed: 13  \\\n",
       " 0  \"Ms. Knope Goes to Washington\" \"Soda Tax\" \"How...    Season 6          NaN   \n",
       " 1                                                NaN         NaN          NaN   \n",
       " 2                                                NaN         NaN          NaN   \n",
       " 3                                                NaN         NaN          NaN   \n",
       " 4                                                NaN         NaN          NaN   \n",
       " 5                                                NaN         NaN          NaN   \n",
       " 6                                                NaN         NaN          NaN   \n",
       " 7                                                NaN         NaN          NaN   \n",
       " 8                                                NaN         NaN          NaN   \n",
       " 9                                                NaN         NaN          NaN   \n",
       " \n",
       "   Unnamed: 14                       Unnamed: 15  \n",
       " 0    Season 7  \"Leslie and Ron\" \"One Last Ride\"  \n",
       " 1         NaN                               NaN  \n",
       " 2         NaN                               NaN  \n",
       " 3         NaN                               NaN  \n",
       " 4         NaN                               NaN  \n",
       " 5         NaN                               NaN  \n",
       " 6         NaN                               NaN  \n",
       " 7         NaN                               NaN  \n",
       " 8         NaN                               NaN  \n",
       " 9         NaN                               NaN  ,\n",
       "    Season 1  \\\n",
       " 0  Season 2   \n",
       " 1  Season 3   \n",
       " 2  Season 4   \n",
       " 3  Season 5   \n",
       " 4  Season 6   \n",
       " 5  Season 7   \n",
       " \n",
       "   \"Pilot\" \"Canvassing\" \"The Reporter\" \"Boys' Club\" \"The Banquet\" \"Rock Show\"  \n",
       " 0  \"Pawnee Zoo\" \"The Stakeout\" \"Beauty Pageant\" \"...                          \n",
       " 1  \"Go Big or Go Home\" \"Flu Season\" \"Time Capsule...                          \n",
       " 2  \"I'm Leslie Knope\" \"Ron and Tammys\" \"Born & Ra...                          \n",
       " 3  \"Ms. Knope Goes to Washington\" \"Soda Tax\" \"How...                          \n",
       " 4                                                NaN                          \n",
       " 5                   \"Leslie and Ron\" \"One Last Ride\"                          ]"
      ]
     },
     "execution_count": 3,
     "metadata": {},
     "output_type": "execute_result"
    }
   ],
   "source": [
    "episodes = pd.read_html(r'https://en.wikipedia.org/wiki/Parks_and_Recreation_%28season_1%29',header=0)\n",
    "episodes"
   ]
  },
  {
   "cell_type": "markdown",
   "metadata": {},
   "source": [
    "Above, we've passed two arguments to the pd.read_html() method. First, we're passing the URL. Pandas will use other installed libraries to connect to this URL and begin extracting the tables as a list. Notice the '[' at the beginning, and the ']' all the way at the end? That should be an indication that it is a list.  Of course you could always:"
   ]
  },
  {
   "cell_type": "code",
   "execution_count": 4,
   "metadata": {},
   "outputs": [
    {
     "data": {
      "text/plain": [
       "list"
      ]
     },
     "execution_count": 4,
     "metadata": {},
     "output_type": "execute_result"
    }
   ],
   "source": [
    "type(episodes)"
   ]
  },
  {
   "cell_type": "markdown",
   "metadata": {},
   "source": [
    "Since it is a list, it can be sliced. We just need to figure out which slice we want. Is it the first one? (remember, Python is zero-indexed.)"
   ]
  },
  {
   "cell_type": "code",
   "execution_count": 5,
   "metadata": {},
   "outputs": [
    {
     "data": {
      "text/html": [
       "<div>\n",
       "<style>\n",
       "    .dataframe thead tr:only-child th {\n",
       "        text-align: right;\n",
       "    }\n",
       "\n",
       "    .dataframe thead th {\n",
       "        text-align: left;\n",
       "    }\n",
       "\n",
       "    .dataframe tbody tr th {\n",
       "        vertical-align: top;\n",
       "    }\n",
       "</style>\n",
       "<table border=\"1\" class=\"dataframe\">\n",
       "  <thead>\n",
       "    <tr style=\"text-align: right;\">\n",
       "      <th></th>\n",
       "      <th>Parks and Recreation (season 1)</th>\n",
       "      <th>Unnamed: 1</th>\n",
       "    </tr>\n",
       "  </thead>\n",
       "  <tbody>\n",
       "    <tr>\n",
       "      <th>0</th>\n",
       "      <td>DVD cover art</td>\n",
       "      <td>NaN</td>\n",
       "    </tr>\n",
       "    <tr>\n",
       "      <th>1</th>\n",
       "      <td>Starring</td>\n",
       "      <td>Amy Poehler Rashida Jones Paul Schneider Aziz ...</td>\n",
       "    </tr>\n",
       "    <tr>\n",
       "      <th>2</th>\n",
       "      <td>Country of origin</td>\n",
       "      <td>United States</td>\n",
       "    </tr>\n",
       "    <tr>\n",
       "      <th>3</th>\n",
       "      <td>No. of episodes</td>\n",
       "      <td>6</td>\n",
       "    </tr>\n",
       "    <tr>\n",
       "      <th>4</th>\n",
       "      <td>Release</td>\n",
       "      <td>NaN</td>\n",
       "    </tr>\n",
       "    <tr>\n",
       "      <th>5</th>\n",
       "      <td>Original network</td>\n",
       "      <td>NBC</td>\n",
       "    </tr>\n",
       "    <tr>\n",
       "      <th>6</th>\n",
       "      <td>Original release</td>\n",
       "      <td>April 9 (2009-04-09) – May 14, 2009 (2009-05-14)</td>\n",
       "    </tr>\n",
       "    <tr>\n",
       "      <th>7</th>\n",
       "      <td>Season chronology</td>\n",
       "      <td>NaN</td>\n",
       "    </tr>\n",
       "    <tr>\n",
       "      <th>8</th>\n",
       "      <td>Next → Season 2</td>\n",
       "      <td>NaN</td>\n",
       "    </tr>\n",
       "    <tr>\n",
       "      <th>9</th>\n",
       "      <td>List of Parks and Recreation episodes</td>\n",
       "      <td>NaN</td>\n",
       "    </tr>\n",
       "  </tbody>\n",
       "</table>\n",
       "</div>"
      ],
      "text/plain": [
       "         Parks and Recreation (season 1)  \\\n",
       "0                          DVD cover art   \n",
       "1                               Starring   \n",
       "2                      Country of origin   \n",
       "3                        No. of episodes   \n",
       "4                                Release   \n",
       "5                       Original network   \n",
       "6                       Original release   \n",
       "7                      Season chronology   \n",
       "8                        Next → Season 2   \n",
       "9  List of Parks and Recreation episodes   \n",
       "\n",
       "                                          Unnamed: 1  \n",
       "0                                                NaN  \n",
       "1  Amy Poehler Rashida Jones Paul Schneider Aziz ...  \n",
       "2                                      United States  \n",
       "3                                                  6  \n",
       "4                                                NaN  \n",
       "5                                                NBC  \n",
       "6   April 9 (2009-04-09) – May 14, 2009 (2009-05-14)  \n",
       "7                                                NaN  \n",
       "8                                                NaN  \n",
       "9                                                NaN  "
      ]
     },
     "execution_count": 5,
     "metadata": {},
     "output_type": "execute_result"
    }
   ],
   "source": [
    "episodes[0]"
   ]
  },
  {
   "cell_type": "markdown",
   "metadata": {},
   "source": [
    "While we could do some things with this, this table isn't the full data we're looking to process. For this page, we're looking at the second table, or `episodes[1]`. We'll go ahead and assign that to a variable we're calling 'season'."
   ]
  },
  {
   "cell_type": "code",
   "execution_count": 6,
   "metadata": {
    "scrolled": false
   },
   "outputs": [
    {
     "data": {
      "text/html": [
       "<div>\n",
       "<style>\n",
       "    .dataframe thead tr:only-child th {\n",
       "        text-align: right;\n",
       "    }\n",
       "\n",
       "    .dataframe thead th {\n",
       "        text-align: left;\n",
       "    }\n",
       "\n",
       "    .dataframe tbody tr th {\n",
       "        vertical-align: top;\n",
       "    }\n",
       "</style>\n",
       "<table border=\"1\" class=\"dataframe\">\n",
       "  <thead>\n",
       "    <tr style=\"text-align: right;\">\n",
       "      <th></th>\n",
       "      <th>No. overall</th>\n",
       "      <th>No. in season</th>\n",
       "      <th>Title</th>\n",
       "      <th>Directed by</th>\n",
       "      <th>Written by</th>\n",
       "      <th>Original air date</th>\n",
       "      <th>U.S. viewers (millions)</th>\n",
       "    </tr>\n",
       "  </thead>\n",
       "  <tbody>\n",
       "    <tr>\n",
       "      <th>0</th>\n",
       "      <td>1</td>\n",
       "      <td>1.0</td>\n",
       "      <td>\"Pilot\"</td>\n",
       "      <td>Greg Daniels</td>\n",
       "      <td>Greg Daniels &amp; Michael Schur</td>\n",
       "      <td>April 9, 2009 (2009-04-09)</td>\n",
       "      <td>6.77[1]</td>\n",
       "    </tr>\n",
       "    <tr>\n",
       "      <th>1</th>\n",
       "      <td>Ann Perkins (Rashida Jones) attends a town mee...</td>\n",
       "      <td>NaN</td>\n",
       "      <td>NaN</td>\n",
       "      <td>NaN</td>\n",
       "      <td>NaN</td>\n",
       "      <td>NaN</td>\n",
       "      <td>NaN</td>\n",
       "    </tr>\n",
       "    <tr>\n",
       "      <th>2</th>\n",
       "      <td>2</td>\n",
       "      <td>2.0</td>\n",
       "      <td>\"Canvassing\"</td>\n",
       "      <td>Seth Gordon</td>\n",
       "      <td>Rachel Axler</td>\n",
       "      <td>April 16, 2009 (2009-04-16)</td>\n",
       "      <td>5.92[2]</td>\n",
       "    </tr>\n",
       "    <tr>\n",
       "      <th>3</th>\n",
       "      <td>Leslie and the pit subcommittee canvas neighbo...</td>\n",
       "      <td>NaN</td>\n",
       "      <td>NaN</td>\n",
       "      <td>NaN</td>\n",
       "      <td>NaN</td>\n",
       "      <td>NaN</td>\n",
       "      <td>NaN</td>\n",
       "    </tr>\n",
       "    <tr>\n",
       "      <th>4</th>\n",
       "      <td>3</td>\n",
       "      <td>3.0</td>\n",
       "      <td>\"The Reporter\"</td>\n",
       "      <td>Jeffrey Blitz</td>\n",
       "      <td>Daniel J. Goor</td>\n",
       "      <td>April 23, 2009 (2009-04-23)</td>\n",
       "      <td>5.24[3]</td>\n",
       "    </tr>\n",
       "    <tr>\n",
       "      <th>5</th>\n",
       "      <td>Leslie invites a local reporter (Alison Becker...</td>\n",
       "      <td>NaN</td>\n",
       "      <td>NaN</td>\n",
       "      <td>NaN</td>\n",
       "      <td>NaN</td>\n",
       "      <td>NaN</td>\n",
       "      <td>NaN</td>\n",
       "    </tr>\n",
       "    <tr>\n",
       "      <th>6</th>\n",
       "      <td>4</td>\n",
       "      <td>4.0</td>\n",
       "      <td>\"Boys' Club\"</td>\n",
       "      <td>Michael McCullers</td>\n",
       "      <td>Alan Yang</td>\n",
       "      <td>April 30, 2009 (2009-04-30)</td>\n",
       "      <td>5.29[4]</td>\n",
       "    </tr>\n",
       "    <tr>\n",
       "      <th>7</th>\n",
       "      <td>As Andy cleans up the house to surprise Ann, L...</td>\n",
       "      <td>NaN</td>\n",
       "      <td>NaN</td>\n",
       "      <td>NaN</td>\n",
       "      <td>NaN</td>\n",
       "      <td>NaN</td>\n",
       "      <td>NaN</td>\n",
       "    </tr>\n",
       "    <tr>\n",
       "      <th>8</th>\n",
       "      <td>5</td>\n",
       "      <td>5.0</td>\n",
       "      <td>\"The Banquet\"</td>\n",
       "      <td>Beth McCarthy-Miller</td>\n",
       "      <td>Tucker Cawley</td>\n",
       "      <td>May 7, 2009 (2009-05-07)</td>\n",
       "      <td>4.64[5]</td>\n",
       "    </tr>\n",
       "    <tr>\n",
       "      <th>9</th>\n",
       "      <td>During a banquet honoring her mother's public ...</td>\n",
       "      <td>NaN</td>\n",
       "      <td>NaN</td>\n",
       "      <td>NaN</td>\n",
       "      <td>NaN</td>\n",
       "      <td>NaN</td>\n",
       "      <td>NaN</td>\n",
       "    </tr>\n",
       "    <tr>\n",
       "      <th>10</th>\n",
       "      <td>6</td>\n",
       "      <td>6.0</td>\n",
       "      <td>\"Rock Show\"†</td>\n",
       "      <td>Michael Schur</td>\n",
       "      <td>Norm Hiscock</td>\n",
       "      <td>May 14, 2009 (2009-05-14)</td>\n",
       "      <td>4.25[6]</td>\n",
       "    </tr>\n",
       "    <tr>\n",
       "      <th>11</th>\n",
       "      <td>Leslie attends what she believes is a business...</td>\n",
       "      <td>NaN</td>\n",
       "      <td>NaN</td>\n",
       "      <td>NaN</td>\n",
       "      <td>NaN</td>\n",
       "      <td>NaN</td>\n",
       "      <td>NaN</td>\n",
       "    </tr>\n",
       "  </tbody>\n",
       "</table>\n",
       "</div>"
      ],
      "text/plain": [
       "                                          No. overall  No. in season  \\\n",
       "0                                                   1            1.0   \n",
       "1   Ann Perkins (Rashida Jones) attends a town mee...            NaN   \n",
       "2                                                   2            2.0   \n",
       "3   Leslie and the pit subcommittee canvas neighbo...            NaN   \n",
       "4                                                   3            3.0   \n",
       "5   Leslie invites a local reporter (Alison Becker...            NaN   \n",
       "6                                                   4            4.0   \n",
       "7   As Andy cleans up the house to surprise Ann, L...            NaN   \n",
       "8                                                   5            5.0   \n",
       "9   During a banquet honoring her mother's public ...            NaN   \n",
       "10                                                  6            6.0   \n",
       "11  Leslie attends what she believes is a business...            NaN   \n",
       "\n",
       "             Title           Directed by                    Written by  \\\n",
       "0          \"Pilot\"          Greg Daniels  Greg Daniels & Michael Schur   \n",
       "1              NaN                   NaN                           NaN   \n",
       "2     \"Canvassing\"           Seth Gordon                  Rachel Axler   \n",
       "3              NaN                   NaN                           NaN   \n",
       "4   \"The Reporter\"         Jeffrey Blitz                Daniel J. Goor   \n",
       "5              NaN                   NaN                           NaN   \n",
       "6     \"Boys' Club\"     Michael McCullers                     Alan Yang   \n",
       "7              NaN                   NaN                           NaN   \n",
       "8    \"The Banquet\"  Beth McCarthy-Miller                 Tucker Cawley   \n",
       "9              NaN                   NaN                           NaN   \n",
       "10    \"Rock Show\"†         Michael Schur                  Norm Hiscock   \n",
       "11             NaN                   NaN                           NaN   \n",
       "\n",
       "              Original air date U.S. viewers (millions)  \n",
       "0    April 9, 2009 (2009-04-09)                 6.77[1]  \n",
       "1                           NaN                     NaN  \n",
       "2   April 16, 2009 (2009-04-16)                 5.92[2]  \n",
       "3                           NaN                     NaN  \n",
       "4   April 23, 2009 (2009-04-23)                 5.24[3]  \n",
       "5                           NaN                     NaN  \n",
       "6   April 30, 2009 (2009-04-30)                 5.29[4]  \n",
       "7                           NaN                     NaN  \n",
       "8      May 7, 2009 (2009-05-07)                 4.64[5]  \n",
       "9                           NaN                     NaN  \n",
       "10    May 14, 2009 (2009-05-14)                 4.25[6]  \n",
       "11                          NaN                     NaN  "
      ]
     },
     "execution_count": 6,
     "metadata": {},
     "output_type": "execute_result"
    }
   ],
   "source": [
    "season = episodes[1]\n",
    "season"
   ]
  },
  {
   "cell_type": "markdown",
   "metadata": {},
   "source": [
    "Notice here that there are a bunch of cells with 'NaN' in them. We talked about 'Not a Number' before, and again NumPy is saying that it couldn't find or interpret data here. We could use some Pandas functions to deal with these cells."
   ]
  },
  {
   "cell_type": "code",
   "execution_count": 7,
   "metadata": {
    "scrolled": true
   },
   "outputs": [
    {
     "data": {
      "text/html": [
       "<div>\n",
       "<style>\n",
       "    .dataframe thead tr:only-child th {\n",
       "        text-align: right;\n",
       "    }\n",
       "\n",
       "    .dataframe thead th {\n",
       "        text-align: left;\n",
       "    }\n",
       "\n",
       "    .dataframe tbody tr th {\n",
       "        vertical-align: top;\n",
       "    }\n",
       "</style>\n",
       "<table border=\"1\" class=\"dataframe\">\n",
       "  <thead>\n",
       "    <tr style=\"text-align: right;\">\n",
       "      <th></th>\n",
       "      <th>No. overall</th>\n",
       "      <th>No. in season</th>\n",
       "      <th>Title</th>\n",
       "      <th>Directed by</th>\n",
       "      <th>Written by</th>\n",
       "      <th>Original air date</th>\n",
       "      <th>U.S. viewers (millions)</th>\n",
       "    </tr>\n",
       "  </thead>\n",
       "  <tbody>\n",
       "    <tr>\n",
       "      <th>0</th>\n",
       "      <td>1</td>\n",
       "      <td>1.0</td>\n",
       "      <td>\"Pilot\"</td>\n",
       "      <td>Greg Daniels</td>\n",
       "      <td>Greg Daniels &amp; Michael Schur</td>\n",
       "      <td>April 9, 2009 (2009-04-09)</td>\n",
       "      <td>6.77[1]</td>\n",
       "    </tr>\n",
       "    <tr>\n",
       "      <th>2</th>\n",
       "      <td>2</td>\n",
       "      <td>2.0</td>\n",
       "      <td>\"Canvassing\"</td>\n",
       "      <td>Seth Gordon</td>\n",
       "      <td>Rachel Axler</td>\n",
       "      <td>April 16, 2009 (2009-04-16)</td>\n",
       "      <td>5.92[2]</td>\n",
       "    </tr>\n",
       "    <tr>\n",
       "      <th>4</th>\n",
       "      <td>3</td>\n",
       "      <td>3.0</td>\n",
       "      <td>\"The Reporter\"</td>\n",
       "      <td>Jeffrey Blitz</td>\n",
       "      <td>Daniel J. Goor</td>\n",
       "      <td>April 23, 2009 (2009-04-23)</td>\n",
       "      <td>5.24[3]</td>\n",
       "    </tr>\n",
       "    <tr>\n",
       "      <th>6</th>\n",
       "      <td>4</td>\n",
       "      <td>4.0</td>\n",
       "      <td>\"Boys' Club\"</td>\n",
       "      <td>Michael McCullers</td>\n",
       "      <td>Alan Yang</td>\n",
       "      <td>April 30, 2009 (2009-04-30)</td>\n",
       "      <td>5.29[4]</td>\n",
       "    </tr>\n",
       "    <tr>\n",
       "      <th>8</th>\n",
       "      <td>5</td>\n",
       "      <td>5.0</td>\n",
       "      <td>\"The Banquet\"</td>\n",
       "      <td>Beth McCarthy-Miller</td>\n",
       "      <td>Tucker Cawley</td>\n",
       "      <td>May 7, 2009 (2009-05-07)</td>\n",
       "      <td>4.64[5]</td>\n",
       "    </tr>\n",
       "    <tr>\n",
       "      <th>10</th>\n",
       "      <td>6</td>\n",
       "      <td>6.0</td>\n",
       "      <td>\"Rock Show\"†</td>\n",
       "      <td>Michael Schur</td>\n",
       "      <td>Norm Hiscock</td>\n",
       "      <td>May 14, 2009 (2009-05-14)</td>\n",
       "      <td>4.25[6]</td>\n",
       "    </tr>\n",
       "  </tbody>\n",
       "</table>\n",
       "</div>"
      ],
      "text/plain": [
       "   No. overall  No. in season           Title           Directed by  \\\n",
       "0            1            1.0         \"Pilot\"          Greg Daniels   \n",
       "2            2            2.0    \"Canvassing\"           Seth Gordon   \n",
       "4            3            3.0  \"The Reporter\"         Jeffrey Blitz   \n",
       "6            4            4.0    \"Boys' Club\"     Michael McCullers   \n",
       "8            5            5.0   \"The Banquet\"  Beth McCarthy-Miller   \n",
       "10           6            6.0    \"Rock Show\"†         Michael Schur   \n",
       "\n",
       "                      Written by            Original air date  \\\n",
       "0   Greg Daniels & Michael Schur   April 9, 2009 (2009-04-09)   \n",
       "2                   Rachel Axler  April 16, 2009 (2009-04-16)   \n",
       "4                 Daniel J. Goor  April 23, 2009 (2009-04-23)   \n",
       "6                      Alan Yang  April 30, 2009 (2009-04-30)   \n",
       "8                  Tucker Cawley     May 7, 2009 (2009-05-07)   \n",
       "10                  Norm Hiscock    May 14, 2009 (2009-05-14)   \n",
       "\n",
       "   U.S. viewers (millions)  \n",
       "0                  6.77[1]  \n",
       "2                  5.92[2]  \n",
       "4                  5.24[3]  \n",
       "6                  5.29[4]  \n",
       "8                  4.64[5]  \n",
       "10                 4.25[6]  "
      ]
     },
     "execution_count": 7,
     "metadata": {},
     "output_type": "execute_result"
    }
   ],
   "source": [
    "season.dropna()"
   ]
  },
  {
   "cell_type": "markdown",
   "metadata": {},
   "source": [
    "The .dropna() method effectively drops any rows where there are one or more NaN entries. Unfortunately, while the rows were mostly NaN, there were some cells with data in them. By default, .dropna() has the argument **how='any'**. Meaning, if a row contains one or more NaN, then .dropna() will drop it. Instead, we can use .dropna(how='all'). This will only drop rows where all cells are NaN."
   ]
  },
  {
   "cell_type": "code",
   "execution_count": 8,
   "metadata": {
    "scrolled": false
   },
   "outputs": [
    {
     "data": {
      "text/html": [
       "<div>\n",
       "<style>\n",
       "    .dataframe thead tr:only-child th {\n",
       "        text-align: right;\n",
       "    }\n",
       "\n",
       "    .dataframe thead th {\n",
       "        text-align: left;\n",
       "    }\n",
       "\n",
       "    .dataframe tbody tr th {\n",
       "        vertical-align: top;\n",
       "    }\n",
       "</style>\n",
       "<table border=\"1\" class=\"dataframe\">\n",
       "  <thead>\n",
       "    <tr style=\"text-align: right;\">\n",
       "      <th></th>\n",
       "      <th>No. overall</th>\n",
       "      <th>No. in season</th>\n",
       "      <th>Title</th>\n",
       "      <th>Directed by</th>\n",
       "      <th>Written by</th>\n",
       "      <th>Original air date</th>\n",
       "      <th>U.S. viewers (millions)</th>\n",
       "    </tr>\n",
       "  </thead>\n",
       "  <tbody>\n",
       "    <tr>\n",
       "      <th>0</th>\n",
       "      <td>1</td>\n",
       "      <td>1.0</td>\n",
       "      <td>\"Pilot\"</td>\n",
       "      <td>Greg Daniels</td>\n",
       "      <td>Greg Daniels &amp; Michael Schur</td>\n",
       "      <td>April 9, 2009 (2009-04-09)</td>\n",
       "      <td>6.77[1]</td>\n",
       "    </tr>\n",
       "    <tr>\n",
       "      <th>1</th>\n",
       "      <td>Ann Perkins (Rashida Jones) attends a town mee...</td>\n",
       "      <td>NaN</td>\n",
       "      <td>NaN</td>\n",
       "      <td>NaN</td>\n",
       "      <td>NaN</td>\n",
       "      <td>NaN</td>\n",
       "      <td>NaN</td>\n",
       "    </tr>\n",
       "    <tr>\n",
       "      <th>2</th>\n",
       "      <td>2</td>\n",
       "      <td>2.0</td>\n",
       "      <td>\"Canvassing\"</td>\n",
       "      <td>Seth Gordon</td>\n",
       "      <td>Rachel Axler</td>\n",
       "      <td>April 16, 2009 (2009-04-16)</td>\n",
       "      <td>5.92[2]</td>\n",
       "    </tr>\n",
       "    <tr>\n",
       "      <th>3</th>\n",
       "      <td>Leslie and the pit subcommittee canvas neighbo...</td>\n",
       "      <td>NaN</td>\n",
       "      <td>NaN</td>\n",
       "      <td>NaN</td>\n",
       "      <td>NaN</td>\n",
       "      <td>NaN</td>\n",
       "      <td>NaN</td>\n",
       "    </tr>\n",
       "    <tr>\n",
       "      <th>4</th>\n",
       "      <td>3</td>\n",
       "      <td>3.0</td>\n",
       "      <td>\"The Reporter\"</td>\n",
       "      <td>Jeffrey Blitz</td>\n",
       "      <td>Daniel J. Goor</td>\n",
       "      <td>April 23, 2009 (2009-04-23)</td>\n",
       "      <td>5.24[3]</td>\n",
       "    </tr>\n",
       "    <tr>\n",
       "      <th>5</th>\n",
       "      <td>Leslie invites a local reporter (Alison Becker...</td>\n",
       "      <td>NaN</td>\n",
       "      <td>NaN</td>\n",
       "      <td>NaN</td>\n",
       "      <td>NaN</td>\n",
       "      <td>NaN</td>\n",
       "      <td>NaN</td>\n",
       "    </tr>\n",
       "    <tr>\n",
       "      <th>6</th>\n",
       "      <td>4</td>\n",
       "      <td>4.0</td>\n",
       "      <td>\"Boys' Club\"</td>\n",
       "      <td>Michael McCullers</td>\n",
       "      <td>Alan Yang</td>\n",
       "      <td>April 30, 2009 (2009-04-30)</td>\n",
       "      <td>5.29[4]</td>\n",
       "    </tr>\n",
       "    <tr>\n",
       "      <th>7</th>\n",
       "      <td>As Andy cleans up the house to surprise Ann, L...</td>\n",
       "      <td>NaN</td>\n",
       "      <td>NaN</td>\n",
       "      <td>NaN</td>\n",
       "      <td>NaN</td>\n",
       "      <td>NaN</td>\n",
       "      <td>NaN</td>\n",
       "    </tr>\n",
       "    <tr>\n",
       "      <th>8</th>\n",
       "      <td>5</td>\n",
       "      <td>5.0</td>\n",
       "      <td>\"The Banquet\"</td>\n",
       "      <td>Beth McCarthy-Miller</td>\n",
       "      <td>Tucker Cawley</td>\n",
       "      <td>May 7, 2009 (2009-05-07)</td>\n",
       "      <td>4.64[5]</td>\n",
       "    </tr>\n",
       "    <tr>\n",
       "      <th>9</th>\n",
       "      <td>During a banquet honoring her mother's public ...</td>\n",
       "      <td>NaN</td>\n",
       "      <td>NaN</td>\n",
       "      <td>NaN</td>\n",
       "      <td>NaN</td>\n",
       "      <td>NaN</td>\n",
       "      <td>NaN</td>\n",
       "    </tr>\n",
       "    <tr>\n",
       "      <th>10</th>\n",
       "      <td>6</td>\n",
       "      <td>6.0</td>\n",
       "      <td>\"Rock Show\"†</td>\n",
       "      <td>Michael Schur</td>\n",
       "      <td>Norm Hiscock</td>\n",
       "      <td>May 14, 2009 (2009-05-14)</td>\n",
       "      <td>4.25[6]</td>\n",
       "    </tr>\n",
       "    <tr>\n",
       "      <th>11</th>\n",
       "      <td>Leslie attends what she believes is a business...</td>\n",
       "      <td>NaN</td>\n",
       "      <td>NaN</td>\n",
       "      <td>NaN</td>\n",
       "      <td>NaN</td>\n",
       "      <td>NaN</td>\n",
       "      <td>NaN</td>\n",
       "    </tr>\n",
       "  </tbody>\n",
       "</table>\n",
       "</div>"
      ],
      "text/plain": [
       "                                          No. overall  No. in season  \\\n",
       "0                                                   1            1.0   \n",
       "1   Ann Perkins (Rashida Jones) attends a town mee...            NaN   \n",
       "2                                                   2            2.0   \n",
       "3   Leslie and the pit subcommittee canvas neighbo...            NaN   \n",
       "4                                                   3            3.0   \n",
       "5   Leslie invites a local reporter (Alison Becker...            NaN   \n",
       "6                                                   4            4.0   \n",
       "7   As Andy cleans up the house to surprise Ann, L...            NaN   \n",
       "8                                                   5            5.0   \n",
       "9   During a banquet honoring her mother's public ...            NaN   \n",
       "10                                                  6            6.0   \n",
       "11  Leslie attends what she believes is a business...            NaN   \n",
       "\n",
       "             Title           Directed by                    Written by  \\\n",
       "0          \"Pilot\"          Greg Daniels  Greg Daniels & Michael Schur   \n",
       "1              NaN                   NaN                           NaN   \n",
       "2     \"Canvassing\"           Seth Gordon                  Rachel Axler   \n",
       "3              NaN                   NaN                           NaN   \n",
       "4   \"The Reporter\"         Jeffrey Blitz                Daniel J. Goor   \n",
       "5              NaN                   NaN                           NaN   \n",
       "6     \"Boys' Club\"     Michael McCullers                     Alan Yang   \n",
       "7              NaN                   NaN                           NaN   \n",
       "8    \"The Banquet\"  Beth McCarthy-Miller                 Tucker Cawley   \n",
       "9              NaN                   NaN                           NaN   \n",
       "10    \"Rock Show\"†         Michael Schur                  Norm Hiscock   \n",
       "11             NaN                   NaN                           NaN   \n",
       "\n",
       "              Original air date U.S. viewers (millions)  \n",
       "0    April 9, 2009 (2009-04-09)                 6.77[1]  \n",
       "1                           NaN                     NaN  \n",
       "2   April 16, 2009 (2009-04-16)                 5.92[2]  \n",
       "3                           NaN                     NaN  \n",
       "4   April 23, 2009 (2009-04-23)                 5.24[3]  \n",
       "5                           NaN                     NaN  \n",
       "6   April 30, 2009 (2009-04-30)                 5.29[4]  \n",
       "7                           NaN                     NaN  \n",
       "8      May 7, 2009 (2009-05-07)                 4.64[5]  \n",
       "9                           NaN                     NaN  \n",
       "10    May 14, 2009 (2009-05-14)                 4.25[6]  \n",
       "11                          NaN                     NaN  "
      ]
     },
     "execution_count": 8,
     "metadata": {},
     "output_type": "execute_result"
    }
   ],
   "source": [
    "season.dropna(how='all')"
   ]
  },
  {
   "cell_type": "markdown",
   "metadata": {},
   "source": [
    "This doesn't show anything here, as we don't have any rows that are completely filled with NaN. But, we can use .fillna() to automatically change that value to something else that may be relevant to your data collection methods."
   ]
  },
  {
   "cell_type": "code",
   "execution_count": 9,
   "metadata": {},
   "outputs": [
    {
     "data": {
      "text/html": [
       "<div>\n",
       "<style>\n",
       "    .dataframe thead tr:only-child th {\n",
       "        text-align: right;\n",
       "    }\n",
       "\n",
       "    .dataframe thead th {\n",
       "        text-align: left;\n",
       "    }\n",
       "\n",
       "    .dataframe tbody tr th {\n",
       "        vertical-align: top;\n",
       "    }\n",
       "</style>\n",
       "<table border=\"1\" class=\"dataframe\">\n",
       "  <thead>\n",
       "    <tr style=\"text-align: right;\">\n",
       "      <th></th>\n",
       "      <th>No. overall</th>\n",
       "      <th>No. in season</th>\n",
       "      <th>Title</th>\n",
       "      <th>Directed by</th>\n",
       "      <th>Written by</th>\n",
       "      <th>Original air date</th>\n",
       "      <th>U.S. viewers (millions)</th>\n",
       "    </tr>\n",
       "  </thead>\n",
       "  <tbody>\n",
       "    <tr>\n",
       "      <th>0</th>\n",
       "      <td>1</td>\n",
       "      <td>1.0</td>\n",
       "      <td>\"Pilot\"</td>\n",
       "      <td>Greg Daniels</td>\n",
       "      <td>Greg Daniels &amp; Michael Schur</td>\n",
       "      <td>April 9, 2009 (2009-04-09)</td>\n",
       "      <td>6.77[1]</td>\n",
       "    </tr>\n",
       "    <tr>\n",
       "      <th>1</th>\n",
       "      <td>Ann Perkins (Rashida Jones) attends a town mee...</td>\n",
       "      <td>-999.0</td>\n",
       "      <td>-999</td>\n",
       "      <td>-999</td>\n",
       "      <td>-999</td>\n",
       "      <td>-999</td>\n",
       "      <td>-999</td>\n",
       "    </tr>\n",
       "    <tr>\n",
       "      <th>2</th>\n",
       "      <td>2</td>\n",
       "      <td>2.0</td>\n",
       "      <td>\"Canvassing\"</td>\n",
       "      <td>Seth Gordon</td>\n",
       "      <td>Rachel Axler</td>\n",
       "      <td>April 16, 2009 (2009-04-16)</td>\n",
       "      <td>5.92[2]</td>\n",
       "    </tr>\n",
       "    <tr>\n",
       "      <th>3</th>\n",
       "      <td>Leslie and the pit subcommittee canvas neighbo...</td>\n",
       "      <td>-999.0</td>\n",
       "      <td>-999</td>\n",
       "      <td>-999</td>\n",
       "      <td>-999</td>\n",
       "      <td>-999</td>\n",
       "      <td>-999</td>\n",
       "    </tr>\n",
       "    <tr>\n",
       "      <th>4</th>\n",
       "      <td>3</td>\n",
       "      <td>3.0</td>\n",
       "      <td>\"The Reporter\"</td>\n",
       "      <td>Jeffrey Blitz</td>\n",
       "      <td>Daniel J. Goor</td>\n",
       "      <td>April 23, 2009 (2009-04-23)</td>\n",
       "      <td>5.24[3]</td>\n",
       "    </tr>\n",
       "    <tr>\n",
       "      <th>5</th>\n",
       "      <td>Leslie invites a local reporter (Alison Becker...</td>\n",
       "      <td>-999.0</td>\n",
       "      <td>-999</td>\n",
       "      <td>-999</td>\n",
       "      <td>-999</td>\n",
       "      <td>-999</td>\n",
       "      <td>-999</td>\n",
       "    </tr>\n",
       "    <tr>\n",
       "      <th>6</th>\n",
       "      <td>4</td>\n",
       "      <td>4.0</td>\n",
       "      <td>\"Boys' Club\"</td>\n",
       "      <td>Michael McCullers</td>\n",
       "      <td>Alan Yang</td>\n",
       "      <td>April 30, 2009 (2009-04-30)</td>\n",
       "      <td>5.29[4]</td>\n",
       "    </tr>\n",
       "    <tr>\n",
       "      <th>7</th>\n",
       "      <td>As Andy cleans up the house to surprise Ann, L...</td>\n",
       "      <td>-999.0</td>\n",
       "      <td>-999</td>\n",
       "      <td>-999</td>\n",
       "      <td>-999</td>\n",
       "      <td>-999</td>\n",
       "      <td>-999</td>\n",
       "    </tr>\n",
       "    <tr>\n",
       "      <th>8</th>\n",
       "      <td>5</td>\n",
       "      <td>5.0</td>\n",
       "      <td>\"The Banquet\"</td>\n",
       "      <td>Beth McCarthy-Miller</td>\n",
       "      <td>Tucker Cawley</td>\n",
       "      <td>May 7, 2009 (2009-05-07)</td>\n",
       "      <td>4.64[5]</td>\n",
       "    </tr>\n",
       "    <tr>\n",
       "      <th>9</th>\n",
       "      <td>During a banquet honoring her mother's public ...</td>\n",
       "      <td>-999.0</td>\n",
       "      <td>-999</td>\n",
       "      <td>-999</td>\n",
       "      <td>-999</td>\n",
       "      <td>-999</td>\n",
       "      <td>-999</td>\n",
       "    </tr>\n",
       "    <tr>\n",
       "      <th>10</th>\n",
       "      <td>6</td>\n",
       "      <td>6.0</td>\n",
       "      <td>\"Rock Show\"†</td>\n",
       "      <td>Michael Schur</td>\n",
       "      <td>Norm Hiscock</td>\n",
       "      <td>May 14, 2009 (2009-05-14)</td>\n",
       "      <td>4.25[6]</td>\n",
       "    </tr>\n",
       "    <tr>\n",
       "      <th>11</th>\n",
       "      <td>Leslie attends what she believes is a business...</td>\n",
       "      <td>-999.0</td>\n",
       "      <td>-999</td>\n",
       "      <td>-999</td>\n",
       "      <td>-999</td>\n",
       "      <td>-999</td>\n",
       "      <td>-999</td>\n",
       "    </tr>\n",
       "  </tbody>\n",
       "</table>\n",
       "</div>"
      ],
      "text/plain": [
       "                                          No. overall  No. in season  \\\n",
       "0                                                   1            1.0   \n",
       "1   Ann Perkins (Rashida Jones) attends a town mee...         -999.0   \n",
       "2                                                   2            2.0   \n",
       "3   Leslie and the pit subcommittee canvas neighbo...         -999.0   \n",
       "4                                                   3            3.0   \n",
       "5   Leslie invites a local reporter (Alison Becker...         -999.0   \n",
       "6                                                   4            4.0   \n",
       "7   As Andy cleans up the house to surprise Ann, L...         -999.0   \n",
       "8                                                   5            5.0   \n",
       "9   During a banquet honoring her mother's public ...         -999.0   \n",
       "10                                                  6            6.0   \n",
       "11  Leslie attends what she believes is a business...         -999.0   \n",
       "\n",
       "             Title           Directed by                    Written by  \\\n",
       "0          \"Pilot\"          Greg Daniels  Greg Daniels & Michael Schur   \n",
       "1             -999                  -999                          -999   \n",
       "2     \"Canvassing\"           Seth Gordon                  Rachel Axler   \n",
       "3             -999                  -999                          -999   \n",
       "4   \"The Reporter\"         Jeffrey Blitz                Daniel J. Goor   \n",
       "5             -999                  -999                          -999   \n",
       "6     \"Boys' Club\"     Michael McCullers                     Alan Yang   \n",
       "7             -999                  -999                          -999   \n",
       "8    \"The Banquet\"  Beth McCarthy-Miller                 Tucker Cawley   \n",
       "9             -999                  -999                          -999   \n",
       "10    \"Rock Show\"†         Michael Schur                  Norm Hiscock   \n",
       "11            -999                  -999                          -999   \n",
       "\n",
       "              Original air date U.S. viewers (millions)  \n",
       "0    April 9, 2009 (2009-04-09)                 6.77[1]  \n",
       "1                          -999                    -999  \n",
       "2   April 16, 2009 (2009-04-16)                 5.92[2]  \n",
       "3                          -999                    -999  \n",
       "4   April 23, 2009 (2009-04-23)                 5.24[3]  \n",
       "5                          -999                    -999  \n",
       "6   April 30, 2009 (2009-04-30)                 5.29[4]  \n",
       "7                          -999                    -999  \n",
       "8      May 7, 2009 (2009-05-07)                 4.64[5]  \n",
       "9                          -999                    -999  \n",
       "10    May 14, 2009 (2009-05-14)                 4.25[6]  \n",
       "11                         -999                    -999  "
      ]
     },
     "execution_count": 9,
     "metadata": {},
     "output_type": "execute_result"
    }
   ],
   "source": [
    "season.fillna(-999)"
   ]
  },
  {
   "cell_type": "markdown",
   "metadata": {},
   "source": [
    ".fillna() has multiple methods, like forward fill, backward fill, interpolation."
   ]
  },
  {
   "cell_type": "code",
   "execution_count": 10,
   "metadata": {
    "collapsed": true
   },
   "outputs": [],
   "source": [
    "# season.fillna?"
   ]
  },
  {
   "cell_type": "code",
   "execution_count": 11,
   "metadata": {},
   "outputs": [
    {
     "data": {
      "text/html": [
       "<div>\n",
       "<style>\n",
       "    .dataframe thead tr:only-child th {\n",
       "        text-align: right;\n",
       "    }\n",
       "\n",
       "    .dataframe thead th {\n",
       "        text-align: left;\n",
       "    }\n",
       "\n",
       "    .dataframe tbody tr th {\n",
       "        vertical-align: top;\n",
       "    }\n",
       "</style>\n",
       "<table border=\"1\" class=\"dataframe\">\n",
       "  <thead>\n",
       "    <tr style=\"text-align: right;\">\n",
       "      <th></th>\n",
       "      <th>No. overall</th>\n",
       "      <th>No. in season</th>\n",
       "      <th>Title</th>\n",
       "      <th>Directed by</th>\n",
       "      <th>Written by</th>\n",
       "      <th>Original air date</th>\n",
       "      <th>U.S. viewers (millions)</th>\n",
       "    </tr>\n",
       "  </thead>\n",
       "  <tbody>\n",
       "    <tr>\n",
       "      <th>0</th>\n",
       "      <td>1</td>\n",
       "      <td>1.0</td>\n",
       "      <td>\"Pilot\"</td>\n",
       "      <td>Greg Daniels</td>\n",
       "      <td>Greg Daniels &amp; Michael Schur</td>\n",
       "      <td>April 9, 2009 (2009-04-09)</td>\n",
       "      <td>6.77[1]</td>\n",
       "    </tr>\n",
       "    <tr>\n",
       "      <th>1</th>\n",
       "      <td>Ann Perkins (Rashida Jones) attends a town mee...</td>\n",
       "      <td>1.0</td>\n",
       "      <td>\"Pilot\"</td>\n",
       "      <td>Greg Daniels</td>\n",
       "      <td>Greg Daniels &amp; Michael Schur</td>\n",
       "      <td>April 9, 2009 (2009-04-09)</td>\n",
       "      <td>6.77[1]</td>\n",
       "    </tr>\n",
       "    <tr>\n",
       "      <th>2</th>\n",
       "      <td>2</td>\n",
       "      <td>2.0</td>\n",
       "      <td>\"Canvassing\"</td>\n",
       "      <td>Seth Gordon</td>\n",
       "      <td>Rachel Axler</td>\n",
       "      <td>April 16, 2009 (2009-04-16)</td>\n",
       "      <td>5.92[2]</td>\n",
       "    </tr>\n",
       "    <tr>\n",
       "      <th>3</th>\n",
       "      <td>Leslie and the pit subcommittee canvas neighbo...</td>\n",
       "      <td>2.0</td>\n",
       "      <td>\"Canvassing\"</td>\n",
       "      <td>Seth Gordon</td>\n",
       "      <td>Rachel Axler</td>\n",
       "      <td>April 16, 2009 (2009-04-16)</td>\n",
       "      <td>5.92[2]</td>\n",
       "    </tr>\n",
       "    <tr>\n",
       "      <th>4</th>\n",
       "      <td>3</td>\n",
       "      <td>3.0</td>\n",
       "      <td>\"The Reporter\"</td>\n",
       "      <td>Jeffrey Blitz</td>\n",
       "      <td>Daniel J. Goor</td>\n",
       "      <td>April 23, 2009 (2009-04-23)</td>\n",
       "      <td>5.24[3]</td>\n",
       "    </tr>\n",
       "    <tr>\n",
       "      <th>5</th>\n",
       "      <td>Leslie invites a local reporter (Alison Becker...</td>\n",
       "      <td>3.0</td>\n",
       "      <td>\"The Reporter\"</td>\n",
       "      <td>Jeffrey Blitz</td>\n",
       "      <td>Daniel J. Goor</td>\n",
       "      <td>April 23, 2009 (2009-04-23)</td>\n",
       "      <td>5.24[3]</td>\n",
       "    </tr>\n",
       "    <tr>\n",
       "      <th>6</th>\n",
       "      <td>4</td>\n",
       "      <td>4.0</td>\n",
       "      <td>\"Boys' Club\"</td>\n",
       "      <td>Michael McCullers</td>\n",
       "      <td>Alan Yang</td>\n",
       "      <td>April 30, 2009 (2009-04-30)</td>\n",
       "      <td>5.29[4]</td>\n",
       "    </tr>\n",
       "    <tr>\n",
       "      <th>7</th>\n",
       "      <td>As Andy cleans up the house to surprise Ann, L...</td>\n",
       "      <td>4.0</td>\n",
       "      <td>\"Boys' Club\"</td>\n",
       "      <td>Michael McCullers</td>\n",
       "      <td>Alan Yang</td>\n",
       "      <td>April 30, 2009 (2009-04-30)</td>\n",
       "      <td>5.29[4]</td>\n",
       "    </tr>\n",
       "    <tr>\n",
       "      <th>8</th>\n",
       "      <td>5</td>\n",
       "      <td>5.0</td>\n",
       "      <td>\"The Banquet\"</td>\n",
       "      <td>Beth McCarthy-Miller</td>\n",
       "      <td>Tucker Cawley</td>\n",
       "      <td>May 7, 2009 (2009-05-07)</td>\n",
       "      <td>4.64[5]</td>\n",
       "    </tr>\n",
       "    <tr>\n",
       "      <th>9</th>\n",
       "      <td>During a banquet honoring her mother's public ...</td>\n",
       "      <td>5.0</td>\n",
       "      <td>\"The Banquet\"</td>\n",
       "      <td>Beth McCarthy-Miller</td>\n",
       "      <td>Tucker Cawley</td>\n",
       "      <td>May 7, 2009 (2009-05-07)</td>\n",
       "      <td>4.64[5]</td>\n",
       "    </tr>\n",
       "    <tr>\n",
       "      <th>10</th>\n",
       "      <td>6</td>\n",
       "      <td>6.0</td>\n",
       "      <td>\"Rock Show\"†</td>\n",
       "      <td>Michael Schur</td>\n",
       "      <td>Norm Hiscock</td>\n",
       "      <td>May 14, 2009 (2009-05-14)</td>\n",
       "      <td>4.25[6]</td>\n",
       "    </tr>\n",
       "    <tr>\n",
       "      <th>11</th>\n",
       "      <td>Leslie attends what she believes is a business...</td>\n",
       "      <td>6.0</td>\n",
       "      <td>\"Rock Show\"†</td>\n",
       "      <td>Michael Schur</td>\n",
       "      <td>Norm Hiscock</td>\n",
       "      <td>May 14, 2009 (2009-05-14)</td>\n",
       "      <td>4.25[6]</td>\n",
       "    </tr>\n",
       "  </tbody>\n",
       "</table>\n",
       "</div>"
      ],
      "text/plain": [
       "                                          No. overall  No. in season  \\\n",
       "0                                                   1            1.0   \n",
       "1   Ann Perkins (Rashida Jones) attends a town mee...            1.0   \n",
       "2                                                   2            2.0   \n",
       "3   Leslie and the pit subcommittee canvas neighbo...            2.0   \n",
       "4                                                   3            3.0   \n",
       "5   Leslie invites a local reporter (Alison Becker...            3.0   \n",
       "6                                                   4            4.0   \n",
       "7   As Andy cleans up the house to surprise Ann, L...            4.0   \n",
       "8                                                   5            5.0   \n",
       "9   During a banquet honoring her mother's public ...            5.0   \n",
       "10                                                  6            6.0   \n",
       "11  Leslie attends what she believes is a business...            6.0   \n",
       "\n",
       "             Title           Directed by                    Written by  \\\n",
       "0          \"Pilot\"          Greg Daniels  Greg Daniels & Michael Schur   \n",
       "1          \"Pilot\"          Greg Daniels  Greg Daniels & Michael Schur   \n",
       "2     \"Canvassing\"           Seth Gordon                  Rachel Axler   \n",
       "3     \"Canvassing\"           Seth Gordon                  Rachel Axler   \n",
       "4   \"The Reporter\"         Jeffrey Blitz                Daniel J. Goor   \n",
       "5   \"The Reporter\"         Jeffrey Blitz                Daniel J. Goor   \n",
       "6     \"Boys' Club\"     Michael McCullers                     Alan Yang   \n",
       "7     \"Boys' Club\"     Michael McCullers                     Alan Yang   \n",
       "8    \"The Banquet\"  Beth McCarthy-Miller                 Tucker Cawley   \n",
       "9    \"The Banquet\"  Beth McCarthy-Miller                 Tucker Cawley   \n",
       "10    \"Rock Show\"†         Michael Schur                  Norm Hiscock   \n",
       "11    \"Rock Show\"†         Michael Schur                  Norm Hiscock   \n",
       "\n",
       "              Original air date U.S. viewers (millions)  \n",
       "0    April 9, 2009 (2009-04-09)                 6.77[1]  \n",
       "1    April 9, 2009 (2009-04-09)                 6.77[1]  \n",
       "2   April 16, 2009 (2009-04-16)                 5.92[2]  \n",
       "3   April 16, 2009 (2009-04-16)                 5.92[2]  \n",
       "4   April 23, 2009 (2009-04-23)                 5.24[3]  \n",
       "5   April 23, 2009 (2009-04-23)                 5.24[3]  \n",
       "6   April 30, 2009 (2009-04-30)                 5.29[4]  \n",
       "7   April 30, 2009 (2009-04-30)                 5.29[4]  \n",
       "8      May 7, 2009 (2009-05-07)                 4.64[5]  \n",
       "9      May 7, 2009 (2009-05-07)                 4.64[5]  \n",
       "10    May 14, 2009 (2009-05-14)                 4.25[6]  \n",
       "11    May 14, 2009 (2009-05-14)                 4.25[6]  "
      ]
     },
     "execution_count": 11,
     "metadata": {},
     "output_type": "execute_result"
    }
   ],
   "source": [
    "season.fillna(method='ffill')"
   ]
  },
  {
   "cell_type": "markdown",
   "metadata": {},
   "source": [
    "while .fillna() is useful, the information contained in surrounding cells isn't that useful to us. It appears that in the case of this table, the first row (row 0) and each alternating row has information about the episode, and the second row (row 1) and each alternating row has the episode description of the previous episode. How do we deal with that? Slices, of course!"
   ]
  },
  {
   "cell_type": "code",
   "execution_count": 12,
   "metadata": {},
   "outputs": [
    {
     "data": {
      "text/html": [
       "<div>\n",
       "<style>\n",
       "    .dataframe thead tr:only-child th {\n",
       "        text-align: right;\n",
       "    }\n",
       "\n",
       "    .dataframe thead th {\n",
       "        text-align: left;\n",
       "    }\n",
       "\n",
       "    .dataframe tbody tr th {\n",
       "        vertical-align: top;\n",
       "    }\n",
       "</style>\n",
       "<table border=\"1\" class=\"dataframe\">\n",
       "  <thead>\n",
       "    <tr style=\"text-align: right;\">\n",
       "      <th></th>\n",
       "      <th>No. overall</th>\n",
       "      <th>No. in season</th>\n",
       "      <th>Title</th>\n",
       "      <th>Directed by</th>\n",
       "      <th>Written by</th>\n",
       "      <th>Original air date</th>\n",
       "      <th>U.S. viewers (millions)</th>\n",
       "    </tr>\n",
       "  </thead>\n",
       "  <tbody>\n",
       "    <tr>\n",
       "      <th>1</th>\n",
       "      <td>Ann Perkins (Rashida Jones) attends a town mee...</td>\n",
       "      <td>NaN</td>\n",
       "      <td>NaN</td>\n",
       "      <td>NaN</td>\n",
       "      <td>NaN</td>\n",
       "      <td>NaN</td>\n",
       "      <td>NaN</td>\n",
       "    </tr>\n",
       "    <tr>\n",
       "      <th>3</th>\n",
       "      <td>Leslie and the pit subcommittee canvas neighbo...</td>\n",
       "      <td>NaN</td>\n",
       "      <td>NaN</td>\n",
       "      <td>NaN</td>\n",
       "      <td>NaN</td>\n",
       "      <td>NaN</td>\n",
       "      <td>NaN</td>\n",
       "    </tr>\n",
       "    <tr>\n",
       "      <th>5</th>\n",
       "      <td>Leslie invites a local reporter (Alison Becker...</td>\n",
       "      <td>NaN</td>\n",
       "      <td>NaN</td>\n",
       "      <td>NaN</td>\n",
       "      <td>NaN</td>\n",
       "      <td>NaN</td>\n",
       "      <td>NaN</td>\n",
       "    </tr>\n",
       "    <tr>\n",
       "      <th>7</th>\n",
       "      <td>As Andy cleans up the house to surprise Ann, L...</td>\n",
       "      <td>NaN</td>\n",
       "      <td>NaN</td>\n",
       "      <td>NaN</td>\n",
       "      <td>NaN</td>\n",
       "      <td>NaN</td>\n",
       "      <td>NaN</td>\n",
       "    </tr>\n",
       "    <tr>\n",
       "      <th>9</th>\n",
       "      <td>During a banquet honoring her mother's public ...</td>\n",
       "      <td>NaN</td>\n",
       "      <td>NaN</td>\n",
       "      <td>NaN</td>\n",
       "      <td>NaN</td>\n",
       "      <td>NaN</td>\n",
       "      <td>NaN</td>\n",
       "    </tr>\n",
       "    <tr>\n",
       "      <th>11</th>\n",
       "      <td>Leslie attends what she believes is a business...</td>\n",
       "      <td>NaN</td>\n",
       "      <td>NaN</td>\n",
       "      <td>NaN</td>\n",
       "      <td>NaN</td>\n",
       "      <td>NaN</td>\n",
       "      <td>NaN</td>\n",
       "    </tr>\n",
       "  </tbody>\n",
       "</table>\n",
       "</div>"
      ],
      "text/plain": [
       "                                          No. overall  No. in season Title  \\\n",
       "1   Ann Perkins (Rashida Jones) attends a town mee...            NaN   NaN   \n",
       "3   Leslie and the pit subcommittee canvas neighbo...            NaN   NaN   \n",
       "5   Leslie invites a local reporter (Alison Becker...            NaN   NaN   \n",
       "7   As Andy cleans up the house to surprise Ann, L...            NaN   NaN   \n",
       "9   During a banquet honoring her mother's public ...            NaN   NaN   \n",
       "11  Leslie attends what she believes is a business...            NaN   NaN   \n",
       "\n",
       "   Directed by Written by Original air date U.S. viewers (millions)  \n",
       "1          NaN        NaN               NaN                     NaN  \n",
       "3          NaN        NaN               NaN                     NaN  \n",
       "5          NaN        NaN               NaN                     NaN  \n",
       "7          NaN        NaN               NaN                     NaN  \n",
       "9          NaN        NaN               NaN                     NaN  \n",
       "11         NaN        NaN               NaN                     NaN  "
      ]
     },
     "execution_count": 12,
     "metadata": {},
     "output_type": "execute_result"
    }
   ],
   "source": [
    "season[1::2]"
   ]
  },
  {
   "cell_type": "markdown",
   "metadata": {},
   "source": [
    "These slices will get us the descriptions alone, but we have a bunch of extra cells that are NaN, and irrelevant. Let's drop those using the indexers."
   ]
  },
  {
   "cell_type": "code",
   "execution_count": 13,
   "metadata": {},
   "outputs": [
    {
     "data": {
      "text/plain": [
       "1     Ann Perkins (Rashida Jones) attends a town mee...\n",
       "3     Leslie and the pit subcommittee canvas neighbo...\n",
       "5     Leslie invites a local reporter (Alison Becker...\n",
       "7     As Andy cleans up the house to surprise Ann, L...\n",
       "9     During a banquet honoring her mother's public ...\n",
       "11    Leslie attends what she believes is a business...\n",
       "Name: No. overall, dtype: object"
      ]
     },
     "execution_count": 13,
     "metadata": {},
     "output_type": "execute_result"
    }
   ],
   "source": [
    "season[1::2].iloc[:,0]"
   ]
  },
  {
   "cell_type": "markdown",
   "metadata": {},
   "source": [
    "Pandas really wants to maintain the indices, which is usually really helpful - it helps prevent data mismatches down the road. But, what if we really want to ignore the index? We can reset it."
   ]
  },
  {
   "cell_type": "code",
   "execution_count": 14,
   "metadata": {},
   "outputs": [
    {
     "data": {
      "text/html": [
       "<div>\n",
       "<style>\n",
       "    .dataframe thead tr:only-child th {\n",
       "        text-align: right;\n",
       "    }\n",
       "\n",
       "    .dataframe thead th {\n",
       "        text-align: left;\n",
       "    }\n",
       "\n",
       "    .dataframe tbody tr th {\n",
       "        vertical-align: top;\n",
       "    }\n",
       "</style>\n",
       "<table border=\"1\" class=\"dataframe\">\n",
       "  <thead>\n",
       "    <tr style=\"text-align: right;\">\n",
       "      <th></th>\n",
       "      <th>index</th>\n",
       "      <th>No. overall</th>\n",
       "    </tr>\n",
       "  </thead>\n",
       "  <tbody>\n",
       "    <tr>\n",
       "      <th>0</th>\n",
       "      <td>1</td>\n",
       "      <td>Ann Perkins (Rashida Jones) attends a town mee...</td>\n",
       "    </tr>\n",
       "    <tr>\n",
       "      <th>1</th>\n",
       "      <td>3</td>\n",
       "      <td>Leslie and the pit subcommittee canvas neighbo...</td>\n",
       "    </tr>\n",
       "    <tr>\n",
       "      <th>2</th>\n",
       "      <td>5</td>\n",
       "      <td>Leslie invites a local reporter (Alison Becker...</td>\n",
       "    </tr>\n",
       "    <tr>\n",
       "      <th>3</th>\n",
       "      <td>7</td>\n",
       "      <td>As Andy cleans up the house to surprise Ann, L...</td>\n",
       "    </tr>\n",
       "    <tr>\n",
       "      <th>4</th>\n",
       "      <td>9</td>\n",
       "      <td>During a banquet honoring her mother's public ...</td>\n",
       "    </tr>\n",
       "    <tr>\n",
       "      <th>5</th>\n",
       "      <td>11</td>\n",
       "      <td>Leslie attends what she believes is a business...</td>\n",
       "    </tr>\n",
       "  </tbody>\n",
       "</table>\n",
       "</div>"
      ],
      "text/plain": [
       "   index                                        No. overall\n",
       "0      1  Ann Perkins (Rashida Jones) attends a town mee...\n",
       "1      3  Leslie and the pit subcommittee canvas neighbo...\n",
       "2      5  Leslie invites a local reporter (Alison Becker...\n",
       "3      7  As Andy cleans up the house to surprise Ann, L...\n",
       "4      9  During a banquet honoring her mother's public ...\n",
       "5     11  Leslie attends what she believes is a business..."
      ]
     },
     "execution_count": 14,
     "metadata": {},
     "output_type": "execute_result"
    }
   ],
   "source": [
    "season[1::2].iloc[:,0].reset_index()"
   ]
  },
  {
   "cell_type": "markdown",
   "metadata": {},
   "source": [
    "Here we have created a new index, but Pandas (trying to save us from ourselves) has kept the index values from before, but in a separate Series within the new DataFrame. All we have to do now is drop it. While we're at it, let's go ahead and create an episode description variable and set it equal to this new series."
   ]
  },
  {
   "cell_type": "code",
   "execution_count": 15,
   "metadata": {},
   "outputs": [
    {
     "data": {
      "text/html": [
       "<div>\n",
       "<style>\n",
       "    .dataframe thead tr:only-child th {\n",
       "        text-align: right;\n",
       "    }\n",
       "\n",
       "    .dataframe thead th {\n",
       "        text-align: left;\n",
       "    }\n",
       "\n",
       "    .dataframe tbody tr th {\n",
       "        vertical-align: top;\n",
       "    }\n",
       "</style>\n",
       "<table border=\"1\" class=\"dataframe\">\n",
       "  <thead>\n",
       "    <tr style=\"text-align: right;\">\n",
       "      <th></th>\n",
       "      <th>No. overall</th>\n",
       "    </tr>\n",
       "  </thead>\n",
       "  <tbody>\n",
       "    <tr>\n",
       "      <th>0</th>\n",
       "      <td>Ann Perkins (Rashida Jones) attends a town mee...</td>\n",
       "    </tr>\n",
       "    <tr>\n",
       "      <th>1</th>\n",
       "      <td>Leslie and the pit subcommittee canvas neighbo...</td>\n",
       "    </tr>\n",
       "    <tr>\n",
       "      <th>2</th>\n",
       "      <td>Leslie invites a local reporter (Alison Becker...</td>\n",
       "    </tr>\n",
       "    <tr>\n",
       "      <th>3</th>\n",
       "      <td>As Andy cleans up the house to surprise Ann, L...</td>\n",
       "    </tr>\n",
       "    <tr>\n",
       "      <th>4</th>\n",
       "      <td>During a banquet honoring her mother's public ...</td>\n",
       "    </tr>\n",
       "    <tr>\n",
       "      <th>5</th>\n",
       "      <td>Leslie attends what she believes is a business...</td>\n",
       "    </tr>\n",
       "  </tbody>\n",
       "</table>\n",
       "</div>"
      ],
      "text/plain": [
       "                                         No. overall\n",
       "0  Ann Perkins (Rashida Jones) attends a town mee...\n",
       "1  Leslie and the pit subcommittee canvas neighbo...\n",
       "2  Leslie invites a local reporter (Alison Becker...\n",
       "3  As Andy cleans up the house to surprise Ann, L...\n",
       "4  During a banquet honoring her mother's public ...\n",
       "5  Leslie attends what she believes is a business..."
      ]
     },
     "execution_count": 15,
     "metadata": {},
     "output_type": "execute_result"
    }
   ],
   "source": [
    "episode_desc = season[1::2].iloc[:,0].reset_index().drop('index',axis=1)\n",
    "episode_desc"
   ]
  },
  {
   "cell_type": "markdown",
   "metadata": {},
   "source": [
    "The column name (No. Overall) doesn't make any sense, so we'll use the `.rename()` method to rename the columns using a dictionary with a single key-value pair."
   ]
  },
  {
   "cell_type": "code",
   "execution_count": 16,
   "metadata": {
    "scrolled": true
   },
   "outputs": [
    {
     "data": {
      "text/html": [
       "<div>\n",
       "<style>\n",
       "    .dataframe thead tr:only-child th {\n",
       "        text-align: right;\n",
       "    }\n",
       "\n",
       "    .dataframe thead th {\n",
       "        text-align: left;\n",
       "    }\n",
       "\n",
       "    .dataframe tbody tr th {\n",
       "        vertical-align: top;\n",
       "    }\n",
       "</style>\n",
       "<table border=\"1\" class=\"dataframe\">\n",
       "  <thead>\n",
       "    <tr style=\"text-align: right;\">\n",
       "      <th></th>\n",
       "      <th>Description</th>\n",
       "    </tr>\n",
       "  </thead>\n",
       "  <tbody>\n",
       "    <tr>\n",
       "      <th>0</th>\n",
       "      <td>Ann Perkins (Rashida Jones) attends a town mee...</td>\n",
       "    </tr>\n",
       "    <tr>\n",
       "      <th>1</th>\n",
       "      <td>Leslie and the pit subcommittee canvas neighbo...</td>\n",
       "    </tr>\n",
       "    <tr>\n",
       "      <th>2</th>\n",
       "      <td>Leslie invites a local reporter (Alison Becker...</td>\n",
       "    </tr>\n",
       "    <tr>\n",
       "      <th>3</th>\n",
       "      <td>As Andy cleans up the house to surprise Ann, L...</td>\n",
       "    </tr>\n",
       "    <tr>\n",
       "      <th>4</th>\n",
       "      <td>During a banquet honoring her mother's public ...</td>\n",
       "    </tr>\n",
       "    <tr>\n",
       "      <th>5</th>\n",
       "      <td>Leslie attends what she believes is a business...</td>\n",
       "    </tr>\n",
       "  </tbody>\n",
       "</table>\n",
       "</div>"
      ],
      "text/plain": [
       "                                         Description\n",
       "0  Ann Perkins (Rashida Jones) attends a town mee...\n",
       "1  Leslie and the pit subcommittee canvas neighbo...\n",
       "2  Leslie invites a local reporter (Alison Becker...\n",
       "3  As Andy cleans up the house to surprise Ann, L...\n",
       "4  During a banquet honoring her mother's public ...\n",
       "5  Leslie attends what she believes is a business..."
      ]
     },
     "execution_count": 16,
     "metadata": {},
     "output_type": "execute_result"
    }
   ],
   "source": [
    "episode_desc = episode_desc.rename(columns = {'No. overall':'Description'})\n",
    "episode_desc"
   ]
  },
  {
   "cell_type": "markdown",
   "metadata": {},
   "source": [
    "For the other cells in the season dataframe, we want to start at the first row (row 0) and alternate getting all of the ones with the data. Since the procedure will be almost exactly the same as before, we'll skip ahead to the final part."
   ]
  },
  {
   "cell_type": "code",
   "execution_count": 17,
   "metadata": {
    "scrolled": true
   },
   "outputs": [
    {
     "data": {
      "text/html": [
       "<div>\n",
       "<style>\n",
       "    .dataframe thead tr:only-child th {\n",
       "        text-align: right;\n",
       "    }\n",
       "\n",
       "    .dataframe thead th {\n",
       "        text-align: left;\n",
       "    }\n",
       "\n",
       "    .dataframe tbody tr th {\n",
       "        vertical-align: top;\n",
       "    }\n",
       "</style>\n",
       "<table border=\"1\" class=\"dataframe\">\n",
       "  <thead>\n",
       "    <tr style=\"text-align: right;\">\n",
       "      <th></th>\n",
       "      <th>No. overall</th>\n",
       "      <th>No. in season</th>\n",
       "      <th>Title</th>\n",
       "      <th>Directed by</th>\n",
       "      <th>Written by</th>\n",
       "      <th>Original air date</th>\n",
       "      <th>U.S. viewers (millions)</th>\n",
       "    </tr>\n",
       "  </thead>\n",
       "  <tbody>\n",
       "    <tr>\n",
       "      <th>0</th>\n",
       "      <td>1</td>\n",
       "      <td>1.0</td>\n",
       "      <td>\"Pilot\"</td>\n",
       "      <td>Greg Daniels</td>\n",
       "      <td>Greg Daniels &amp; Michael Schur</td>\n",
       "      <td>April 9, 2009 (2009-04-09)</td>\n",
       "      <td>6.77[1]</td>\n",
       "    </tr>\n",
       "    <tr>\n",
       "      <th>1</th>\n",
       "      <td>2</td>\n",
       "      <td>2.0</td>\n",
       "      <td>\"Canvassing\"</td>\n",
       "      <td>Seth Gordon</td>\n",
       "      <td>Rachel Axler</td>\n",
       "      <td>April 16, 2009 (2009-04-16)</td>\n",
       "      <td>5.92[2]</td>\n",
       "    </tr>\n",
       "    <tr>\n",
       "      <th>2</th>\n",
       "      <td>3</td>\n",
       "      <td>3.0</td>\n",
       "      <td>\"The Reporter\"</td>\n",
       "      <td>Jeffrey Blitz</td>\n",
       "      <td>Daniel J. Goor</td>\n",
       "      <td>April 23, 2009 (2009-04-23)</td>\n",
       "      <td>5.24[3]</td>\n",
       "    </tr>\n",
       "    <tr>\n",
       "      <th>3</th>\n",
       "      <td>4</td>\n",
       "      <td>4.0</td>\n",
       "      <td>\"Boys' Club\"</td>\n",
       "      <td>Michael McCullers</td>\n",
       "      <td>Alan Yang</td>\n",
       "      <td>April 30, 2009 (2009-04-30)</td>\n",
       "      <td>5.29[4]</td>\n",
       "    </tr>\n",
       "    <tr>\n",
       "      <th>4</th>\n",
       "      <td>5</td>\n",
       "      <td>5.0</td>\n",
       "      <td>\"The Banquet\"</td>\n",
       "      <td>Beth McCarthy-Miller</td>\n",
       "      <td>Tucker Cawley</td>\n",
       "      <td>May 7, 2009 (2009-05-07)</td>\n",
       "      <td>4.64[5]</td>\n",
       "    </tr>\n",
       "    <tr>\n",
       "      <th>5</th>\n",
       "      <td>6</td>\n",
       "      <td>6.0</td>\n",
       "      <td>\"Rock Show\"†</td>\n",
       "      <td>Michael Schur</td>\n",
       "      <td>Norm Hiscock</td>\n",
       "      <td>May 14, 2009 (2009-05-14)</td>\n",
       "      <td>4.25[6]</td>\n",
       "    </tr>\n",
       "  </tbody>\n",
       "</table>\n",
       "</div>"
      ],
      "text/plain": [
       "  No. overall  No. in season           Title           Directed by  \\\n",
       "0           1            1.0         \"Pilot\"          Greg Daniels   \n",
       "1           2            2.0    \"Canvassing\"           Seth Gordon   \n",
       "2           3            3.0  \"The Reporter\"         Jeffrey Blitz   \n",
       "3           4            4.0    \"Boys' Club\"     Michael McCullers   \n",
       "4           5            5.0   \"The Banquet\"  Beth McCarthy-Miller   \n",
       "5           6            6.0    \"Rock Show\"†         Michael Schur   \n",
       "\n",
       "                     Written by            Original air date  \\\n",
       "0  Greg Daniels & Michael Schur   April 9, 2009 (2009-04-09)   \n",
       "1                  Rachel Axler  April 16, 2009 (2009-04-16)   \n",
       "2                Daniel J. Goor  April 23, 2009 (2009-04-23)   \n",
       "3                     Alan Yang  April 30, 2009 (2009-04-30)   \n",
       "4                 Tucker Cawley     May 7, 2009 (2009-05-07)   \n",
       "5                  Norm Hiscock    May 14, 2009 (2009-05-14)   \n",
       "\n",
       "  U.S. viewers (millions)  \n",
       "0                 6.77[1]  \n",
       "1                 5.92[2]  \n",
       "2                 5.24[3]  \n",
       "3                 5.29[4]  \n",
       "4                 4.64[5]  \n",
       "5                 4.25[6]  "
      ]
     },
     "execution_count": 17,
     "metadata": {},
     "output_type": "execute_result"
    }
   ],
   "source": [
    "episode_data = season[0::2].reset_index().drop('index',axis=1)\n",
    "episode_data"
   ]
  },
  {
   "cell_type": "markdown",
   "metadata": {},
   "source": [
    "Now we have a list of data and a list of descriptions. By wonderful coincidence (not really), they both have the same number of cells. Let's check to be certain."
   ]
  },
  {
   "cell_type": "markdown",
   "metadata": {},
   "source": [
    "aside: programming languages are funny about the equals sign '='. A lot of times, we want to see if something is equal to something else. Python assumes that a single equals means that you are **making a thing equal to some other thing**.\n",
    "\n",
    "If you want to check to see if two entities *are equal* then you will use the double equal '=='\n",
    "\n",
    "single = 'is'\n",
    "\n",
    "`age = 5`\n",
    "\n",
    "age _is_ 5\n",
    "\n",
    "double == 'is it'\n",
    "\n",
    "`age == 5`\n",
    "\n",
    "age, _is it_ 5?\n",
    "\n",
    "this is a largely semantic discussion, but you would be surprised how often it causes problems."
   ]
  },
  {
   "cell_type": "code",
   "execution_count": 18,
   "metadata": {},
   "outputs": [
    {
     "data": {
      "text/plain": [
       "True"
      ]
     },
     "execution_count": 18,
     "metadata": {},
     "output_type": "execute_result"
    }
   ],
   "source": [
    "len(episode_data) == len(episode_desc)"
   ]
  },
  {
   "cell_type": "markdown",
   "metadata": {},
   "source": [
    "Now, let's concatenate the data DataFrame, and the description Series. Remember to specify axis."
   ]
  },
  {
   "cell_type": "code",
   "execution_count": 19,
   "metadata": {
    "collapsed": true
   },
   "outputs": [],
   "source": [
    "episode_list = pd.concat([episode_data,episode_desc],axis=1)"
   ]
  },
  {
   "cell_type": "markdown",
   "metadata": {},
   "source": [
    "Checking the column heads just to be certain."
   ]
  },
  {
   "cell_type": "code",
   "execution_count": 20,
   "metadata": {},
   "outputs": [
    {
     "data": {
      "text/plain": [
       "Index([            u'No. overall',           u'No. in season',\n",
       "                         u'Title',             u'Directed by',\n",
       "                    u'Written by',       u'Original air date',\n",
       "       u'U.S. viewers (millions)',             u'Description'],\n",
       "      dtype='object')"
      ]
     },
     "execution_count": 20,
     "metadata": {},
     "output_type": "execute_result"
    }
   ],
   "source": [
    "episode_list.columns"
   ]
  },
  {
   "cell_type": "markdown",
   "metadata": {},
   "source": [
    "Setting the index to one of the unique Series in the DataFrame. 'No. Overall' makes sense."
   ]
  },
  {
   "cell_type": "code",
   "execution_count": 21,
   "metadata": {
    "collapsed": true,
    "scrolled": true
   },
   "outputs": [],
   "source": [
    "episode_list = episode_list.set_index('No. overall')"
   ]
  },
  {
   "cell_type": "code",
   "execution_count": 22,
   "metadata": {},
   "outputs": [
    {
     "data": {
      "text/html": [
       "<div>\n",
       "<style>\n",
       "    .dataframe thead tr:only-child th {\n",
       "        text-align: right;\n",
       "    }\n",
       "\n",
       "    .dataframe thead th {\n",
       "        text-align: left;\n",
       "    }\n",
       "\n",
       "    .dataframe tbody tr th {\n",
       "        vertical-align: top;\n",
       "    }\n",
       "</style>\n",
       "<table border=\"1\" class=\"dataframe\">\n",
       "  <thead>\n",
       "    <tr style=\"text-align: right;\">\n",
       "      <th></th>\n",
       "      <th>No. in season</th>\n",
       "      <th>Title</th>\n",
       "      <th>Directed by</th>\n",
       "      <th>Written by</th>\n",
       "      <th>Original air date</th>\n",
       "      <th>U.S. viewers (millions)</th>\n",
       "      <th>Description</th>\n",
       "    </tr>\n",
       "    <tr>\n",
       "      <th>No. overall</th>\n",
       "      <th></th>\n",
       "      <th></th>\n",
       "      <th></th>\n",
       "      <th></th>\n",
       "      <th></th>\n",
       "      <th></th>\n",
       "      <th></th>\n",
       "    </tr>\n",
       "  </thead>\n",
       "  <tbody>\n",
       "    <tr>\n",
       "      <th>1</th>\n",
       "      <td>1.0</td>\n",
       "      <td>\"Pilot\"</td>\n",
       "      <td>Greg Daniels</td>\n",
       "      <td>Greg Daniels &amp; Michael Schur</td>\n",
       "      <td>April 9, 2009 (2009-04-09)</td>\n",
       "      <td>6.77[1]</td>\n",
       "      <td>Ann Perkins (Rashida Jones) attends a town mee...</td>\n",
       "    </tr>\n",
       "    <tr>\n",
       "      <th>2</th>\n",
       "      <td>2.0</td>\n",
       "      <td>\"Canvassing\"</td>\n",
       "      <td>Seth Gordon</td>\n",
       "      <td>Rachel Axler</td>\n",
       "      <td>April 16, 2009 (2009-04-16)</td>\n",
       "      <td>5.92[2]</td>\n",
       "      <td>Leslie and the pit subcommittee canvas neighbo...</td>\n",
       "    </tr>\n",
       "    <tr>\n",
       "      <th>3</th>\n",
       "      <td>3.0</td>\n",
       "      <td>\"The Reporter\"</td>\n",
       "      <td>Jeffrey Blitz</td>\n",
       "      <td>Daniel J. Goor</td>\n",
       "      <td>April 23, 2009 (2009-04-23)</td>\n",
       "      <td>5.24[3]</td>\n",
       "      <td>Leslie invites a local reporter (Alison Becker...</td>\n",
       "    </tr>\n",
       "    <tr>\n",
       "      <th>4</th>\n",
       "      <td>4.0</td>\n",
       "      <td>\"Boys' Club\"</td>\n",
       "      <td>Michael McCullers</td>\n",
       "      <td>Alan Yang</td>\n",
       "      <td>April 30, 2009 (2009-04-30)</td>\n",
       "      <td>5.29[4]</td>\n",
       "      <td>As Andy cleans up the house to surprise Ann, L...</td>\n",
       "    </tr>\n",
       "    <tr>\n",
       "      <th>5</th>\n",
       "      <td>5.0</td>\n",
       "      <td>\"The Banquet\"</td>\n",
       "      <td>Beth McCarthy-Miller</td>\n",
       "      <td>Tucker Cawley</td>\n",
       "      <td>May 7, 2009 (2009-05-07)</td>\n",
       "      <td>4.64[5]</td>\n",
       "      <td>During a banquet honoring her mother's public ...</td>\n",
       "    </tr>\n",
       "    <tr>\n",
       "      <th>6</th>\n",
       "      <td>6.0</td>\n",
       "      <td>\"Rock Show\"†</td>\n",
       "      <td>Michael Schur</td>\n",
       "      <td>Norm Hiscock</td>\n",
       "      <td>May 14, 2009 (2009-05-14)</td>\n",
       "      <td>4.25[6]</td>\n",
       "      <td>Leslie attends what she believes is a business...</td>\n",
       "    </tr>\n",
       "  </tbody>\n",
       "</table>\n",
       "</div>"
      ],
      "text/plain": [
       "             No. in season           Title           Directed by  \\\n",
       "No. overall                                                        \n",
       "1                      1.0         \"Pilot\"          Greg Daniels   \n",
       "2                      2.0    \"Canvassing\"           Seth Gordon   \n",
       "3                      3.0  \"The Reporter\"         Jeffrey Blitz   \n",
       "4                      4.0    \"Boys' Club\"     Michael McCullers   \n",
       "5                      5.0   \"The Banquet\"  Beth McCarthy-Miller   \n",
       "6                      6.0    \"Rock Show\"†         Michael Schur   \n",
       "\n",
       "                               Written by            Original air date  \\\n",
       "No. overall                                                              \n",
       "1            Greg Daniels & Michael Schur   April 9, 2009 (2009-04-09)   \n",
       "2                            Rachel Axler  April 16, 2009 (2009-04-16)   \n",
       "3                          Daniel J. Goor  April 23, 2009 (2009-04-23)   \n",
       "4                               Alan Yang  April 30, 2009 (2009-04-30)   \n",
       "5                           Tucker Cawley     May 7, 2009 (2009-05-07)   \n",
       "6                            Norm Hiscock    May 14, 2009 (2009-05-14)   \n",
       "\n",
       "            U.S. viewers (millions)  \\\n",
       "No. overall                           \n",
       "1                           6.77[1]   \n",
       "2                           5.92[2]   \n",
       "3                           5.24[3]   \n",
       "4                           5.29[4]   \n",
       "5                           4.64[5]   \n",
       "6                           4.25[6]   \n",
       "\n",
       "                                                   Description  \n",
       "No. overall                                                     \n",
       "1            Ann Perkins (Rashida Jones) attends a town mee...  \n",
       "2            Leslie and the pit subcommittee canvas neighbo...  \n",
       "3            Leslie invites a local reporter (Alison Becker...  \n",
       "4            As Andy cleans up the house to surprise Ann, L...  \n",
       "5            During a banquet honoring her mother's public ...  \n",
       "6            Leslie attends what she believes is a business...  "
      ]
     },
     "execution_count": 22,
     "metadata": {},
     "output_type": "execute_result"
    }
   ],
   "source": [
    "episode_list"
   ]
  },
  {
   "cell_type": "markdown",
   "metadata": {},
   "source": [
    "For the sake of space, the preview here doesn't show all the information, but you can definitely check the contents by using the `.values` property."
   ]
  },
  {
   "cell_type": "code",
   "execution_count": 23,
   "metadata": {
    "scrolled": true
   },
   "outputs": [
    {
     "data": {
      "text/plain": [
       "array([ u'Ann Perkins (Rashida Jones) attends a town meeting to ask that a construction pit be filled in after her boyfriend, Andy (Chris Pratt), fell into it and broke his legs. Leslie Knope (Amy Poehler), a mid-level bureaucrat in the Pawnee parks and recreation department, promises to help turn the pit into a beautiful park. She is helped by Tom Haverford (Aziz Ansari) and her former lover, city planner Mark Brendanawicz (Paul Schneider). Her boss, Ron Swanson (Nick Offerman), who believes in as little government interference as possible, initially refuses to greenlight the project. But Mark, impressed with Leslie\\u2019s optimism, convinces Ron to approve it by calling in a favor.',\n",
       "       u\"Leslie and the pit subcommittee canvas neighborhood houses to generate support for her park project and enroll attendees for an upcoming town meeting. The plan does not go as expected, especially when Tom detaches from the group and starts using questionable tactics, such as seeking favors from developers in return for preferential treatment. Leslie hopes the public meeting will impress her mother, local school official Marlene Griggs-Knope (Pamela Reed). However, the park's supporters do not attend and opponents turn out in large numbers to voice their disapproval. The project is nearly voted down, but Leslie resorts to a filibuster to save it.\",\n",
       "       u'Leslie invites a local reporter (Alison Becker) to write a story about the pit, but the interviews go badly. Fearful of a negative story, Leslie asks Mark to talk to the reporter, but is jealous after Mark sleeps with her. When Leslie confronts Mark, he angrily quits the pit subcommittee. Ann convinces Mark to make up with Leslie and dissuade the reporter from using much of her negative material. Although the story is still largely unfavorable, Leslie remains optimistic. Meanwhile, Tom tries to advance his career by purposely losing online Scrabble games to his boss, Ron.',\n",
       "       u\"As Andy cleans up the house to surprise Ann, Leslie tries to infiltrate the boys' club of politics by crashing an after-work gathering at Pawnee Town Hall. Trying to fit in, she opens a gift basket worth more than $25, breaking the local government ethics laws. She apologetically refers Pawnee officials to a website about the pit to highlight her accomplishments, but gets in more trouble when underage intern April Ludgate (Aubrey Plaza) posts a video of herself drinking on the site. Leslie is called before an ethics committee, but is let off with a warning after Ron, who despises the town's disciplinary process, defends her. Leslie is pleased when Mark tells her the warning officially makes her a member of the boys' club.\",\n",
       "       u\"During a banquet honoring her mother's public service, Leslie tries to convince a local zoning official to support her proposed park project. The official resists the idea, so Leslie's mother suggests Leslie blackmail her with information about her husband's drinking problem. Leslie reluctantly goes along with the idea, but soon becomes uncomfortable with the seamy side of politics and decides not to go through with it. Meanwhile, Tom and Mark ditch the festivities to pick up women at a bar, but Mark finds he preferred hanging out with Leslie and Ann at the banquet.\",\n",
       "       u'Leslie attends what she believes is a business meeting with an elderly local government bigwig, unaware that her mother has secretly set her up on a blind date. An angry Ann learns Andy could have had his leg casts removed weeks ago, but lied about them so Ann would keep pampering him. Mark, disillusioned with his career, makes a pass at Ann, which she harshly rejects. Leslie and Mark end up drinking beer together by the pit and Mark tries to kiss her, but she refuses because he is drunk. Mark stumbles into the pit.'], dtype=object)"
      ]
     },
     "execution_count": 23,
     "metadata": {},
     "output_type": "execute_result"
    }
   ],
   "source": [
    "episode_list['Description'].values"
   ]
  },
  {
   "cell_type": "markdown",
   "metadata": {},
   "source": [
    "Indexers can be used like slices. They have the brackets and colons, but they can also be used in conjunction with commas to indicate two dimensions. In the first example, we use our knowledge of slices on a DataFrame to separate content out in two different ways. We're also using the NumPy `.all()` method to verify that the two sections are equivalent. We can also check the number of entries by using the `.len()` method."
   ]
  },
  {
   "cell_type": "code",
   "execution_count": 24,
   "metadata": {},
   "outputs": [
    {
     "name": "stdout",
     "output_type": "stream",
     "text": [
      "True\n",
      "6\n",
      "6\n"
     ]
    }
   ],
   "source": [
    "print np.all(season[1::2].iloc[:,0] == season.iloc[1::2,0])\n",
    "print len(season[1::2].iloc[:,0])\n",
    "print len(season.iloc[1::2,0])"
   ]
  },
  {
   "cell_type": "code",
   "execution_count": 73,
   "metadata": {},
   "outputs": [
    {
     "data": {
      "text/html": [
       "<div>\n",
       "<style>\n",
       "    .dataframe thead tr:only-child th {\n",
       "        text-align: right;\n",
       "    }\n",
       "\n",
       "    .dataframe thead th {\n",
       "        text-align: left;\n",
       "    }\n",
       "\n",
       "    .dataframe tbody tr th {\n",
       "        vertical-align: top;\n",
       "    }\n",
       "</style>\n",
       "<table border=\"1\" class=\"dataframe\">\n",
       "  <thead>\n",
       "    <tr style=\"text-align: right;\">\n",
       "      <th></th>\n",
       "      <th>Title</th>\n",
       "      <th>Written by</th>\n",
       "    </tr>\n",
       "    <tr>\n",
       "      <th>No. overall</th>\n",
       "      <th></th>\n",
       "      <th></th>\n",
       "    </tr>\n",
       "  </thead>\n",
       "  <tbody>\n",
       "    <tr>\n",
       "      <th>3</th>\n",
       "      <td>\"The Reporter\"</td>\n",
       "      <td>Daniel J. Goor</td>\n",
       "    </tr>\n",
       "    <tr>\n",
       "      <th>4</th>\n",
       "      <td>\"Boys' Club\"</td>\n",
       "      <td>Alan Yang</td>\n",
       "    </tr>\n",
       "    <tr>\n",
       "      <th>5</th>\n",
       "      <td>\"The Banquet\"</td>\n",
       "      <td>Tucker Cawley</td>\n",
       "    </tr>\n",
       "  </tbody>\n",
       "</table>\n",
       "</div>"
      ],
      "text/plain": [
       "                      Title      Written by\n",
       "No. overall                                \n",
       "3            \"The Reporter\"  Daniel J. Goor\n",
       "4              \"Boys' Club\"       Alan Yang\n",
       "5             \"The Banquet\"   Tucker Cawley"
      ]
     },
     "execution_count": 73,
     "metadata": {},
     "output_type": "execute_result"
    }
   ],
   "source": [
    "# episode_list.iloc[2:4,1:5]\n",
    "# episode_list.iloc[2:5].loc[:,('Title','Written by')]"
   ]
  },
  {
   "cell_type": "markdown",
   "metadata": {},
   "source": [
    "In fact, all of these are functionally equivalent:"
   ]
  },
  {
   "cell_type": "code",
   "execution_count": 26,
   "metadata": {
    "scrolled": false
   },
   "outputs": [
    {
     "data": {
      "text/plain": [
       "No. overall\n",
       "1           \"Pilot\"\n",
       "2      \"Canvassing\"\n",
       "3    \"The Reporter\"\n",
       "4      \"Boys' Club\"\n",
       "5     \"The Banquet\"\n",
       "6      \"Rock Show\"†\n",
       "Name: Title, dtype: object"
      ]
     },
     "execution_count": 26,
     "metadata": {},
     "output_type": "execute_result"
    }
   ],
   "source": [
    "# .loc uses strings to locate cells\n",
    "episode_list.loc[:,'Title']\n",
    "\n",
    "# .iloc uses integers to locate cells\n",
    "episode_list.iloc[:,1] \n",
    "\n",
    "# .ix uses strings first, but can use integers if none are available. It's deprecated, so don't expect it to be here long.\n",
    "#episode_list.ix[:,'Title']\n",
    "\n",
    "#episode_list.ix[:,1]\n",
    "\n",
    "# alternatively, you can refer to the specific column head\n",
    "episode_list['Title']\n",
    "\n",
    "# or use dot notation (if there are no spaces in the column head).\n",
    "episode_list.Title"
   ]
  },
  {
   "cell_type": "code",
   "execution_count": 27,
   "metadata": {},
   "outputs": [
    {
     "data": {
      "text/html": [
       "<div>\n",
       "<style>\n",
       "    .dataframe thead tr:only-child th {\n",
       "        text-align: right;\n",
       "    }\n",
       "\n",
       "    .dataframe thead th {\n",
       "        text-align: left;\n",
       "    }\n",
       "\n",
       "    .dataframe tbody tr th {\n",
       "        vertical-align: top;\n",
       "    }\n",
       "</style>\n",
       "<table border=\"1\" class=\"dataframe\">\n",
       "  <thead>\n",
       "    <tr style=\"text-align: right;\">\n",
       "      <th></th>\n",
       "      <th>No. in season</th>\n",
       "      <th>Title</th>\n",
       "      <th>Directed by</th>\n",
       "      <th>Written by</th>\n",
       "      <th>Original air date</th>\n",
       "      <th>U.S. viewers (millions)</th>\n",
       "      <th>Description</th>\n",
       "    </tr>\n",
       "    <tr>\n",
       "      <th>No. overall</th>\n",
       "      <th></th>\n",
       "      <th></th>\n",
       "      <th></th>\n",
       "      <th></th>\n",
       "      <th></th>\n",
       "      <th></th>\n",
       "      <th></th>\n",
       "    </tr>\n",
       "  </thead>\n",
       "  <tbody>\n",
       "    <tr>\n",
       "      <th>1</th>\n",
       "      <td>1.0</td>\n",
       "      <td>\"Pilot\"</td>\n",
       "      <td>Greg Daniels</td>\n",
       "      <td>Greg Daniels &amp; Michael Schur</td>\n",
       "      <td>April 9, 2009 (2009-04-09)</td>\n",
       "      <td>6.77[1]</td>\n",
       "      <td>Ann Perkins (Rashida Jones) attends a town mee...</td>\n",
       "    </tr>\n",
       "    <tr>\n",
       "      <th>2</th>\n",
       "      <td>2.0</td>\n",
       "      <td>\"Canvassing\"</td>\n",
       "      <td>Seth Gordon</td>\n",
       "      <td>Rachel Axler</td>\n",
       "      <td>April 16, 2009 (2009-04-16)</td>\n",
       "      <td>5.92[2]</td>\n",
       "      <td>Leslie and the pit subcommittee canvas neighbo...</td>\n",
       "    </tr>\n",
       "    <tr>\n",
       "      <th>3</th>\n",
       "      <td>3.0</td>\n",
       "      <td>\"The Reporter\"</td>\n",
       "      <td>Jeffrey Blitz</td>\n",
       "      <td>Daniel J. Goor</td>\n",
       "      <td>April 23, 2009 (2009-04-23)</td>\n",
       "      <td>5.24[3]</td>\n",
       "      <td>Leslie invites a local reporter (Alison Becker...</td>\n",
       "    </tr>\n",
       "    <tr>\n",
       "      <th>4</th>\n",
       "      <td>4.0</td>\n",
       "      <td>\"Boys' Club\"</td>\n",
       "      <td>Michael McCullers</td>\n",
       "      <td>Alan Yang</td>\n",
       "      <td>April 30, 2009 (2009-04-30)</td>\n",
       "      <td>5.29[4]</td>\n",
       "      <td>As Andy cleans up the house to surprise Ann, L...</td>\n",
       "    </tr>\n",
       "    <tr>\n",
       "      <th>5</th>\n",
       "      <td>5.0</td>\n",
       "      <td>\"The Banquet\"</td>\n",
       "      <td>Beth McCarthy-Miller</td>\n",
       "      <td>Tucker Cawley</td>\n",
       "      <td>May 7, 2009 (2009-05-07)</td>\n",
       "      <td>4.64[5]</td>\n",
       "      <td>During a banquet honoring her mother's public ...</td>\n",
       "    </tr>\n",
       "    <tr>\n",
       "      <th>6</th>\n",
       "      <td>6.0</td>\n",
       "      <td>\"Rock Show\"†</td>\n",
       "      <td>Michael Schur</td>\n",
       "      <td>Norm Hiscock</td>\n",
       "      <td>May 14, 2009 (2009-05-14)</td>\n",
       "      <td>4.25[6]</td>\n",
       "      <td>Leslie attends what she believes is a business...</td>\n",
       "    </tr>\n",
       "  </tbody>\n",
       "</table>\n",
       "</div>"
      ],
      "text/plain": [
       "             No. in season           Title           Directed by  \\\n",
       "No. overall                                                        \n",
       "1                      1.0         \"Pilot\"          Greg Daniels   \n",
       "2                      2.0    \"Canvassing\"           Seth Gordon   \n",
       "3                      3.0  \"The Reporter\"         Jeffrey Blitz   \n",
       "4                      4.0    \"Boys' Club\"     Michael McCullers   \n",
       "5                      5.0   \"The Banquet\"  Beth McCarthy-Miller   \n",
       "6                      6.0    \"Rock Show\"†         Michael Schur   \n",
       "\n",
       "                               Written by            Original air date  \\\n",
       "No. overall                                                              \n",
       "1            Greg Daniels & Michael Schur   April 9, 2009 (2009-04-09)   \n",
       "2                            Rachel Axler  April 16, 2009 (2009-04-16)   \n",
       "3                          Daniel J. Goor  April 23, 2009 (2009-04-23)   \n",
       "4                               Alan Yang  April 30, 2009 (2009-04-30)   \n",
       "5                           Tucker Cawley     May 7, 2009 (2009-05-07)   \n",
       "6                            Norm Hiscock    May 14, 2009 (2009-05-14)   \n",
       "\n",
       "            U.S. viewers (millions)  \\\n",
       "No. overall                           \n",
       "1                           6.77[1]   \n",
       "2                           5.92[2]   \n",
       "3                           5.24[3]   \n",
       "4                           5.29[4]   \n",
       "5                           4.64[5]   \n",
       "6                           4.25[6]   \n",
       "\n",
       "                                                   Description  \n",
       "No. overall                                                     \n",
       "1            Ann Perkins (Rashida Jones) attends a town mee...  \n",
       "2            Leslie and the pit subcommittee canvas neighbo...  \n",
       "3            Leslie invites a local reporter (Alison Becker...  \n",
       "4            As Andy cleans up the house to surprise Ann, L...  \n",
       "5            During a banquet honoring her mother's public ...  \n",
       "6            Leslie attends what she believes is a business...  "
      ]
     },
     "execution_count": 27,
     "metadata": {},
     "output_type": "execute_result"
    }
   ],
   "source": [
    "episode_list"
   ]
  },
  {
   "cell_type": "markdown",
   "metadata": {},
   "source": [
    "Looking at the viewer numbers, they are formatted like this:\n",
    "\n",
    "`4.70[19]`\n",
    "\n",
    "Unfortunately, Pandas doesn't know what to do with this; the format isn't anything it recognizes. So, we're going to temporarily convert it to a string, and use some string methods on it. Specifically, we'll use the `.split()` method again. This time, however, there isn't a space to _split_ on. As we mentioned before, the `.split()` method allows you to split on a specified character - we'll use the open bracket, as it separates the number from the footnote."
   ]
  },
  {
   "cell_type": "code",
   "execution_count": 28,
   "metadata": {},
   "outputs": [
    {
     "data": {
      "text/plain": [
       "No. overall\n",
       "1    [6.77, 1]]\n",
       "2    [5.92, 2]]\n",
       "3    [5.24, 3]]\n",
       "4    [5.29, 4]]\n",
       "5    [4.64, 5]]\n",
       "6    [4.25, 6]]\n",
       "Name: U.S. viewers (millions), dtype: object"
      ]
     },
     "execution_count": 28,
     "metadata": {},
     "output_type": "execute_result"
    }
   ],
   "source": [
    "episode_list.iloc[:,5].str.split('[')"
   ]
  },
  {
   "cell_type": "markdown",
   "metadata": {},
   "source": [
    "The cells are each split into two values. The numbers before the '[', and everything else. We only care about the stuff in the front, so we'll grab it with (you guessed it) a slice. While we're at it, we're going to go ahead and convert everything to a float, so we can have a number with a decimal."
   ]
  },
  {
   "cell_type": "code",
   "execution_count": 29,
   "metadata": {
    "collapsed": true
   },
   "outputs": [],
   "source": [
    "episode_list.iloc[:,5] = episode_list.iloc[:,5].str.split('[').str[0].astype('Float32')"
   ]
  },
  {
   "cell_type": "markdown",
   "metadata": {},
   "source": [
    "And, since it is a number (specifically, a float) we can do math operations on it."
   ]
  },
  {
   "cell_type": "code",
   "execution_count": 30,
   "metadata": {},
   "outputs": [
    {
     "data": {
      "text/plain": [
       "5.264999866485596"
      ]
     },
     "execution_count": 30,
     "metadata": {},
     "output_type": "execute_result"
    }
   ],
   "source": [
    "episode_list.iloc[:,5].median()"
   ]
  },
  {
   "cell_type": "markdown",
   "metadata": {},
   "source": [
    "Now, we're going to use the .apply() method to apply a function to a column. We're going to convert the 'Original air date' column to a DateTime object. Pandas will try to see if there are ways to interpret the information in these cells as dates. First, let's look at the `pd.to_datetime` method."
   ]
  },
  {
   "cell_type": "code",
   "execution_count": 31,
   "metadata": {
    "collapsed": true
   },
   "outputs": [],
   "source": [
    "#pd.to_datetime?"
   ]
  },
  {
   "cell_type": "code",
   "execution_count": 32,
   "metadata": {},
   "outputs": [
    {
     "data": {
      "text/plain": [
       "No. overall\n",
       "1     April 9, 2009 (2009-04-09)\n",
       "2    April 16, 2009 (2009-04-16)\n",
       "3    April 23, 2009 (2009-04-23)\n",
       "4    April 30, 2009 (2009-04-30)\n",
       "5       May 7, 2009 (2009-05-07)\n",
       "6      May 14, 2009 (2009-05-14)\n",
       "Name: Original air date, dtype: object"
      ]
     },
     "execution_count": 32,
     "metadata": {},
     "output_type": "execute_result"
    }
   ],
   "source": [
    "episode_list['Original air date']"
   ]
  },
  {
   "cell_type": "markdown",
   "metadata": {},
   "source": [
    "This information, `May 14, 2009 (2009-05-14)`, while apparent to us, does not look like a date to Python or Pandas, so we'll use a similar command to break it up and turn it into something useful. We only care about something in a date format, and we have a choice of two basic areas to select. While the part at the beginning looks simple, it's easier to get the information inside of the parentheses, as it is the same length, and in the same position. I don't know about you, but I'm thinking slices.\n",
    "\n",
    "*we'll be coming back here later...*"
   ]
  },
  {
   "cell_type": "code",
   "execution_count": 33,
   "metadata": {
    "collapsed": true
   },
   "outputs": [],
   "source": [
    "episode_list['Original air date'] = episode_list['Original air date'].str[-11:-1].apply(pd.to_datetime)"
   ]
  },
  {
   "cell_type": "code",
   "execution_count": 34,
   "metadata": {},
   "outputs": [
    {
     "data": {
      "text/plain": [
       "No. overall\n",
       "1   2009-04-09\n",
       "2   2009-04-16\n",
       "3   2009-04-23\n",
       "4   2009-04-30\n",
       "5   2009-05-07\n",
       "6   2009-05-14\n",
       "Name: Original air date, dtype: datetime64[ns]"
      ]
     },
     "execution_count": 34,
     "metadata": {},
     "output_type": "execute_result"
    }
   ],
   "source": [
    "episode_list['Original air date']"
   ]
  },
  {
   "cell_type": "markdown",
   "metadata": {},
   "source": [
    "Now, let's do some graphing!\n",
    "\n",
    "First, we'll tell jupyter that we want to do the graphs inline, and then we'll import another library."
   ]
  },
  {
   "cell_type": "code",
   "execution_count": 35,
   "metadata": {
    "collapsed": true
   },
   "outputs": [],
   "source": [
    "%matplotlib inline\n",
    "import matplotlib.pyplot as plt"
   ]
  },
  {
   "cell_type": "markdown",
   "metadata": {},
   "source": [
    "Graphing can be as simple as using the `.plot()` method."
   ]
  },
  {
   "cell_type": "code",
   "execution_count": 36,
   "metadata": {
    "scrolled": true
   },
   "outputs": [
    {
     "data": {
      "image/png": "[encoded data removed]",
      "text/plain": [
       "<matplotlib.figure.Figure at 0xad09208>"
      ]
     },
     "metadata": {},
     "output_type": "display_data"
    }
   ],
   "source": [
    "episode_list.iloc[:,5:7].plot();"
   ]
  },
  {
   "cell_type": "markdown",
   "metadata": {},
   "source": [
    "But what if we want to get really fancy? PyPlot has some really excellent features. We can append this stuff to the default figure 1."
   ]
  },
  {
   "cell_type": "code",
   "execution_count": 37,
   "metadata": {
    "collapsed": true
   },
   "outputs": [],
   "source": [
    "#plt.plot?"
   ]
  },
  {
   "cell_type": "code",
   "execution_count": 38,
   "metadata": {},
   "outputs": [
    {
     "name": "stdout",
     "output_type": "stream",
     "text": [
      "<class 'pandas.core.series.Series'>\n",
      "<type 'numpy.ndarray'>\n"
     ]
    }
   ],
   "source": [
    "print type(episode_list.iloc[:,1])\n",
    "print type(episode_list.iloc[:,1].values)"
   ]
  },
  {
   "cell_type": "code",
   "execution_count": 39,
   "metadata": {
    "collapsed": true
   },
   "outputs": [],
   "source": [
    "#plt.xticks?"
   ]
  },
  {
   "cell_type": "code",
   "execution_count": 40,
   "metadata": {},
   "outputs": [
    {
     "data": {
      "image/png": "[encoded data removed]",
      "text/plain": [
       "<matplotlib.figure.Figure at 0xb6e1518>"
      ]
     },
     "metadata": {},
     "output_type": "display_data"
    }
   ],
   "source": [
    "episode_titles = episode_list.iloc[:,1].values\n",
    "episode_viewers = episode_list.iloc[:,5].values\n",
    "\n",
    "index = np.arange(len(episode_list))\n",
    "\n",
    "plt.figure(num=None, figsize=(16, 8), facecolor='w', edgecolor='k')\n",
    "plt.xlabel('Episode Titles')\n",
    "plt.title('Parks & Recreation Viewer Stats')\n",
    "plt.xticks(index,episode_titles,rotation=90)\n",
    "plt.ylabel('Viewers (in millions)')\n",
    "plt.plot(index, episode_viewers,'b',label='Viewers')\n",
    "plt.plot(pd.Series(episode_viewers).rolling(window=3).mean(),'r',label='Rolling Mean')\n",
    "plt.grid()\n",
    "\n",
    "plt.legend(); # the semicolon here just removes the command output."
   ]
  }
 ],
 "metadata": {
  "anaconda-cloud": {},
  "kernelspec": {
   "display_name": "Python 2",
   "language": "python",
   "name": "python2"
  },
  "language_info": {
   "codemirror_mode": {
    "name": "ipython",
    "version": 2
   },
   "file_extension": ".py",
   "mimetype": "text/x-python",
   "name": "python",
   "nbconvert_exporter": "python",
   "pygments_lexer": "ipython2",
   "version": "2.7.13"
  }
 },
 "nbformat": 4,
 "nbformat_minor": 1
}
