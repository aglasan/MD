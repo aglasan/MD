{
 "cells": [
  {
   "cell_type": "markdown",
   "metadata": {},
   "source": [
    "Quick Data!\n",
    "---"
   ]
  },
  {
   "cell_type": "markdown",
   "metadata": {},
   "source": [
    "Now, as a \"fun\" exercise, we're just going to go quickly through some of the stuff we covered earlier to demonstrate how Python, Pandas, NumPy and MatPlotLib can work together. I don't know how you spend your evenings, but me? I like to check out datasets on data.gov!"
   ]
  },
  {
   "cell_type": "markdown",
   "metadata": {},
   "source": [
    "Standard library imports..."
   ]
  },
  {
   "cell_type": "code",
   "execution_count": 1,
   "metadata": {
    "collapsed": true
   },
   "outputs": [],
   "source": [
    "import pandas as pd\n",
    "import numpy as np\n",
    "import matplotlib.pyplot as plt\n",
    "%matplotlib inline"
   ]
  },
  {
   "cell_type": "markdown",
   "metadata": {},
   "source": [
    "Here's a simple CSV file showing some power usage for zip codes over time. I've added the URL in case the file gets corrupted. Please feel free to download your own, though the column and row names (not to mention Series and DataFrame sizes may be different)."
   ]
  },
  {
   "cell_type": "code",
   "execution_count": 2,
   "metadata": {
    "collapsed": true
   },
   "outputs": [],
   "source": [
    "pd.read_csv?"
   ]
  },
  {
   "cell_type": "code",
   "execution_count": 3,
   "metadata": {
    "scrolled": true
   },
   "outputs": [
    {
     "data": {
      "text/plain": [
       "array(['FY 05/06', 'FY 06/07', 'FY 07/08', 'FY 08/09', 'FY 09/10',\n",
       "       'FY 10/11', 'FY 11/12', 'FY 12/13', 'Location 1'], dtype=object)"
      ]
     },
     "execution_count": 3,
     "metadata": {},
     "output_type": "execute_result"
    }
   ],
   "source": [
    "# http://catalog.data.gov/dataset/average-monthly-residential-energy-usage-by-zip-code-0487d\n",
    "power_data = pd.read_csv(r'Average_monthly_residential_energy_usage_By_zip_code.csv',header=0)\n",
    "power_data.columns.values"
   ]
  },
  {
   "cell_type": "markdown",
   "metadata": {},
   "source": [
    "This is here to remind us to look at the inline documentation for `pd.read_csv`."
   ]
  },
  {
   "cell_type": "code",
   "execution_count": 4,
   "metadata": {
    "collapsed": true
   },
   "outputs": [],
   "source": [
    "# pd.read_csv?"
   ]
  },
  {
   "cell_type": "markdown",
   "metadata": {},
   "source": [
    "Looking at the data in the column 'Location 1'. It's weirdly formatted, where it appears that there is a zip code, followed by some coordinates. "
   ]
  },
  {
   "cell_type": "code",
   "execution_count": 5,
   "metadata": {},
   "outputs": [
    {
     "data": {
      "text/plain": [
       "'90058\\n(34.00184426500044, -118.22112680399971)'"
      ]
     },
     "execution_count": 5,
     "metadata": {},
     "output_type": "execute_result"
    }
   ],
   "source": [
    "power_data.loc[0,'Location 1']"
   ]
  },
  {
   "cell_type": "markdown",
   "metadata": {},
   "source": [
    "We're not really interested in the coordinates (today), so let's grab what is presumably a zip code. We could use regular expressions, but since we're only ever looking at the first five characters, a simple slice will do."
   ]
  },
  {
   "cell_type": "code",
   "execution_count": 6,
   "metadata": {
    "collapsed": true
   },
   "outputs": [],
   "source": [
    "power_data['Location 1'] = power_data['Location 1'].str[:5]"
   ]
  },
  {
   "cell_type": "code",
   "execution_count": 7,
   "metadata": {
    "collapsed": true
   },
   "outputs": [],
   "source": [
    "power_data = power_data.set_index('Location 1')"
   ]
  },
  {
   "cell_type": "code",
   "execution_count": 8,
   "metadata": {
    "collapsed": true
   },
   "outputs": [],
   "source": [
    "power_data = power_data.sort_index()"
   ]
  },
  {
   "cell_type": "markdown",
   "metadata": {},
   "source": [
    "We'll change the index name to something more informative than 'Location 1'"
   ]
  },
  {
   "cell_type": "code",
   "execution_count": 9,
   "metadata": {
    "collapsed": true
   },
   "outputs": [],
   "source": [
    "power_data.index.name = 'Zip Code'"
   ]
  },
  {
   "cell_type": "markdown",
   "metadata": {},
   "source": [
    "Now, let's talk about `pd.date_range()`. This is a very powerful function within Pandas for creating ranges of dates."
   ]
  },
  {
   "cell_type": "code",
   "execution_count": 10,
   "metadata": {
    "collapsed": true
   },
   "outputs": [],
   "source": [
    "# pd.date_range?"
   ]
  },
  {
   "cell_type": "markdown",
   "metadata": {},
   "source": [
    "By default, `pd.date_range()` assumes a daily frequency:"
   ]
  },
  {
   "cell_type": "code",
   "execution_count": 11,
   "metadata": {
    "scrolled": true
   },
   "outputs": [
    {
     "data": {
      "text/plain": [
       "DatetimeIndex(['2005-01-01', '2005-01-02', '2005-01-03', '2005-01-04',\n",
       "               '2005-01-05', '2005-01-06', '2005-01-07', '2005-01-08',\n",
       "               '2005-01-09', '2005-01-10'],\n",
       "              dtype='datetime64[ns]', freq='D')"
      ]
     },
     "execution_count": 11,
     "metadata": {},
     "output_type": "execute_result"
    }
   ],
   "source": [
    "pd.date_range(start='01-01-2005',end='01-10-2005')"
   ]
  },
  {
   "cell_type": "markdown",
   "metadata": {},
   "source": [
    "in the information output, there's a *freq='D'*. This means that the frequency is 'Daily'. We could use other codes, such as 'A' for __A__nnually, 'M' for __M__onthly, or even 'H' for __H__ourly."
   ]
  },
  {
   "cell_type": "code",
   "execution_count": 12,
   "metadata": {},
   "outputs": [
    {
     "data": {
      "text/plain": [
       "DatetimeIndex(['2005-01-31', '2005-02-28', '2005-03-31', '2005-04-30',\n",
       "               '2005-05-31', '2005-06-30', '2005-07-31'],\n",
       "              dtype='datetime64[ns]', freq='M')"
      ]
     },
     "execution_count": 12,
     "metadata": {},
     "output_type": "execute_result"
    }
   ],
   "source": [
    "pd.date_range(start='01-01-2005',end='08-10-2005',freq='M')"
   ]
  },
  {
   "cell_type": "markdown",
   "metadata": {},
   "source": [
    "We can even specify when we want the repetition to occur. Below, we're using 'AS-JAN'. This means the frequency is __A__nnual,  __S__tarting on __JAN__uary 1st."
   ]
  },
  {
   "cell_type": "code",
   "execution_count": 13,
   "metadata": {},
   "outputs": [
    {
     "data": {
      "text/plain": [
       "DatetimeIndex(['2005-01-01', '2006-01-01', '2007-01-01', '2008-01-01',\n",
       "               '2009-01-01', '2010-01-01', '2011-01-01', '2012-01-01'],\n",
       "              dtype='datetime64[ns]', freq='AS-JAN')"
      ]
     },
     "execution_count": 13,
     "metadata": {},
     "output_type": "execute_result"
    }
   ],
   "source": [
    "pd.date_range(start='01-01-2005',end='01-01-2012',freq='AS-JAN')"
   ]
  },
  {
   "cell_type": "code",
   "execution_count": 14,
   "metadata": {
    "collapsed": true
   },
   "outputs": [],
   "source": [
    "dateColumnNames = pd.date_range(start='01-01-2005',end='01-01-2012',freq='AS-JAN')"
   ]
  },
  {
   "cell_type": "markdown",
   "metadata": {},
   "source": [
    "It may seem a little repetitive to then bring it back to a string for processing, but this is largely an exercise, so we're just going to convert to a string, and just use the year for simplicity.\n",
    "\n",
    "_NOTE: this functionality may cause an error unless you are using a current version of Pandas/NumPy._"
   ]
  },
  {
   "cell_type": "code",
   "execution_count": 15,
   "metadata": {},
   "outputs": [
    {
     "data": {
      "text/plain": [
       "DatetimeIndex(['2005-01-01', '2006-01-01', '2007-01-01', '2008-01-01',\n",
       "               '2009-01-01', '2010-01-01', '2011-01-01', '2012-01-01'],\n",
       "              dtype='datetime64[ns]', freq='AS-JAN')"
      ]
     },
     "execution_count": 15,
     "metadata": {},
     "output_type": "execute_result"
    }
   ],
   "source": [
    "# strftime.org\n",
    "dateColumnNames"
   ]
  },
  {
   "cell_type": "code",
   "execution_count": 16,
   "metadata": {
    "collapsed": true
   },
   "outputs": [],
   "source": [
    "power_data.columns = dateColumnNames.strftime('%Y')"
   ]
  },
  {
   "cell_type": "code",
   "execution_count": 17,
   "metadata": {
    "collapsed": true
   },
   "outputs": [],
   "source": [
    "power_data['Average'] = power_data.mean(axis=1)"
   ]
  },
  {
   "cell_type": "code",
   "execution_count": 18,
   "metadata": {},
   "outputs": [
    {
     "data": {
      "text/html": [
       "<div>\n",
       "<style>\n",
       "    .dataframe thead tr:only-child th {\n",
       "        text-align: right;\n",
       "    }\n",
       "\n",
       "    .dataframe thead th {\n",
       "        text-align: left;\n",
       "    }\n",
       "\n",
       "    .dataframe tbody tr th {\n",
       "        vertical-align: top;\n",
       "    }\n",
       "</style>\n",
       "<table border=\"1\" class=\"dataframe\">\n",
       "  <thead>\n",
       "    <tr style=\"text-align: right;\">\n",
       "      <th></th>\n",
       "      <th>2005</th>\n",
       "      <th>2006</th>\n",
       "      <th>2007</th>\n",
       "      <th>2008</th>\n",
       "      <th>2009</th>\n",
       "      <th>2010</th>\n",
       "      <th>2011</th>\n",
       "      <th>2012</th>\n",
       "      <th>Average</th>\n",
       "    </tr>\n",
       "    <tr>\n",
       "      <th>Zip Code</th>\n",
       "      <th></th>\n",
       "      <th></th>\n",
       "      <th></th>\n",
       "      <th></th>\n",
       "      <th></th>\n",
       "      <th></th>\n",
       "      <th></th>\n",
       "      <th></th>\n",
       "      <th></th>\n",
       "    </tr>\n",
       "  </thead>\n",
       "  <tbody>\n",
       "    <tr>\n",
       "      <th>90001</th>\n",
       "      <td>334</td>\n",
       "      <td>343</td>\n",
       "      <td>345</td>\n",
       "      <td>336</td>\n",
       "      <td>336</td>\n",
       "      <td>330</td>\n",
       "      <td>329</td>\n",
       "      <td>341</td>\n",
       "      <td>336.750</td>\n",
       "    </tr>\n",
       "    <tr>\n",
       "      <th>90002</th>\n",
       "      <td>358</td>\n",
       "      <td>368</td>\n",
       "      <td>367</td>\n",
       "      <td>353</td>\n",
       "      <td>352</td>\n",
       "      <td>351</td>\n",
       "      <td>346</td>\n",
       "      <td>355</td>\n",
       "      <td>356.250</td>\n",
       "    </tr>\n",
       "    <tr>\n",
       "      <th>90003</th>\n",
       "      <td>316</td>\n",
       "      <td>323</td>\n",
       "      <td>328</td>\n",
       "      <td>321</td>\n",
       "      <td>316</td>\n",
       "      <td>313</td>\n",
       "      <td>312</td>\n",
       "      <td>317</td>\n",
       "      <td>318.250</td>\n",
       "    </tr>\n",
       "    <tr>\n",
       "      <th>90004</th>\n",
       "      <td>378</td>\n",
       "      <td>387</td>\n",
       "      <td>391</td>\n",
       "      <td>380</td>\n",
       "      <td>370</td>\n",
       "      <td>363</td>\n",
       "      <td>357</td>\n",
       "      <td>373</td>\n",
       "      <td>374.875</td>\n",
       "    </tr>\n",
       "    <tr>\n",
       "      <th>90005</th>\n",
       "      <td>320</td>\n",
       "      <td>328</td>\n",
       "      <td>326</td>\n",
       "      <td>315</td>\n",
       "      <td>313</td>\n",
       "      <td>310</td>\n",
       "      <td>307</td>\n",
       "      <td>309</td>\n",
       "      <td>316.000</td>\n",
       "    </tr>\n",
       "    <tr>\n",
       "      <th>90006</th>\n",
       "      <td>254</td>\n",
       "      <td>262</td>\n",
       "      <td>262</td>\n",
       "      <td>258</td>\n",
       "      <td>255</td>\n",
       "      <td>253</td>\n",
       "      <td>254</td>\n",
       "      <td>261</td>\n",
       "      <td>257.375</td>\n",
       "    </tr>\n",
       "    <tr>\n",
       "      <th>90007</th>\n",
       "      <td>298</td>\n",
       "      <td>306</td>\n",
       "      <td>313</td>\n",
       "      <td>305</td>\n",
       "      <td>294</td>\n",
       "      <td>275</td>\n",
       "      <td>276</td>\n",
       "      <td>285</td>\n",
       "      <td>294.000</td>\n",
       "    </tr>\n",
       "    <tr>\n",
       "      <th>90008</th>\n",
       "      <td>373</td>\n",
       "      <td>381</td>\n",
       "      <td>379</td>\n",
       "      <td>371</td>\n",
       "      <td>360</td>\n",
       "      <td>356</td>\n",
       "      <td>351</td>\n",
       "      <td>351</td>\n",
       "      <td>365.250</td>\n",
       "    </tr>\n",
       "    <tr>\n",
       "      <th>90009</th>\n",
       "      <td>370</td>\n",
       "      <td>444</td>\n",
       "      <td>490</td>\n",
       "      <td>537</td>\n",
       "      <td>202</td>\n",
       "      <td>328</td>\n",
       "      <td>276</td>\n",
       "      <td>258</td>\n",
       "      <td>363.125</td>\n",
       "    </tr>\n",
       "    <tr>\n",
       "      <th>90010</th>\n",
       "      <td>466</td>\n",
       "      <td>250</td>\n",
       "      <td>329</td>\n",
       "      <td>362</td>\n",
       "      <td>378</td>\n",
       "      <td>388</td>\n",
       "      <td>382</td>\n",
       "      <td>395</td>\n",
       "      <td>368.750</td>\n",
       "    </tr>\n",
       "    <tr>\n",
       "      <th>90011</th>\n",
       "      <td>299</td>\n",
       "      <td>309</td>\n",
       "      <td>311</td>\n",
       "      <td>308</td>\n",
       "      <td>302</td>\n",
       "      <td>299</td>\n",
       "      <td>296</td>\n",
       "      <td>304</td>\n",
       "      <td>303.500</td>\n",
       "    </tr>\n",
       "    <tr>\n",
       "      <th>90012</th>\n",
       "      <td>285</td>\n",
       "      <td>291</td>\n",
       "      <td>283</td>\n",
       "      <td>283</td>\n",
       "      <td>278</td>\n",
       "      <td>273</td>\n",
       "      <td>275</td>\n",
       "      <td>287</td>\n",
       "      <td>281.875</td>\n",
       "    </tr>\n",
       "    <tr>\n",
       "      <th>90013</th>\n",
       "      <td>256</td>\n",
       "      <td>285</td>\n",
       "      <td>270</td>\n",
       "      <td>330</td>\n",
       "      <td>304</td>\n",
       "      <td>319</td>\n",
       "      <td>328</td>\n",
       "      <td>354</td>\n",
       "      <td>305.750</td>\n",
       "    </tr>\n",
       "    <tr>\n",
       "      <th>90014</th>\n",
       "      <td>267</td>\n",
       "      <td>281</td>\n",
       "      <td>286</td>\n",
       "      <td>257</td>\n",
       "      <td>301</td>\n",
       "      <td>288</td>\n",
       "      <td>300</td>\n",
       "      <td>340</td>\n",
       "      <td>290.000</td>\n",
       "    </tr>\n",
       "    <tr>\n",
       "      <th>90015</th>\n",
       "      <td>251</td>\n",
       "      <td>280</td>\n",
       "      <td>276</td>\n",
       "      <td>274</td>\n",
       "      <td>255</td>\n",
       "      <td>262</td>\n",
       "      <td>267</td>\n",
       "      <td>279</td>\n",
       "      <td>268.000</td>\n",
       "    </tr>\n",
       "    <tr>\n",
       "      <th>90016</th>\n",
       "      <td>338</td>\n",
       "      <td>345</td>\n",
       "      <td>347</td>\n",
       "      <td>341</td>\n",
       "      <td>336</td>\n",
       "      <td>331</td>\n",
       "      <td>329</td>\n",
       "      <td>331</td>\n",
       "      <td>337.250</td>\n",
       "    </tr>\n",
       "    <tr>\n",
       "      <th>90017</th>\n",
       "      <td>229</td>\n",
       "      <td>227</td>\n",
       "      <td>249</td>\n",
       "      <td>252</td>\n",
       "      <td>244</td>\n",
       "      <td>233</td>\n",
       "      <td>230</td>\n",
       "      <td>236</td>\n",
       "      <td>237.500</td>\n",
       "    </tr>\n",
       "    <tr>\n",
       "      <th>90018</th>\n",
       "      <td>332</td>\n",
       "      <td>341</td>\n",
       "      <td>345</td>\n",
       "      <td>337</td>\n",
       "      <td>329</td>\n",
       "      <td>325</td>\n",
       "      <td>324</td>\n",
       "      <td>329</td>\n",
       "      <td>332.750</td>\n",
       "    </tr>\n",
       "    <tr>\n",
       "      <th>90019</th>\n",
       "      <td>338</td>\n",
       "      <td>348</td>\n",
       "      <td>353</td>\n",
       "      <td>345</td>\n",
       "      <td>336</td>\n",
       "      <td>332</td>\n",
       "      <td>331</td>\n",
       "      <td>334</td>\n",
       "      <td>339.625</td>\n",
       "    </tr>\n",
       "    <tr>\n",
       "      <th>90020</th>\n",
       "      <td>352</td>\n",
       "      <td>360</td>\n",
       "      <td>366</td>\n",
       "      <td>350</td>\n",
       "      <td>341</td>\n",
       "      <td>336</td>\n",
       "      <td>326</td>\n",
       "      <td>340</td>\n",
       "      <td>346.375</td>\n",
       "    </tr>\n",
       "    <tr>\n",
       "      <th>90021</th>\n",
       "      <td>410</td>\n",
       "      <td>350</td>\n",
       "      <td>420</td>\n",
       "      <td>384</td>\n",
       "      <td>399</td>\n",
       "      <td>404</td>\n",
       "      <td>414</td>\n",
       "      <td>433</td>\n",
       "      <td>401.750</td>\n",
       "    </tr>\n",
       "    <tr>\n",
       "      <th>90023</th>\n",
       "      <td>329</td>\n",
       "      <td>339</td>\n",
       "      <td>338</td>\n",
       "      <td>335</td>\n",
       "      <td>328</td>\n",
       "      <td>326</td>\n",
       "      <td>324</td>\n",
       "      <td>333</td>\n",
       "      <td>331.500</td>\n",
       "    </tr>\n",
       "    <tr>\n",
       "      <th>90024</th>\n",
       "      <td>590</td>\n",
       "      <td>602</td>\n",
       "      <td>594</td>\n",
       "      <td>586</td>\n",
       "      <td>558</td>\n",
       "      <td>545</td>\n",
       "      <td>534</td>\n",
       "      <td>551</td>\n",
       "      <td>570.000</td>\n",
       "    </tr>\n",
       "    <tr>\n",
       "      <th>90025</th>\n",
       "      <td>371</td>\n",
       "      <td>381</td>\n",
       "      <td>388</td>\n",
       "      <td>374</td>\n",
       "      <td>361</td>\n",
       "      <td>354</td>\n",
       "      <td>351</td>\n",
       "      <td>359</td>\n",
       "      <td>367.375</td>\n",
       "    </tr>\n",
       "    <tr>\n",
       "      <th>90026</th>\n",
       "      <td>306</td>\n",
       "      <td>317</td>\n",
       "      <td>316</td>\n",
       "      <td>313</td>\n",
       "      <td>311</td>\n",
       "      <td>304</td>\n",
       "      <td>296</td>\n",
       "      <td>308</td>\n",
       "      <td>308.875</td>\n",
       "    </tr>\n",
       "    <tr>\n",
       "      <th>90027</th>\n",
       "      <td>379</td>\n",
       "      <td>388</td>\n",
       "      <td>396</td>\n",
       "      <td>388</td>\n",
       "      <td>376</td>\n",
       "      <td>368</td>\n",
       "      <td>361</td>\n",
       "      <td>380</td>\n",
       "      <td>379.500</td>\n",
       "    </tr>\n",
       "    <tr>\n",
       "      <th>90028</th>\n",
       "      <td>289</td>\n",
       "      <td>298</td>\n",
       "      <td>305</td>\n",
       "      <td>297</td>\n",
       "      <td>271</td>\n",
       "      <td>281</td>\n",
       "      <td>274</td>\n",
       "      <td>293</td>\n",
       "      <td>288.500</td>\n",
       "    </tr>\n",
       "    <tr>\n",
       "      <th>90029</th>\n",
       "      <td>269</td>\n",
       "      <td>279</td>\n",
       "      <td>283</td>\n",
       "      <td>278</td>\n",
       "      <td>269</td>\n",
       "      <td>265</td>\n",
       "      <td>261</td>\n",
       "      <td>270</td>\n",
       "      <td>271.750</td>\n",
       "    </tr>\n",
       "    <tr>\n",
       "      <th>90031</th>\n",
       "      <td>317</td>\n",
       "      <td>324</td>\n",
       "      <td>335</td>\n",
       "      <td>326</td>\n",
       "      <td>320</td>\n",
       "      <td>318</td>\n",
       "      <td>319</td>\n",
       "      <td>334</td>\n",
       "      <td>324.125</td>\n",
       "    </tr>\n",
       "    <tr>\n",
       "      <th>90032</th>\n",
       "      <td>364</td>\n",
       "      <td>373</td>\n",
       "      <td>385</td>\n",
       "      <td>373</td>\n",
       "      <td>366</td>\n",
       "      <td>360</td>\n",
       "      <td>352</td>\n",
       "      <td>373</td>\n",
       "      <td>368.250</td>\n",
       "    </tr>\n",
       "    <tr>\n",
       "      <th>...</th>\n",
       "      <td>...</td>\n",
       "      <td>...</td>\n",
       "      <td>...</td>\n",
       "      <td>...</td>\n",
       "      <td>...</td>\n",
       "      <td>...</td>\n",
       "      <td>...</td>\n",
       "      <td>...</td>\n",
       "      <td>...</td>\n",
       "    </tr>\n",
       "    <tr>\n",
       "      <th>91325</th>\n",
       "      <td>694</td>\n",
       "      <td>713</td>\n",
       "      <td>719</td>\n",
       "      <td>692</td>\n",
       "      <td>660</td>\n",
       "      <td>629</td>\n",
       "      <td>638</td>\n",
       "      <td>658</td>\n",
       "      <td>675.375</td>\n",
       "    </tr>\n",
       "    <tr>\n",
       "      <th>91326</th>\n",
       "      <td>885</td>\n",
       "      <td>892</td>\n",
       "      <td>873</td>\n",
       "      <td>848</td>\n",
       "      <td>804</td>\n",
       "      <td>774</td>\n",
       "      <td>750</td>\n",
       "      <td>805</td>\n",
       "      <td>828.875</td>\n",
       "    </tr>\n",
       "    <tr>\n",
       "      <th>91330</th>\n",
       "      <td>261</td>\n",
       "      <td>262</td>\n",
       "      <td>271</td>\n",
       "      <td>259</td>\n",
       "      <td>221</td>\n",
       "      <td>205</td>\n",
       "      <td>200</td>\n",
       "      <td>221</td>\n",
       "      <td>237.500</td>\n",
       "    </tr>\n",
       "    <tr>\n",
       "      <th>91331</th>\n",
       "      <td>518</td>\n",
       "      <td>534</td>\n",
       "      <td>545</td>\n",
       "      <td>538</td>\n",
       "      <td>520</td>\n",
       "      <td>513</td>\n",
       "      <td>515</td>\n",
       "      <td>552</td>\n",
       "      <td>529.375</td>\n",
       "    </tr>\n",
       "    <tr>\n",
       "      <th>91335</th>\n",
       "      <td>549</td>\n",
       "      <td>569</td>\n",
       "      <td>577</td>\n",
       "      <td>568</td>\n",
       "      <td>541</td>\n",
       "      <td>520</td>\n",
       "      <td>538</td>\n",
       "      <td>560</td>\n",
       "      <td>552.750</td>\n",
       "    </tr>\n",
       "    <tr>\n",
       "      <th>91340</th>\n",
       "      <td>521</td>\n",
       "      <td>539</td>\n",
       "      <td>545</td>\n",
       "      <td>544</td>\n",
       "      <td>530</td>\n",
       "      <td>523</td>\n",
       "      <td>533</td>\n",
       "      <td>568</td>\n",
       "      <td>537.875</td>\n",
       "    </tr>\n",
       "    <tr>\n",
       "      <th>91342</th>\n",
       "      <td>599</td>\n",
       "      <td>609</td>\n",
       "      <td>611</td>\n",
       "      <td>613</td>\n",
       "      <td>581</td>\n",
       "      <td>569</td>\n",
       "      <td>577</td>\n",
       "      <td>605</td>\n",
       "      <td>595.500</td>\n",
       "    </tr>\n",
       "    <tr>\n",
       "      <th>91343</th>\n",
       "      <td>596</td>\n",
       "      <td>614</td>\n",
       "      <td>621</td>\n",
       "      <td>601</td>\n",
       "      <td>578</td>\n",
       "      <td>553</td>\n",
       "      <td>568</td>\n",
       "      <td>600</td>\n",
       "      <td>591.375</td>\n",
       "    </tr>\n",
       "    <tr>\n",
       "      <th>91344</th>\n",
       "      <td>791</td>\n",
       "      <td>819</td>\n",
       "      <td>826</td>\n",
       "      <td>805</td>\n",
       "      <td>771</td>\n",
       "      <td>730</td>\n",
       "      <td>743</td>\n",
       "      <td>775</td>\n",
       "      <td>782.500</td>\n",
       "    </tr>\n",
       "    <tr>\n",
       "      <th>91345</th>\n",
       "      <td>611</td>\n",
       "      <td>639</td>\n",
       "      <td>643</td>\n",
       "      <td>635</td>\n",
       "      <td>608</td>\n",
       "      <td>588</td>\n",
       "      <td>597</td>\n",
       "      <td>625</td>\n",
       "      <td>618.250</td>\n",
       "    </tr>\n",
       "    <tr>\n",
       "      <th>91352</th>\n",
       "      <td>528</td>\n",
       "      <td>541</td>\n",
       "      <td>554</td>\n",
       "      <td>550</td>\n",
       "      <td>531</td>\n",
       "      <td>517</td>\n",
       "      <td>521</td>\n",
       "      <td>559</td>\n",
       "      <td>537.625</td>\n",
       "    </tr>\n",
       "    <tr>\n",
       "      <th>91356</th>\n",
       "      <td>881</td>\n",
       "      <td>916</td>\n",
       "      <td>919</td>\n",
       "      <td>904</td>\n",
       "      <td>857</td>\n",
       "      <td>822</td>\n",
       "      <td>835</td>\n",
       "      <td>866</td>\n",
       "      <td>875.000</td>\n",
       "    </tr>\n",
       "    <tr>\n",
       "      <th>91364</th>\n",
       "      <td>936</td>\n",
       "      <td>960</td>\n",
       "      <td>962</td>\n",
       "      <td>957</td>\n",
       "      <td>904</td>\n",
       "      <td>876</td>\n",
       "      <td>875</td>\n",
       "      <td>920</td>\n",
       "      <td>923.750</td>\n",
       "    </tr>\n",
       "    <tr>\n",
       "      <th>91367</th>\n",
       "      <td>743</td>\n",
       "      <td>751</td>\n",
       "      <td>748</td>\n",
       "      <td>749</td>\n",
       "      <td>699</td>\n",
       "      <td>683</td>\n",
       "      <td>688</td>\n",
       "      <td>719</td>\n",
       "      <td>722.500</td>\n",
       "    </tr>\n",
       "    <tr>\n",
       "      <th>91401</th>\n",
       "      <td>541</td>\n",
       "      <td>562</td>\n",
       "      <td>572</td>\n",
       "      <td>559</td>\n",
       "      <td>538</td>\n",
       "      <td>515</td>\n",
       "      <td>521</td>\n",
       "      <td>549</td>\n",
       "      <td>544.625</td>\n",
       "    </tr>\n",
       "    <tr>\n",
       "      <th>91402</th>\n",
       "      <td>435</td>\n",
       "      <td>449</td>\n",
       "      <td>456</td>\n",
       "      <td>442</td>\n",
       "      <td>431</td>\n",
       "      <td>424</td>\n",
       "      <td>422</td>\n",
       "      <td>455</td>\n",
       "      <td>439.250</td>\n",
       "    </tr>\n",
       "    <tr>\n",
       "      <th>91403</th>\n",
       "      <td>666</td>\n",
       "      <td>681</td>\n",
       "      <td>696</td>\n",
       "      <td>672</td>\n",
       "      <td>641</td>\n",
       "      <td>629</td>\n",
       "      <td>628</td>\n",
       "      <td>658</td>\n",
       "      <td>658.875</td>\n",
       "    </tr>\n",
       "    <tr>\n",
       "      <th>91405</th>\n",
       "      <td>432</td>\n",
       "      <td>450</td>\n",
       "      <td>462</td>\n",
       "      <td>446</td>\n",
       "      <td>429</td>\n",
       "      <td>416</td>\n",
       "      <td>423</td>\n",
       "      <td>450</td>\n",
       "      <td>438.500</td>\n",
       "    </tr>\n",
       "    <tr>\n",
       "      <th>91406</th>\n",
       "      <td>514</td>\n",
       "      <td>530</td>\n",
       "      <td>540</td>\n",
       "      <td>529</td>\n",
       "      <td>510</td>\n",
       "      <td>490</td>\n",
       "      <td>497</td>\n",
       "      <td>530</td>\n",
       "      <td>517.500</td>\n",
       "    </tr>\n",
       "    <tr>\n",
       "      <th>91411</th>\n",
       "      <td>457</td>\n",
       "      <td>464</td>\n",
       "      <td>477</td>\n",
       "      <td>466</td>\n",
       "      <td>446</td>\n",
       "      <td>432</td>\n",
       "      <td>435</td>\n",
       "      <td>464</td>\n",
       "      <td>455.125</td>\n",
       "    </tr>\n",
       "    <tr>\n",
       "      <th>91423</th>\n",
       "      <td>636</td>\n",
       "      <td>653</td>\n",
       "      <td>660</td>\n",
       "      <td>655</td>\n",
       "      <td>620</td>\n",
       "      <td>606</td>\n",
       "      <td>604</td>\n",
       "      <td>636</td>\n",
       "      <td>633.750</td>\n",
       "    </tr>\n",
       "    <tr>\n",
       "      <th>91436</th>\n",
       "      <td>1318</td>\n",
       "      <td>1353</td>\n",
       "      <td>1380</td>\n",
       "      <td>1305</td>\n",
       "      <td>1280</td>\n",
       "      <td>1215</td>\n",
       "      <td>1197</td>\n",
       "      <td>1279</td>\n",
       "      <td>1290.875</td>\n",
       "    </tr>\n",
       "    <tr>\n",
       "      <th>91504</th>\n",
       "      <td>558</td>\n",
       "      <td>574</td>\n",
       "      <td>577</td>\n",
       "      <td>571</td>\n",
       "      <td>554</td>\n",
       "      <td>530</td>\n",
       "      <td>522</td>\n",
       "      <td>565</td>\n",
       "      <td>556.375</td>\n",
       "    </tr>\n",
       "    <tr>\n",
       "      <th>91505</th>\n",
       "      <td>383</td>\n",
       "      <td>392</td>\n",
       "      <td>420</td>\n",
       "      <td>408</td>\n",
       "      <td>407</td>\n",
       "      <td>398</td>\n",
       "      <td>416</td>\n",
       "      <td>434</td>\n",
       "      <td>407.250</td>\n",
       "    </tr>\n",
       "    <tr>\n",
       "      <th>91601</th>\n",
       "      <td>403</td>\n",
       "      <td>402</td>\n",
       "      <td>408</td>\n",
       "      <td>412</td>\n",
       "      <td>394</td>\n",
       "      <td>389</td>\n",
       "      <td>395</td>\n",
       "      <td>413</td>\n",
       "      <td>402.000</td>\n",
       "    </tr>\n",
       "    <tr>\n",
       "      <th>91602</th>\n",
       "      <td>551</td>\n",
       "      <td>571</td>\n",
       "      <td>582</td>\n",
       "      <td>577</td>\n",
       "      <td>546</td>\n",
       "      <td>536</td>\n",
       "      <td>538</td>\n",
       "      <td>560</td>\n",
       "      <td>557.625</td>\n",
       "    </tr>\n",
       "    <tr>\n",
       "      <th>91604</th>\n",
       "      <td>699</td>\n",
       "      <td>721</td>\n",
       "      <td>729</td>\n",
       "      <td>708</td>\n",
       "      <td>676</td>\n",
       "      <td>662</td>\n",
       "      <td>663</td>\n",
       "      <td>703</td>\n",
       "      <td>695.125</td>\n",
       "    </tr>\n",
       "    <tr>\n",
       "      <th>91605</th>\n",
       "      <td>446</td>\n",
       "      <td>466</td>\n",
       "      <td>474</td>\n",
       "      <td>467</td>\n",
       "      <td>455</td>\n",
       "      <td>443</td>\n",
       "      <td>447</td>\n",
       "      <td>480</td>\n",
       "      <td>459.750</td>\n",
       "    </tr>\n",
       "    <tr>\n",
       "      <th>91606</th>\n",
       "      <td>428</td>\n",
       "      <td>448</td>\n",
       "      <td>457</td>\n",
       "      <td>452</td>\n",
       "      <td>435</td>\n",
       "      <td>419</td>\n",
       "      <td>428</td>\n",
       "      <td>450</td>\n",
       "      <td>439.625</td>\n",
       "    </tr>\n",
       "    <tr>\n",
       "      <th>91607</th>\n",
       "      <td>551</td>\n",
       "      <td>719</td>\n",
       "      <td>719</td>\n",
       "      <td>719</td>\n",
       "      <td>719</td>\n",
       "      <td>719</td>\n",
       "      <td>719</td>\n",
       "      <td>719</td>\n",
       "      <td>698.000</td>\n",
       "    </tr>\n",
       "  </tbody>\n",
       "</table>\n",
       "<p>125 rows × 9 columns</p>\n",
       "</div>"
      ],
      "text/plain": [
       "          2005  2006  2007  2008  2009  2010  2011  2012   Average\n",
       "Zip Code                                                          \n",
       "90001      334   343   345   336   336   330   329   341   336.750\n",
       "90002      358   368   367   353   352   351   346   355   356.250\n",
       "90003      316   323   328   321   316   313   312   317   318.250\n",
       "90004      378   387   391   380   370   363   357   373   374.875\n",
       "90005      320   328   326   315   313   310   307   309   316.000\n",
       "90006      254   262   262   258   255   253   254   261   257.375\n",
       "90007      298   306   313   305   294   275   276   285   294.000\n",
       "90008      373   381   379   371   360   356   351   351   365.250\n",
       "90009      370   444   490   537   202   328   276   258   363.125\n",
       "90010      466   250   329   362   378   388   382   395   368.750\n",
       "90011      299   309   311   308   302   299   296   304   303.500\n",
       "90012      285   291   283   283   278   273   275   287   281.875\n",
       "90013      256   285   270   330   304   319   328   354   305.750\n",
       "90014      267   281   286   257   301   288   300   340   290.000\n",
       "90015      251   280   276   274   255   262   267   279   268.000\n",
       "90016      338   345   347   341   336   331   329   331   337.250\n",
       "90017      229   227   249   252   244   233   230   236   237.500\n",
       "90018      332   341   345   337   329   325   324   329   332.750\n",
       "90019      338   348   353   345   336   332   331   334   339.625\n",
       "90020      352   360   366   350   341   336   326   340   346.375\n",
       "90021      410   350   420   384   399   404   414   433   401.750\n",
       "90023      329   339   338   335   328   326   324   333   331.500\n",
       "90024      590   602   594   586   558   545   534   551   570.000\n",
       "90025      371   381   388   374   361   354   351   359   367.375\n",
       "90026      306   317   316   313   311   304   296   308   308.875\n",
       "90027      379   388   396   388   376   368   361   380   379.500\n",
       "90028      289   298   305   297   271   281   274   293   288.500\n",
       "90029      269   279   283   278   269   265   261   270   271.750\n",
       "90031      317   324   335   326   320   318   319   334   324.125\n",
       "90032      364   373   385   373   366   360   352   373   368.250\n",
       "...        ...   ...   ...   ...   ...   ...   ...   ...       ...\n",
       "91325      694   713   719   692   660   629   638   658   675.375\n",
       "91326      885   892   873   848   804   774   750   805   828.875\n",
       "91330      261   262   271   259   221   205   200   221   237.500\n",
       "91331      518   534   545   538   520   513   515   552   529.375\n",
       "91335      549   569   577   568   541   520   538   560   552.750\n",
       "91340      521   539   545   544   530   523   533   568   537.875\n",
       "91342      599   609   611   613   581   569   577   605   595.500\n",
       "91343      596   614   621   601   578   553   568   600   591.375\n",
       "91344      791   819   826   805   771   730   743   775   782.500\n",
       "91345      611   639   643   635   608   588   597   625   618.250\n",
       "91352      528   541   554   550   531   517   521   559   537.625\n",
       "91356      881   916   919   904   857   822   835   866   875.000\n",
       "91364      936   960   962   957   904   876   875   920   923.750\n",
       "91367      743   751   748   749   699   683   688   719   722.500\n",
       "91401      541   562   572   559   538   515   521   549   544.625\n",
       "91402      435   449   456   442   431   424   422   455   439.250\n",
       "91403      666   681   696   672   641   629   628   658   658.875\n",
       "91405      432   450   462   446   429   416   423   450   438.500\n",
       "91406      514   530   540   529   510   490   497   530   517.500\n",
       "91411      457   464   477   466   446   432   435   464   455.125\n",
       "91423      636   653   660   655   620   606   604   636   633.750\n",
       "91436     1318  1353  1380  1305  1280  1215  1197  1279  1290.875\n",
       "91504      558   574   577   571   554   530   522   565   556.375\n",
       "91505      383   392   420   408   407   398   416   434   407.250\n",
       "91601      403   402   408   412   394   389   395   413   402.000\n",
       "91602      551   571   582   577   546   536   538   560   557.625\n",
       "91604      699   721   729   708   676   662   663   703   695.125\n",
       "91605      446   466   474   467   455   443   447   480   459.750\n",
       "91606      428   448   457   452   435   419   428   450   439.625\n",
       "91607      551   719   719   719   719   719   719   719   698.000\n",
       "\n",
       "[125 rows x 9 columns]"
      ]
     },
     "execution_count": 18,
     "metadata": {},
     "output_type": "execute_result"
    }
   ],
   "source": [
    "power_data"
   ]
  },
  {
   "cell_type": "code",
   "execution_count": 19,
   "metadata": {},
   "outputs": [
    {
     "data": {
      "text/plain": [
       "u'2012'"
      ]
     },
     "execution_count": 19,
     "metadata": {},
     "output_type": "execute_result"
    }
   ],
   "source": [
    "power_data.iloc[:,7].name"
   ]
  },
  {
   "cell_type": "code",
   "execution_count": 20,
   "metadata": {},
   "outputs": [
    {
     "data": {
      "text/plain": [
       "array(['90001', '90002', '90003', '90004', '90005', '90006', '90007',\n",
       "       '90008', '90009', '90010'], dtype=object)"
      ]
     },
     "execution_count": 20,
     "metadata": {},
     "output_type": "execute_result"
    }
   ],
   "source": [
    "power_data.index[0:10].values"
   ]
  },
  {
   "cell_type": "code",
   "execution_count": 21,
   "metadata": {
    "collapsed": true
   },
   "outputs": [],
   "source": [
    "plt.ylabel?"
   ]
  },
  {
   "cell_type": "code",
   "execution_count": 22,
   "metadata": {
    "scrolled": false
   },
   "outputs": [
    {
     "data": {
      "image/png": "[encoded data removed]",
      "text/plain": [
       "<matplotlib.figure.Figure at 0xa18ce10>"
      ]
     },
     "metadata": {},
     "output_type": "display_data"
    }
   ],
   "source": [
    "barWidth = .75\n",
    "samples_num = 12\n",
    "plt.figure(figsize=(12,8))\n",
    "plt.barh(np.arange(samples_num),power_data['Average'][0:samples_num],barWidth)\n",
    "\n",
    "plt.title('Power Consumption by Zip Code in Los Angeles')\n",
    "plt.xlabel('Usage in kWh')\n",
    "plt.ylabel('Zip Code')\n",
    "plt.yticks(np.arange(samples_num),power_data.index[0:samples_num],rotation=90,verticalalignment = 'center');"
   ]
  },
  {
   "cell_type": "code",
   "execution_count": 27,
   "metadata": {},
   "outputs": [
    {
     "data": {
      "image/png": "[encoded data removed]",
      "text/plain": [
       "<matplotlib.figure.Figure at 0xb45fda0>"
      ]
     },
     "metadata": {},
     "output_type": "display_data"
    }
   ],
   "source": [
    "startZip = 0\n",
    "samples = 10\n",
    "endZip = startZip + samples\n",
    "\n",
    "dataYear = '2012'\n",
    "\n",
    "index = np.arange(samples)\n",
    "powerZip = power_data.iloc[startZip:endZip].index.values\n",
    "barWidth = .2\n",
    "powerAvg = power_data.iloc[startZip:endZip].loc[:,'Average'].values\n",
    "powerYear = power_data.iloc[startZip:endZip].loc[:,dataYear].values\n",
    "\n",
    "power_chart = plt.figure(figsize=(16,8))\n",
    "power1 = plt.bar(index, powerAvg, barWidth, color='#f1c40f', label='Average')\n",
    "power2 = plt.bar(index + barWidth, powerYear, barWidth, color='#dc7633', label=dataYear)\n",
    "plt.xticks(index + barWidth/2, powerZip)\n",
    "plt.title('Power Consumption by Zip Code in Los Angeles')\n",
    "\n",
    "# don't forget to switch these, now that the bars are vertical:\n",
    "plt.ylabel('Usage in kWh')\n",
    "plt.xlabel('Zip Code')\n",
    "plt.legend(loc=0);"
   ]
  }
 ],
 "metadata": {
  "anaconda-cloud": {},
  "kernelspec": {
   "display_name": "Python 2",
   "language": "python",
   "name": "python2"
  },
  "language_info": {
   "codemirror_mode": {
    "name": "ipython",
    "version": 2
   },
   "file_extension": ".py",
   "mimetype": "text/x-python",
   "name": "python",
   "nbconvert_exporter": "python",
   "pygments_lexer": "ipython2",
   "version": "2.7.13"
  }
 },
 "nbformat": 4,
 "nbformat_minor": 1
}
