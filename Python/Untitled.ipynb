{
 "cells": [
  {
   "cell_type": "code",
   "execution_count": null,
   "metadata": {
    "collapsed": true
   },
   "outputs": [],
   "source": [
    "import re\n",
    "import datetime"
   ]
  },
  {
   "cell_type": "markdown",
   "metadata": {},
   "source": [
    "These are the imports that I used"
   ]
  },
  {
   "cell_type": "code",
   "execution_count": null,
   "metadata": {
    "collapsed": true
   },
   "outputs": [],
   "source": [
    "from datetime import date, timedelta\n",
    "dateYest = datetime.date.today() - timedelta(1)"
   ]
  },
  {
   "cell_type": "markdown",
   "metadata": {},
   "source": [
    "Here I am doing some date formatting"
   ]
  },
  {
   "cell_type": "code",
   "execution_count": null,
   "metadata": {
    "collapsed": true
   },
   "outputs": [],
   "source": [
    "#print dateYest\n",
    "dateYestFmt = dateYest.strftime(\"%y%m%d\")\n",
    "#dateYestFmt = \"170425\"\n",
    "#print dateYestFmt\n",
    "new_file = []\n",
    "logText = \"e:/ImportedLogs/LIBRES/ex\" + dateYestFmt + \".log\"\n",
    "# logEdit = \"./re161209.log\"\n",
    "logEdit = logText\n",
    "\n",
    "referString = r'^\\d{4}-\\d{2}-\\d{2}\\s\\d{2}\\:\\d{2}\\:\\d{2}\\s\\w+\\s(.+?)\\s.+?\\1.+?'\n",
    "p = re.compile(referString)\n",
    "\n",
    "with open(logText,'r') as f:\n",
    "   lines = f.readlines()\n",
    "       \n",
    "for line in lines:\n",
    "   match = re.search(referString,line)\n",
    "   if not match:\n",
    "      new_file.append(line)\n",
    "f.close()\n",
    "with open(logEdit,'w') as g:\n",
    "   g.seek(0)\n",
    "   g.writelines(new_file)"
   ]
  }
 ],
 "metadata": {
  "kernelspec": {
   "display_name": "Python 2",
   "language": "python",
   "name": "python2"
  },
  "language_info": {
   "codemirror_mode": {
    "name": "ipython",
    "version": 2
   },
   "file_extension": ".py",
   "mimetype": "text/x-python",
   "name": "python",
   "nbconvert_exporter": "python",
   "pygments_lexer": "ipython2",
   "version": "2.7.13"
  }
 },
 "nbformat": 4,
 "nbformat_minor": 2
}
